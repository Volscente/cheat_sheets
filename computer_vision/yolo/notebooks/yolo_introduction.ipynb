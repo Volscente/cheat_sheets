{
 "cells": [
  {
   "cell_type": "markdown",
   "id": "ccaca3a7-c8d0-4dba-9219-011fd83e323b",
   "metadata": {},
   "source": [
    "# Introduction\n",
    "\n",
    "Implement YOLO usage as explained in the [reference article](https://towardsdatascience.com/yolo-object-detection-with-opencv-and-python-21e50ac599e9).\n",
    "\n",
    "<br>\n",
    "\n",
    "The model has been trained over the [COCO Dataset](https://cocodataset.org/#home)."
   ]
  },
  {
   "cell_type": "code",
   "execution_count": 1,
   "id": "01978881-349a-4132-8aa2-afa4913d80a4",
   "metadata": {},
   "outputs": [],
   "source": [
    "# Import Standard Libraries\n",
    "import cv2\n",
    "import numpy as np\n",
    "import os\n",
    "from urllib.request import urlretrieve"
   ]
  },
  {
   "cell_type": "code",
   "execution_count": 2,
   "id": "911b345d-0771-4483-a70f-9b6ae0d8f951",
   "metadata": {},
   "outputs": [],
   "source": [
    "# Notebook variables\n",
    "sample_image_path = './../images/dog_image_1.jpeg'\n",
    "classes_path = './../files/yolov3_classes.txt'\n",
    "nn_config_path = './../files/yolov3.cfg'\n",
    "nn_weights_url = 'https://pjreddie.com/media/files/yolov3.weights'\n",
    "nn_weights_path = './../files/yolov3.weights'"
   ]
  },
  {
   "cell_type": "markdown",
   "id": "f510b96d-2c51-4b08-a856-4da6a440d948",
   "metadata": {},
   "source": [
    "# Read Data"
   ]
  },
  {
   "cell_type": "markdown",
   "id": "11754f8c-cafe-422b-9d86-c6aef3781129",
   "metadata": {},
   "source": [
    "## Image"
   ]
  },
  {
   "cell_type": "code",
   "execution_count": 3,
   "id": "621458eb-7e0b-4470-ab8d-79598a063d89",
   "metadata": {},
   "outputs": [],
   "source": [
    "# Read the image with OpenCV\n",
    "image = cv2.imread(sample_image_path)"
   ]
  },
  {
   "cell_type": "code",
   "execution_count": 4,
   "id": "380a6142-a2a7-4040-b8ca-025870408bcd",
   "metadata": {},
   "outputs": [
    {
     "data": {
      "text/plain": [
       "(576, 768, 3)"
      ]
     },
     "execution_count": 4,
     "metadata": {},
     "output_type": "execute_result"
    }
   ],
   "source": [
    "# The image is 576 x 768 dimension in pixels\n",
    "# It has 3 channels, since it is colored (RGB)\n",
    "image.shape"
   ]
  },
  {
   "cell_type": "code",
   "execution_count": 5,
   "id": "1613c106-1df4-419a-b6c9-5566bf8116e8",
   "metadata": {},
   "outputs": [],
   "source": [
    "# Compute image's width and height\n",
    "image_width = image.shape[1]\n",
    "image_height = image.shape[0]\n",
    "scale = 0.00392"
   ]
  },
  {
   "cell_type": "markdown",
   "id": "bc73f6b1-a7df-4199-97b4-a04895701d41",
   "metadata": {},
   "source": [
    " ## Classes"
   ]
  },
  {
   "cell_type": "code",
   "execution_count": 6,
   "id": "f99a8726-a792-48a3-8a59-c4ce3660a157",
   "metadata": {},
   "outputs": [],
   "source": [
    "# Open the classes file and extract the list of available classes\n",
    "with open(classes_path, 'r') as classes_file:\n",
    "    classes = [line.strip() for line in classes_file.readlines()]"
   ]
  },
  {
   "cell_type": "code",
   "execution_count": 7,
   "id": "fc679149-6448-48c1-8d02-29e3231683e5",
   "metadata": {},
   "outputs": [],
   "source": [
    "# generate different colors for each class \n",
    "class_colors = np.random.uniform(0, 255, size=(len(classes), 3))"
   ]
  },
  {
   "cell_type": "markdown",
   "id": "9e29cfdc-61da-4853-bd14-b2c780c6ad8e",
   "metadata": {},
   "source": [
    "## Neural Network\n",
    "\n",
    "The neural network is divided into two files:\n",
    "1. **yolov3.weights** - It contains the weights of the single neuron in the Neural Network\n",
    "2. **yolov3.cfg** - It contains the structure of the Neural Network"
   ]
  },
  {
   "cell_type": "code",
   "execution_count": 8,
   "id": "0baa1038-19c2-4b81-9917-96ed483442cc",
   "metadata": {},
   "outputs": [],
   "source": [
    "# Check whatever the 'yolov3.weights' file is not present and download it\n",
    "if not os.path.isfile(nn_weights_path):\n",
    "    \n",
    "    # Download 'yolov3.weights'\n",
    "    urlretrieve(nn_weights_url, nn_weights_path)"
   ]
  },
  {
   "cell_type": "markdown",
   "id": "eca8b0ff-ffc9-4828-8ead-d6f6cd7c92aa",
   "metadata": {},
   "source": [
    "# Model Definition"
   ]
  },
  {
   "cell_type": "markdown",
   "id": "945838ca-d5d8-4938-a864-010b4b6072f5",
   "metadata": {},
   "source": [
    "## Create the Neural Network"
   ]
  },
  {
   "cell_type": "code",
   "execution_count": 9,
   "id": "8b0c5f64-775e-44e3-aa00-71f66fc31f49",
   "metadata": {},
   "outputs": [],
   "source": [
    "# Read pr-trained model and configuration file if the required files are available\n",
    "if os.path.isfile(nn_weights_path) and os.path.isfile(nn_config_path):\n",
    "    \n",
    "    neural_network = cv2.dnn.readNet(nn_weights_path, nn_config_path)\n",
    "    \n",
    "else:\n",
    "    \n",
    "    print('Missing required files: yolov3.weights and yolov3.cfg')"
   ]
  },
  {
   "cell_type": "code",
   "execution_count": 21,
   "id": "77b61ddc-fb38-4db4-87cd-a9c40dcea670",
   "metadata": {},
   "outputs": [
    {
     "ename": "error",
     "evalue": "OpenCV(4.6.0) :-1: error: (-5:Bad argument) in function 'blobFromImage'\n> Overload resolution failed:\n>  - Argument 'scalefactor' can not be treated as a double\n>  - Argument 'scalefactor' can not be treated as a double\n",
     "output_type": "error",
     "traceback": [
      "\u001b[0;31m---------------------------------------------------------------------------\u001b[0m",
      "\u001b[0;31merror\u001b[0m                                     Traceback (most recent call last)",
      "Cell \u001b[0;32mIn [21], line 2\u001b[0m\n\u001b[1;32m      1\u001b[0m \u001b[38;5;66;03m# Create a 4-dimensional Blob from an image\u001b[39;00m\n\u001b[0;32m----> 2\u001b[0m blob_image \u001b[38;5;241m=\u001b[39m cv2\u001b[38;5;241m.\u001b[39mdnn\u001b[38;5;241m.\u001b[39mblobFromImage(image\u001b[38;5;241m=\u001b[39mimage, \n\u001b[1;32m      3\u001b[0m                                    size\u001b[38;5;241m=\u001b[39mscale, \n\u001b[1;32m      4\u001b[0m                                    mean\u001b[38;5;241m=\u001b[39m(\u001b[38;5;241m416\u001b[39m,\u001b[38;5;241m416\u001b[39m), \n\u001b[1;32m      5\u001b[0m                                    scalefactor\u001b[38;5;241m=\u001b[39m(\u001b[38;5;241m0\u001b[39m,\u001b[38;5;241m0\u001b[39m,\u001b[38;5;241m0\u001b[39m), \n\u001b[1;32m      6\u001b[0m                                    swapRB\u001b[38;5;241m=\u001b[39m\u001b[38;5;28;01mTrue\u001b[39;00m, \n\u001b[1;32m      7\u001b[0m                                    crop\u001b[38;5;241m=\u001b[39m\u001b[38;5;28;01mFalse\u001b[39;00m)\n",
      "\u001b[0;31merror\u001b[0m: OpenCV(4.6.0) :-1: error: (-5:Bad argument) in function 'blobFromImage'\n> Overload resolution failed:\n>  - Argument 'scalefactor' can not be treated as a double\n>  - Argument 'scalefactor' can not be treated as a double\n"
     ]
    }
   ],
   "source": [
    "# Create a 4-dimensional Blob from an image\n",
    "blob_image = cv2.dnn.blobFromImage(image=image, \n",
    "                                   size=scale, \n",
    "                                   mean=(416,416), \n",
    "                                   scale\n",
    "                                   scalefactor=(0,0,0), \n",
    "                                   swapRB=True, \n",
    "                                   crop=False)"
   ]
  },
  {
   "cell_type": "code",
   "execution_count": 19,
   "id": "2201e46a-e501-4b41-99b5-c9d7c0c5175f",
   "metadata": {},
   "outputs": [
    {
     "data": {
      "text/plain": [
       "(1, 3, 416, 416)"
      ]
     },
     "execution_count": 19,
     "metadata": {},
     "output_type": "execute_result"
    }
   ],
   "source": [
    "blob_image.shape"
   ]
  },
  {
   "cell_type": "code",
   "execution_count": null,
   "id": "15f14351-ca04-4529-9913-13318056b5d0",
   "metadata": {},
   "outputs": [],
   "source": []
  }
 ],
 "metadata": {
  "kernelspec": {
   "display_name": "Python 3 (ipykernel)",
   "language": "python",
   "name": "python3"
  },
  "language_info": {
   "codemirror_mode": {
    "name": "ipython",
    "version": 3
   },
   "file_extension": ".py",
   "mimetype": "text/x-python",
   "name": "python",
   "nbconvert_exporter": "python",
   "pygments_lexer": "ipython3",
   "version": "3.10.5"
  },
  "toc-autonumbering": false,
  "toc-showcode": false,
  "toc-showmarkdowntxt": false
 },
 "nbformat": 4,
 "nbformat_minor": 5
}
