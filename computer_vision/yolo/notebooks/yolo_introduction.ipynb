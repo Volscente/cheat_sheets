{
 "cells": [
  {
   "cell_type": "markdown",
   "id": "ccaca3a7-c8d0-4dba-9219-011fd83e323b",
   "metadata": {},
   "source": [
    "# Introduction\n",
    "\n",
    "Implement YOLO usage as explained in the [reference article](https://towardsdatascience.com/yolo-object-detection-with-opencv-and-python-21e50ac599e9).\n",
    "\n",
    "<br>\n",
    "\n",
    "The model has been trained over the [COCO Dataset](https://cocodataset.org/#home)."
   ]
  },
  {
   "cell_type": "code",
   "execution_count": 2,
   "id": "01978881-349a-4132-8aa2-afa4913d80a4",
   "metadata": {},
   "outputs": [],
   "source": [
    "# Import Standard Libraries\n",
    "import cv2"
   ]
  },
  {
   "cell_type": "code",
   "execution_count": 3,
   "id": "911b345d-0771-4483-a70f-9b6ae0d8f951",
   "metadata": {},
   "outputs": [],
   "source": [
    "# Notebook variables\n",
    "sample_image_path = './../images/dog_image_1.jpeg'\n",
    "classes_path = './../files/yolov3_classes.txt'"
   ]
  },
  {
   "cell_type": "markdown",
   "id": "f510b96d-2c51-4b08-a856-4da6a440d948",
   "metadata": {},
   "source": [
    "# Read Data"
   ]
  },
  {
   "cell_type": "markdown",
   "id": "11754f8c-cafe-422b-9d86-c6aef3781129",
   "metadata": {},
   "source": [
    "## Read Image"
   ]
  },
  {
   "cell_type": "code",
   "execution_count": 5,
   "id": "621458eb-7e0b-4470-ab8d-79598a063d89",
   "metadata": {},
   "outputs": [],
   "source": [
    "# Read the image with OpenCV\n",
    "image = cv2.imread(sample_image_path)"
   ]
  },
  {
   "cell_type": "code",
   "execution_count": 9,
   "id": "380a6142-a2a7-4040-b8ca-025870408bcd",
   "metadata": {},
   "outputs": [
    {
     "data": {
      "text/plain": [
       "(576, 768, 3)"
      ]
     },
     "execution_count": 9,
     "metadata": {},
     "output_type": "execute_result"
    }
   ],
   "source": [
    "# The image is 576 x 768 dimension in pixels\n",
    "# It has 3 channels, since it is colored (RGB)\n",
    "image.shape"
   ]
  },
  {
   "cell_type": "code",
   "execution_count": 13,
   "id": "1613c106-1df4-419a-b6c9-5566bf8116e8",
   "metadata": {},
   "outputs": [],
   "source": [
    "# Compute image's width and height\n",
    "image_width = image.shape[1]\n",
    "image_height = image.shape[0]\n",
    "scale = 0.00392"
   ]
  },
  {
   "cell_type": "markdown",
   "id": "bc73f6b1-a7df-4199-97b4-a04895701d41",
   "metadata": {},
   "source": [
    " ## Read Classes"
   ]
  },
  {
   "cell_type": "code",
   "execution_count": 14,
   "id": "f99a8726-a792-48a3-8a59-c4ce3660a157",
   "metadata": {},
   "outputs": [],
   "source": [
    "# Open the classes file and extract the list of available classes\n",
    "with open(classes_path, 'r') as classes_file:\n",
    "    classes = [line.strip() for line in classes_file.readlines()]"
   ]
  },
  {
   "cell_type": "code",
   "execution_count": null,
   "id": "fc679149-6448-48c1-8d02-29e3231683e5",
   "metadata": {},
   "outputs": [],
   "source": []
  }
 ],
 "metadata": {
  "kernelspec": {
   "display_name": "Python 3 (ipykernel)",
   "language": "python",
   "name": "python3"
  },
  "language_info": {
   "codemirror_mode": {
    "name": "ipython",
    "version": 3
   },
   "file_extension": ".py",
   "mimetype": "text/x-python",
   "name": "python",
   "nbconvert_exporter": "python",
   "pygments_lexer": "ipython3",
   "version": "3.10.5"
  }
 },
 "nbformat": 4,
 "nbformat_minor": 5
}
