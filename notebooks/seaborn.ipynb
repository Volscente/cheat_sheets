{
 "cells": [
  {
   "cell_type": "markdown",
   "id": "114796b7-ad09-4064-bde1-65eabd0ef61b",
   "metadata": {},
   "source": [
    "# Introduction\n",
    "\n",
    "The notebook is intended to show Seaborn plot examples."
   ]
  },
  {
   "cell_type": "code",
   "execution_count": null,
   "id": "c1d5aec9-216e-492a-9952-f93dda8bc9e1",
   "metadata": {},
   "outputs": [],
   "source": [
    "# Import Standard Libraries\n",
    "import matplotlib.pyplot as plt\n",
    "import seaborn as sns\n",
    "from seaborn.l"
   ]
  }
 ],
 "metadata": {
  "kernelspec": {
   "display_name": "Python 3 (ipykernel)",
   "language": "python",
   "name": "python3"
  },
  "language_info": {
   "codemirror_mode": {
    "name": "ipython",
    "version": 3
   },
   "file_extension": ".py",
   "mimetype": "text/x-python",
   "name": "python",
   "nbconvert_exporter": "python",
   "pygments_lexer": "ipython3",
   "version": "3.10.5"
  }
 },
 "nbformat": 4,
 "nbformat_minor": 5
}
