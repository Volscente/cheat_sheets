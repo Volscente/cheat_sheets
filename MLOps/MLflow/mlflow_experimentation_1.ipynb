{
 "cells": [
  {
   "cell_type": "markdown",
   "id": "f38e528f-614c-46c9-894b-86d81e9c91c6",
   "metadata": {},
   "source": [
    "# Introduction\n",
    "\n",
    "Experiment with MLflow from this [Video Tutorial](https://www.youtube.com/watch?v=WbicniUy_u0)."
   ]
  },
  {
   "cell_type": "code",
   "execution_count": 1,
   "id": "9852a18e-3ab5-4476-b9d9-37159d5b7ed7",
   "metadata": {},
   "outputs": [
    {
     "name": "stdout",
     "output_type": "stream",
     "text": [
      "MLflow Version:  2.11.1\n"
     ]
    }
   ],
   "source": [
    "# Import Standard Libraries\n",
    "import mlflow\n",
    "import numpy as np\n",
    "import pandas as pd\n",
    "import os\n",
    "\n",
    "import matplotlib.pyplot as plt\n",
    "\n",
    "from sklearn.pipeline import Pipeline\n",
    "from sklearn.preprocessing import StandardScaler, OneHotEncoder\n",
    "from sklearn.compose import ColumnTransformer\n",
    "from sklearn.linear_model import LinearRegression, ElasticNet\n",
    "from sklearn.model_selection import train_test_split\n",
    "from sklearn.metrics import mean_squared_error, mean_absolute_error\n",
    "\n",
    "print('MLflow Version: ', mlflow.version.VERSION)"
   ]
  },
  {
   "cell_type": "markdown",
   "id": "4921819e-259d-4340-a916-b95b9fa2310f",
   "metadata": {},
   "source": [
    "# Basic Code"
   ]
  },
  {
   "cell_type": "code",
   "execution_count": 3,
   "id": "554f7039-96d4-447b-addc-9dbe2a7baea4",
   "metadata": {},
   "outputs": [
    {
     "data": {
      "text/plain": [
       "<Experiment: artifact_location='file:///Users/s.porreca/Projects/cheat_sheets/machine_learning/mlflow/mlruns/176222180829175951', creation_time=1679261939948, experiment_id='176222180829175951', last_update_time=1679261939948, lifecycle_stage='active', name='basic_code', tags={}>"
      ]
     },
     "execution_count": 3,
     "metadata": {},
     "output_type": "execute_result"
    }
   ],
   "source": [
    "# Set experiment\n",
    "mlflow.set_experiment('basic_code')"
   ]
  },
  {
   "cell_type": "code",
   "execution_count": 4,
   "id": "662bfed3-73a6-4123-8022-f8f3248a94b3",
   "metadata": {},
   "outputs": [
    {
     "name": "stdout",
     "output_type": "stream",
     "text": [
      "MLflow Run:  917c1cac2bcc4c2492f50d9e232ad5ad\n",
      "MLflow Run:  Run Name 73\n"
     ]
    }
   ],
   "source": [
    "# Start MLflow Run\n",
    "with mlflow.start_run(run_name='Run Name {}'.format(np.random.randint(1, 100))) as mlflow_run:\n",
    "    \n",
    "    # Show run ID\n",
    "    print('MLflow Run: ', mlflow_run.info.run_uuid)\n",
    "    \n",
    "    # Show Run Name\n",
    "    print('MLflow Run: ', mlflow_run.info.run_name)\n",
    "    \n",
    "    # Set a Run tag\n",
    "    mlflow.set_tag('tag', 'Tag {}'.format(np.random.randint(1, 100)))\n",
    "    \n",
    "    # Log a Parameter\n",
    "    mlflow.log_param('parameter_1', np.random.randint(1, 100))\n",
    "    \n",
    "    # Log a Metric\n",
    "    mlflow.log_metric('accuracy', np.random.randint(0, 100))\n",
    "    \n",
    "    mlflow.end_run()"
   ]
  },
  {
   "cell_type": "markdown",
   "id": "840fd790-7b1a-4f85-9d6e-b581d5492fd1",
   "metadata": {},
   "source": [
    "# Regression Example"
   ]
  },
  {
   "cell_type": "markdown",
   "id": "dd34c22e-b79d-4f91-af91-3dbfd806ce2a",
   "metadata": {},
   "source": [
    "## Read & Prepare Data"
   ]
  },
  {
   "cell_type": "code",
   "execution_count": 2,
   "id": "b61874d8-cc08-42d8-9f00-c333efca34cf",
   "metadata": {},
   "outputs": [],
   "source": [
    "# Read data\n",
    "data = pd.read_csv('./../../data/books_sold_train.csv', \n",
    "                   parse_dates=['date'], \n",
    "                   index_col=0)"
   ]
  },
  {
   "cell_type": "code",
   "execution_count": 3,
   "id": "2c89db35-4512-41ad-923b-70a64d6359cf",
   "metadata": {},
   "outputs": [
    {
     "data": {
      "text/html": [
       "<div>\n",
       "<style scoped>\n",
       "    .dataframe tbody tr th:only-of-type {\n",
       "        vertical-align: middle;\n",
       "    }\n",
       "\n",
       "    .dataframe tbody tr th {\n",
       "        vertical-align: top;\n",
       "    }\n",
       "\n",
       "    .dataframe thead th {\n",
       "        text-align: right;\n",
       "    }\n",
       "</style>\n",
       "<table border=\"1\" class=\"dataframe\">\n",
       "  <thead>\n",
       "    <tr style=\"text-align: right;\">\n",
       "      <th></th>\n",
       "      <th>date</th>\n",
       "      <th>country</th>\n",
       "      <th>store</th>\n",
       "      <th>product</th>\n",
       "      <th>num_sold</th>\n",
       "    </tr>\n",
       "    <tr>\n",
       "      <th>row_id</th>\n",
       "      <th></th>\n",
       "      <th></th>\n",
       "      <th></th>\n",
       "      <th></th>\n",
       "      <th></th>\n",
       "    </tr>\n",
       "  </thead>\n",
       "  <tbody>\n",
       "    <tr>\n",
       "      <th>0</th>\n",
       "      <td>2017-01-01</td>\n",
       "      <td>Belgium</td>\n",
       "      <td>KaggleMart</td>\n",
       "      <td>Kaggle Advanced Techniques</td>\n",
       "      <td>663</td>\n",
       "    </tr>\n",
       "    <tr>\n",
       "      <th>1</th>\n",
       "      <td>2017-01-01</td>\n",
       "      <td>Belgium</td>\n",
       "      <td>KaggleMart</td>\n",
       "      <td>Kaggle Getting Started</td>\n",
       "      <td>615</td>\n",
       "    </tr>\n",
       "    <tr>\n",
       "      <th>2</th>\n",
       "      <td>2017-01-01</td>\n",
       "      <td>Belgium</td>\n",
       "      <td>KaggleMart</td>\n",
       "      <td>Kaggle Recipe Book</td>\n",
       "      <td>480</td>\n",
       "    </tr>\n",
       "    <tr>\n",
       "      <th>3</th>\n",
       "      <td>2017-01-01</td>\n",
       "      <td>Belgium</td>\n",
       "      <td>KaggleMart</td>\n",
       "      <td>Kaggle for Kids: One Smart Goose</td>\n",
       "      <td>710</td>\n",
       "    </tr>\n",
       "    <tr>\n",
       "      <th>4</th>\n",
       "      <td>2017-01-01</td>\n",
       "      <td>Belgium</td>\n",
       "      <td>KaggleRama</td>\n",
       "      <td>Kaggle Advanced Techniques</td>\n",
       "      <td>240</td>\n",
       "    </tr>\n",
       "  </tbody>\n",
       "</table>\n",
       "</div>"
      ],
      "text/plain": [
       "             date  country       store                           product  \\\n",
       "row_id                                                                     \n",
       "0      2017-01-01  Belgium  KaggleMart        Kaggle Advanced Techniques   \n",
       "1      2017-01-01  Belgium  KaggleMart            Kaggle Getting Started   \n",
       "2      2017-01-01  Belgium  KaggleMart                Kaggle Recipe Book   \n",
       "3      2017-01-01  Belgium  KaggleMart  Kaggle for Kids: One Smart Goose   \n",
       "4      2017-01-01  Belgium  KaggleRama        Kaggle Advanced Techniques   \n",
       "\n",
       "        num_sold  \n",
       "row_id            \n",
       "0            663  \n",
       "1            615  \n",
       "2            480  \n",
       "3            710  \n",
       "4            240  "
      ]
     },
     "execution_count": 3,
     "metadata": {},
     "output_type": "execute_result"
    }
   ],
   "source": [
    "data.head()"
   ]
  },
  {
   "cell_type": "code",
   "execution_count": 4,
   "id": "911f1962-bb48-4c0b-89e9-645732c16674",
   "metadata": {},
   "outputs": [],
   "source": [
    "# Engineering the date\n",
    "data['day'] = data['date'].dt.day"
   ]
  },
  {
   "cell_type": "code",
   "execution_count": 5,
   "id": "884025d6-49c3-4008-bbfd-c29d3cee7eb1",
   "metadata": {},
   "outputs": [],
   "source": [
    "# Define features and labell\n",
    "numerical_features = ['day']\n",
    "\n",
    "categorical_features = ['product', \n",
    "                        'store', \n",
    "                        'country']\n",
    "\n",
    "labels = ['num_sold']"
   ]
  },
  {
   "cell_type": "code",
   "execution_count": 6,
   "id": "2db2db15-1ef5-4acd-9d8d-ef2e41006faf",
   "metadata": {},
   "outputs": [],
   "source": [
    "# Numerical features pipeline\n",
    "numerical_features_pipeline = Pipeline(steps=[\n",
    "    ('numerical_scaler', StandardScaler())\n",
    "])"
   ]
  },
  {
   "cell_type": "code",
   "execution_count": 7,
   "id": "8231922f-0718-4eea-8b9d-43e563755423",
   "metadata": {},
   "outputs": [],
   "source": [
    "# Categorical features pipeline\n",
    "categorical_features_pipeline = Pipeline(steps=[\n",
    "    ('categorical_one_hot_encoder', OneHotEncoder(handle_unknown='ignore'))\n",
    "])"
   ]
  },
  {
   "cell_type": "code",
   "execution_count": 8,
   "id": "b7b5a9df-ae25-4d33-82f1-d2537d4d720d",
   "metadata": {},
   "outputs": [],
   "source": [
    "# Bunlde data preprocessing steps\n",
    "data_preprocessor = ColumnTransformer(\n",
    "    transformers=[\n",
    "        ('numerical_preprocessing', numerical_features_pipeline, numerical_features),\n",
    "        ('categorical_preprocessing', categorical_features_pipeline, categorical_features)\n",
    "    ])"
   ]
  },
  {
   "cell_type": "code",
   "execution_count": 9,
   "id": "f46514ce-3911-4628-89ef-9f7f72ac9468",
   "metadata": {},
   "outputs": [],
   "source": [
    "# Define X and y for the training set\n",
    "X = data[numerical_features + categorical_features]\n",
    "y = data[labels]"
   ]
  },
  {
   "cell_type": "code",
   "execution_count": 10,
   "id": "c0f4c551-43e7-4080-9ec8-d7154124d4ff",
   "metadata": {},
   "outputs": [],
   "source": [
    "# Split training data into train and validation\n",
    "X_train, X_test, y_train, y_test = train_test_split(X, y, test_size=0.33, random_state=42)"
   ]
  },
  {
   "cell_type": "markdown",
   "id": "599c49a5-58e3-448f-9ce6-3fba9f5060ba",
   "metadata": {},
   "source": [
    "## MLflow Run"
   ]
  },
  {
   "cell_type": "code",
   "execution_count": 14,
   "id": "636fc942-fb4d-44f4-8a95-4512bdbd4bca",
   "metadata": {},
   "outputs": [],
   "source": [
    "# Define experiment name\n",
    "mlflow_experiment_name = 'Regression Example 22/03/2024'\n",
    "\n",
    "# Create experiment or retrieve already existing experiment\n",
    "try:\n",
    "    mlflow_experiment_id = mlflow.create_experiment(name=mlflow_experiment_name,\n",
    "                                                    tags={\n",
    "                                                        'version': 'v.0.1.1',\n",
    "                                                        'priority': 1\n",
    "                                                    })\n",
    "except Exception as e:\n",
    "    mlflow_experiment_id = mlflow.get_experiment_by_name(mlflow_experiment_name).experiment_id"
   ]
  },
  {
   "cell_type": "code",
   "execution_count": 15,
   "id": "60f76de0-c47f-4e7a-84cf-9deb621068e4",
   "metadata": {},
   "outputs": [],
   "source": [
    "# Define a folder name for the EDA Plots\n",
    "eda_plots_folder = 'eda_plots'\n",
    "\n",
    "# Create an 'eda_plots' folder\n",
    "if eda_plots_folder not in os.listdir():\n",
    "    os.mkdir(eda_plots_folder)"
   ]
  },
  {
   "cell_type": "markdown",
   "id": "45e283ad-3f59-4a62-9ff5-b05ce62d0701",
   "metadata": {},
   "source": [
    "### ElasticNet"
   ]
  },
  {
   "cell_type": "code",
   "execution_count": 16,
   "id": "069c4584-ddd8-4e76-9d91-3eb99aa8e354",
   "metadata": {},
   "outputs": [
    {
     "data": {
      "image/png": "[encoded data removed]",
      "text/plain": [
       "<Figure size 1600x900 with 8 Axes>"
      ]
     },
     "metadata": {},
     "output_type": "display_data"
    }
   ],
   "source": [
    "# Start MLflow Run\n",
    "with mlflow.start_run(experiment_id=mlflow_experiment_id, \n",
    "                      run_name='ElasticNet_20240322'):\n",
    "    \n",
    "    # Create the Features Box Plots\n",
    "    X_train.plot(kind='box', \n",
    "                 subplots=True, \n",
    "                 layout=(2, 4), \n",
    "                 figsize=(16, 9), \n",
    "                 title='Features Box Plots')\n",
    "    \n",
    "    # Save the plot\n",
    "    plt.savefig('./{}/features_box_plots.png'.format(eda_plots_folder))\n",
    "    \n",
    "    # Log the eda_plots_folder and tracking it\n",
    "    mlflow.log_artifacts(eda_plots_folder)\n",
    "    \n",
    "    # Define Hyperparameters\n",
    "    alpha, l1_ratio = 0.06, 0.45\n",
    "    \n",
    "    # Define the Model\n",
    "    elastic_net_model = ElasticNet(alpha=alpha, \n",
    "                                   l1_ratio=l1_ratio, \n",
    "                                   random_state=42)\n",
    "    \n",
    "    # Define the pipeline\n",
    "    pipe_en = Pipeline([\n",
    "        ('date_preprocessing', data_preprocessor),\n",
    "        ('elastic_net', elastic_net_model)\n",
    "    ])\n",
    "    \n",
    "    # Fit the estimator\n",
    "    pipe_en.fit(X_train, \n",
    "                y_train)\n",
    "    \n",
    "    # Predictions\n",
    "    predictions_en = pipe_en.predict(X_test)\n",
    "    \n",
    "    # Compute metrics\n",
    "    rmse_en = mean_squared_error(y_test, predictions_en)\n",
    "    mae_en = mean_absolute_error(y_test, predictions_en)\n",
    "    \n",
    "    # Log model's hyperparameters\n",
    "    mlflow.log_params({'alpha': alpha,\n",
    "                       'l1_ratio': l1_ratio})\n",
    "    \n",
    "    # Log model's evaluation metrics\n",
    "    mlflow.log_metrics({'RMSE': rmse_en, \n",
    "                        'MAE': mae_en})\n",
    "    \n",
    "    # Log the model\n",
    "    mlflow.sklearn.log_model(pipe_en, 'ElasticNet')"
   ]
  },
  {
   "cell_type": "code",
   "execution_count": null,
   "id": "2ca2e69a-1d34-47ae-ae74-1a00f8c08911",
   "metadata": {},
   "outputs": [],
   "source": []
  }
 ],
 "metadata": {
  "kernelspec": {
   "display_name": "Python 3 (ipykernel)",
   "language": "python",
   "name": "python3"
  },
  "language_info": {
   "codemirror_mode": {
    "name": "ipython",
    "version": 3
   },
   "file_extension": ".py",
   "mimetype": "text/x-python",
   "name": "python",
   "nbconvert_exporter": "python",
   "pygments_lexer": "ipython3",
   "version": "3.10.5"
  }
 },
 "nbformat": 4,
 "nbformat_minor": 5
}
