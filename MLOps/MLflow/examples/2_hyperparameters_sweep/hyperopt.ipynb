{
  "cells": [
    {
      "cell_type": "markdown",
      "id": "33149583-6b5b-41f7-b237-56d63c1aa3eb",
      "metadata": {
        "id": "33149583-6b5b-41f7-b237-56d63c1aa3eb"
      },
      "source": [
        "# Introduction\n",
        "\n",
        "Experiment with MLflow while perform an Hyperparameter tuning. Different results of a hyperparemeter sweep would be compare, choosing the best run and register it as a model."
      ]
    },
    {
      "cell_type": "code",
      "source": [
        "!pip install mlflow"
      ],
      "metadata": {
        "id": "67w5VAwajKo3",
        "outputId": "5a1877ee-8c1b-4817-87cb-859b21961acb",
        "colab": {
          "base_uri": "https://localhost:8080/"
        }
      },
      "id": "67w5VAwajKo3",
      "execution_count": 3,
      "outputs": [
        {
          "output_type": "stream",
          "name": "stdout",
          "text": [
            "Requirement already satisfied: mlflow in /usr/local/lib/python3.10/dist-packages (2.11.3)\n",
            "Requirement already satisfied: click<9,>=7.0 in /usr/local/lib/python3.10/dist-packages (from mlflow) (8.1.7)\n",
            "Requirement already satisfied: cloudpickle<4 in /usr/local/lib/python3.10/dist-packages (from mlflow) (2.2.1)\n",
            "Requirement already satisfied: entrypoints<1 in /usr/local/lib/python3.10/dist-packages (from mlflow) (0.4)\n",
            "Requirement already satisfied: gitpython<4,>=3.1.9 in /usr/local/lib/python3.10/dist-packages (from mlflow) (3.1.42)\n",
            "Requirement already satisfied: pyyaml<7,>=5.1 in /usr/local/lib/python3.10/dist-packages (from mlflow) (6.0.1)\n",
            "Requirement already satisfied: protobuf<5,>=3.12.0 in /usr/local/lib/python3.10/dist-packages (from mlflow) (3.20.3)\n",
            "Requirement already satisfied: pytz<2025 in /usr/local/lib/python3.10/dist-packages (from mlflow) (2023.4)\n",
            "Requirement already satisfied: requests<3,>=2.17.3 in /usr/local/lib/python3.10/dist-packages (from mlflow) (2.31.0)\n",
            "Requirement already satisfied: packaging<24 in /usr/local/lib/python3.10/dist-packages (from mlflow) (23.2)\n",
            "Requirement already satisfied: importlib-metadata!=4.7.0,<8,>=3.7.0 in /usr/local/lib/python3.10/dist-packages (from mlflow) (7.0.2)\n",
            "Requirement already satisfied: sqlparse<1,>=0.4.0 in /usr/local/lib/python3.10/dist-packages (from mlflow) (0.4.4)\n",
            "Requirement already satisfied: alembic!=1.10.0,<2 in /usr/local/lib/python3.10/dist-packages (from mlflow) (1.13.1)\n",
            "Requirement already satisfied: docker<8,>=4.0.0 in /usr/local/lib/python3.10/dist-packages (from mlflow) (7.0.0)\n",
            "Requirement already satisfied: Flask<4 in /usr/local/lib/python3.10/dist-packages (from mlflow) (2.2.5)\n",
            "Requirement already satisfied: numpy<2 in /usr/local/lib/python3.10/dist-packages (from mlflow) (1.25.2)\n",
            "Requirement already satisfied: scipy<2 in /usr/local/lib/python3.10/dist-packages (from mlflow) (1.11.4)\n",
            "Requirement already satisfied: pandas<3 in /usr/local/lib/python3.10/dist-packages (from mlflow) (1.5.3)\n",
            "Requirement already satisfied: querystring-parser<2 in /usr/local/lib/python3.10/dist-packages (from mlflow) (1.2.4)\n",
            "Requirement already satisfied: sqlalchemy<3,>=1.4.0 in /usr/local/lib/python3.10/dist-packages (from mlflow) (2.0.28)\n",
            "Requirement already satisfied: scikit-learn<2 in /usr/local/lib/python3.10/dist-packages (from mlflow) (1.2.2)\n",
            "Requirement already satisfied: pyarrow<16,>=4.0.0 in /usr/local/lib/python3.10/dist-packages (from mlflow) (14.0.2)\n",
            "Requirement already satisfied: markdown<4,>=3.3 in /usr/local/lib/python3.10/dist-packages (from mlflow) (3.6)\n",
            "Requirement already satisfied: matplotlib<4 in /usr/local/lib/python3.10/dist-packages (from mlflow) (3.7.1)\n",
            "Requirement already satisfied: graphene<4 in /usr/local/lib/python3.10/dist-packages (from mlflow) (3.3)\n",
            "Requirement already satisfied: gunicorn<22 in /usr/local/lib/python3.10/dist-packages (from mlflow) (21.2.0)\n",
            "Requirement already satisfied: Jinja2<4,>=2.11 in /usr/local/lib/python3.10/dist-packages (from mlflow) (3.1.3)\n",
            "Requirement already satisfied: Mako in /usr/local/lib/python3.10/dist-packages (from alembic!=1.10.0,<2->mlflow) (1.3.2)\n",
            "Requirement already satisfied: typing-extensions>=4 in /usr/local/lib/python3.10/dist-packages (from alembic!=1.10.0,<2->mlflow) (4.10.0)\n",
            "Requirement already satisfied: urllib3>=1.26.0 in /usr/local/lib/python3.10/dist-packages (from docker<8,>=4.0.0->mlflow) (2.0.7)\n",
            "Requirement already satisfied: Werkzeug>=2.2.2 in /usr/local/lib/python3.10/dist-packages (from Flask<4->mlflow) (3.0.1)\n",
            "Requirement already satisfied: itsdangerous>=2.0 in /usr/local/lib/python3.10/dist-packages (from Flask<4->mlflow) (2.1.2)\n",
            "Requirement already satisfied: gitdb<5,>=4.0.1 in /usr/local/lib/python3.10/dist-packages (from gitpython<4,>=3.1.9->mlflow) (4.0.11)\n",
            "Requirement already satisfied: graphql-core<3.3,>=3.1 in /usr/local/lib/python3.10/dist-packages (from graphene<4->mlflow) (3.2.3)\n",
            "Requirement already satisfied: graphql-relay<3.3,>=3.1 in /usr/local/lib/python3.10/dist-packages (from graphene<4->mlflow) (3.2.0)\n",
            "Requirement already satisfied: aniso8601<10,>=8 in /usr/local/lib/python3.10/dist-packages (from graphene<4->mlflow) (9.0.1)\n",
            "Requirement already satisfied: zipp>=0.5 in /usr/local/lib/python3.10/dist-packages (from importlib-metadata!=4.7.0,<8,>=3.7.0->mlflow) (3.18.1)\n",
            "Requirement already satisfied: MarkupSafe>=2.0 in /usr/local/lib/python3.10/dist-packages (from Jinja2<4,>=2.11->mlflow) (2.1.5)\n",
            "Requirement already satisfied: contourpy>=1.0.1 in /usr/local/lib/python3.10/dist-packages (from matplotlib<4->mlflow) (1.2.0)\n",
            "Requirement already satisfied: cycler>=0.10 in /usr/local/lib/python3.10/dist-packages (from matplotlib<4->mlflow) (0.12.1)\n",
            "Requirement already satisfied: fonttools>=4.22.0 in /usr/local/lib/python3.10/dist-packages (from matplotlib<4->mlflow) (4.50.0)\n",
            "Requirement already satisfied: kiwisolver>=1.0.1 in /usr/local/lib/python3.10/dist-packages (from matplotlib<4->mlflow) (1.4.5)\n",
            "Requirement already satisfied: pillow>=6.2.0 in /usr/local/lib/python3.10/dist-packages (from matplotlib<4->mlflow) (9.4.0)\n",
            "Requirement already satisfied: pyparsing>=2.3.1 in /usr/local/lib/python3.10/dist-packages (from matplotlib<4->mlflow) (3.1.2)\n",
            "Requirement already satisfied: python-dateutil>=2.7 in /usr/local/lib/python3.10/dist-packages (from matplotlib<4->mlflow) (2.8.2)\n",
            "Requirement already satisfied: six in /usr/local/lib/python3.10/dist-packages (from querystring-parser<2->mlflow) (1.16.0)\n",
            "Requirement already satisfied: charset-normalizer<4,>=2 in /usr/local/lib/python3.10/dist-packages (from requests<3,>=2.17.3->mlflow) (3.3.2)\n",
            "Requirement already satisfied: idna<4,>=2.5 in /usr/local/lib/python3.10/dist-packages (from requests<3,>=2.17.3->mlflow) (3.6)\n",
            "Requirement already satisfied: certifi>=2017.4.17 in /usr/local/lib/python3.10/dist-packages (from requests<3,>=2.17.3->mlflow) (2024.2.2)\n",
            "Requirement already satisfied: joblib>=1.1.1 in /usr/local/lib/python3.10/dist-packages (from scikit-learn<2->mlflow) (1.3.2)\n",
            "Requirement already satisfied: threadpoolctl>=2.0.0 in /usr/local/lib/python3.10/dist-packages (from scikit-learn<2->mlflow) (3.3.0)\n",
            "Requirement already satisfied: greenlet!=0.4.17 in /usr/local/lib/python3.10/dist-packages (from sqlalchemy<3,>=1.4.0->mlflow) (3.0.3)\n",
            "Requirement already satisfied: smmap<6,>=3.0.1 in /usr/local/lib/python3.10/dist-packages (from gitdb<5,>=4.0.1->gitpython<4,>=3.1.9->mlflow) (5.0.1)\n"
          ]
        }
      ]
    },
    {
      "cell_type": "code",
      "execution_count": 4,
      "id": "e47ec288-063c-4dbd-a636-7f6b2981cfea",
      "metadata": {
        "id": "e47ec288-063c-4dbd-a636-7f6b2981cfea"
      },
      "outputs": [],
      "source": [
        "# Import Standard Libraries\n",
        "import keras\n",
        "import numpy as np\n",
        "import pandas as pd\n",
        "from hyperopt import STATUS_OK, Trials, fmin, hp, tpe\n",
        "from sklearn.metrics import mean_squared_error\n",
        "from sklearn.model_selection import train_test_split\n",
        "\n",
        "import mlflow\n",
        "from mlflow.models import infer_signature"
      ]
    },
    {
      "cell_type": "markdown",
      "id": "cbca5a24-9406-4ee4-ab39-96b95b2cde3f",
      "metadata": {
        "id": "cbca5a24-9406-4ee4-ab39-96b95b2cde3f"
      },
      "source": [
        "# Read Data"
      ]
    },
    {
      "cell_type": "code",
      "execution_count": 5,
      "id": "6f276a96-3227-4dae-8481-2ee7bc469171",
      "metadata": {
        "id": "6f276a96-3227-4dae-8481-2ee7bc469171"
      },
      "outputs": [],
      "source": [
        "# Load dataset\n",
        "data = pd.read_csv(\n",
        "    \"https://raw.githubusercontent.com/mlflow/mlflow/master/tests/datasets/winequality-white.csv\",\n",
        "    sep=\";\",\n",
        ")"
      ]
    },
    {
      "cell_type": "markdown",
      "id": "40214483-8f64-47fc-af14-fa3fdf8ff1a6",
      "metadata": {
        "id": "40214483-8f64-47fc-af14-fa3fdf8ff1a6"
      },
      "source": [
        "# Prepare Data"
      ]
    },
    {
      "cell_type": "code",
      "execution_count": 6,
      "id": "8258ef9b-24ec-448c-a279-55981c701e18",
      "metadata": {
        "id": "8258ef9b-24ec-448c-a279-55981c701e18"
      },
      "outputs": [],
      "source": [
        "# Split the data into training, validation, and test sets\n",
        "train, test = train_test_split(data, test_size=0.25, random_state=42)\n",
        "train_x = train.drop([\"quality\"], axis=1).values\n",
        "train_y = train[[\"quality\"]].values.ravel()\n",
        "test_x = test.drop([\"quality\"], axis=1).values\n",
        "test_y = test[[\"quality\"]].values.ravel()\n",
        "train_x, valid_x, train_y, valid_y = train_test_split(\n",
        "    train_x, train_y, test_size=0.2, random_state=42\n",
        ")"
      ]
    },
    {
      "cell_type": "code",
      "execution_count": 7,
      "id": "b552bf8e-f85d-4362-bfa4-51f1ceebb7fc",
      "metadata": {
        "id": "b552bf8e-f85d-4362-bfa4-51f1ceebb7fc"
      },
      "outputs": [],
      "source": [
        "# Define model signature\n",
        "signature = infer_signature(train_x, train_y)"
      ]
    },
    {
      "cell_type": "markdown",
      "id": "9cb81b36-8f54-40c7-a612-a7b7301b8820",
      "metadata": {
        "id": "9cb81b36-8f54-40c7-a612-a7b7301b8820"
      },
      "source": [
        "# Model Training"
      ]
    },
    {
      "cell_type": "code",
      "execution_count": 8,
      "id": "7d196ade-7209-4eb6-94d0-552820ea3e54",
      "metadata": {
        "id": "7d196ade-7209-4eb6-94d0-552820ea3e54"
      },
      "outputs": [],
      "source": [
        "def train_model(params, epochs, train_x, train_y, valid_x, valid_y, test_x, test_y):\n",
        "    \"\"\"\n",
        "    The function train a Keras model using the passed data and parameters\n",
        "    \"\"\"\n",
        "\n",
        "    # Define model architecture\n",
        "    model = keras.Sequential(\n",
        "        [\n",
        "            keras.Input([train_x.shape[1]]),\n",
        "            keras.layers.Normalization(mean=np.mean(train_x), variance=np.var(train_x)),\n",
        "            keras.layers.Dense(64, activation=\"relu\"),\n",
        "            keras.layers.Dense(1),\n",
        "        ]\n",
        "    )\n",
        "\n",
        "    # Compile model\n",
        "    model.compile(\n",
        "        optimizer=keras.optimizers.SGD(\n",
        "            learning_rate=params[\"lr\"], momentum=params[\"momentum\"]\n",
        "        ),\n",
        "        loss=\"mean_squared_error\",\n",
        "        metrics=[keras.metrics.RootMeanSquaredError()],\n",
        "    )\n",
        "\n",
        "    # Train model with MLflow tracking\n",
        "    with mlflow.start_run(nested=True):\n",
        "\n",
        "        # Train the model\n",
        "        model.fit(\n",
        "            train_x,\n",
        "            train_y,\n",
        "            validation_data=(valid_x, valid_y),\n",
        "            epochs=epochs,\n",
        "            batch_size=64,\n",
        "        )\n",
        "\n",
        "        # Evaluate the model\n",
        "        eval_result = model.evaluate(valid_x, valid_y, batch_size=64)\n",
        "        eval_rmse = eval_result[1]\n",
        "\n",
        "        # Log parameters and results\n",
        "        mlflow.log_params(params)\n",
        "        mlflow.log_metric(\"eval_rmse\", eval_rmse)\n",
        "\n",
        "        # Log model\n",
        "        mlflow.tensorflow.log_model(model, \"model\", signature=signature)\n",
        "\n",
        "        # Return dictionary for Hyperopt\n",
        "        return {\"loss\": eval_rmse, \"status\": STATUS_OK, \"model\": model}"
      ]
    },
    {
      "cell_type": "code",
      "execution_count": 9,
      "id": "c3ee5193-c851-46b3-9a6f-7eb9cbcf2f95",
      "metadata": {
        "id": "c3ee5193-c851-46b3-9a6f-7eb9cbcf2f95"
      },
      "outputs": [],
      "source": [
        "def objective(params):\n",
        "    \"\"\"\n",
        "    Wrap the objective function for Hyperopt\n",
        "    \"\"\"\n",
        "    # MLflow will track the parameters and results for each run\n",
        "    result = train_model(\n",
        "        params,\n",
        "        epochs=3,\n",
        "        train_x=train_x,\n",
        "        train_y=train_y,\n",
        "        valid_x=valid_x,\n",
        "        valid_y=valid_y,\n",
        "        test_x=test_x,\n",
        "        test_y=test_y,\n",
        "    )\n",
        "    return result\n"
      ]
    },
    {
      "cell_type": "code",
      "execution_count": 10,
      "id": "d33a34a6-ce40-462d-a075-3a278bfb0779",
      "metadata": {
        "id": "d33a34a6-ce40-462d-a075-3a278bfb0779"
      },
      "outputs": [],
      "source": [
        "# Define the hyperparameters space\n",
        "space = {\n",
        "    \"lr\": hp.loguniform(\"lr\", np.log(1e-5), np.log(1e-1)),\n",
        "    \"momentum\": hp.uniform(\"momentum\", 0.0, 1.0),\n",
        "}"
      ]
    },
    {
      "cell_type": "markdown",
      "id": "54bd96ba-7ffc-404f-a272-1ea8413399fb",
      "metadata": {
        "id": "54bd96ba-7ffc-404f-a272-1ea8413399fb"
      },
      "source": [
        "# Hyperparameters Tuning"
      ]
    },
    {
      "cell_type": "code",
      "execution_count": 11,
      "id": "1b5c3da8-ec40-425e-acba-d9daa99595dd",
      "metadata": {
        "id": "1b5c3da8-ec40-425e-acba-d9daa99595dd",
        "outputId": "f8b552a2-15a9-44cd-8825-10285144c1e6",
        "colab": {
          "base_uri": "https://localhost:8080/"
        }
      },
      "outputs": [
        {
          "output_type": "stream",
          "name": "stderr",
          "text": [
            "2024/03/24 17:41:56 INFO mlflow.tracking.fluent: Experiment with name 'wine-quality' does not exist. Creating a new experiment.\n"
          ]
        },
        {
          "output_type": "stream",
          "name": "stdout",
          "text": [
            "Epoch 1/3\n",
            "\n",
            " 1/46 [..............................] - ETA: 3:07 - loss: 44.2181 - root_mean_squared_error: 6.6497\n",
            "11/46 [======>.......................] - ETA: 0s - loss: 32.9052 - root_mean_squared_error: 5.7363  \n",
            "17/46 [==========>...................] - ETA: 0s - loss: 26.5522 - root_mean_squared_error: 5.1529\n",
            "28/46 [=================>............] - ETA: 0s - loss: 18.4124 - root_mean_squared_error: 4.2910\n",
            "33/46 [====================>.........] - ETA: 0s - loss: 16.2335 - root_mean_squared_error: 4.0291\n",
            "42/46 [==========================>...] - ETA: 0s - loss: 13.5697 - root_mean_squared_error: 3.6837\n",
            "46/46 [==============================] - 5s 15ms/step - loss: 12.7401 - root_mean_squared_error: 3.5693 - val_loss: 3.9701 - val_root_mean_squared_error: 1.9925\n",
            "\n",
            "Epoch 2/3\n",
            "\n",
            " 1/46 [..............................] - ETA: 1s - loss: 2.9265 - root_mean_squared_error: 1.7107\n",
            " 7/46 [===>..........................] - ETA: 0s - loss: 3.9091 - root_mean_squared_error: 1.9771\n",
            "16/46 [=========>....................] - ETA: 0s - loss: 3.4880 - root_mean_squared_error: 1.8676\n",
            "27/46 [================>.............] - ETA: 0s - loss: 3.5387 - root_mean_squared_error: 1.8811\n",
            "37/46 [=======================>......] - ETA: 0s - loss: 3.5445 - root_mean_squared_error: 1.8827\n",
            "45/46 [============================>.] - ETA: 0s - loss: 3.4643 - root_mean_squared_error: 1.8613\n",
            "46/46 [==============================] - 0s 9ms/step - loss: 3.4652 - root_mean_squared_error: 1.8615 - val_loss: 3.3150 - val_root_mean_squared_error: 1.8207\n",
            "\n",
            "Epoch 3/3\n",
            "\n",
            " 1/46 [..............................] - ETA: 0s - loss: 3.4627 - root_mean_squared_error: 1.8608\n",
            "12/46 [======>.......................] - ETA: 0s - loss: 3.2320 - root_mean_squared_error: 1.7978\n",
            "19/46 [===========>..................] - ETA: 0s - loss: 3.1485 - root_mean_squared_error: 1.7744\n",
            "28/46 [=================>............] - ETA: 0s - loss: 2.9679 - root_mean_squared_error: 1.7228\n",
            "35/46 [=====================>........] - ETA: 0s - loss: 2.9899 - root_mean_squared_error: 1.7291\n",
            "43/46 [===========================>..] - ETA: 0s - loss: 2.9370 - root_mean_squared_error: 1.7138\n",
            "46/46 [==============================] - 0s 9ms/step - loss: 2.8845 - root_mean_squared_error: 1.6984 - val_loss: 2.7213 - val_root_mean_squared_error: 1.6496\n",
            "\n",
            " 1/12 [=>............................] - ETA: 1s - loss: 2.4813 - root_mean_squared_error: 1.5752\n",
            " 5/12 [===========>..................] - ETA: 0s - loss: 2.8474 - root_mean_squared_error: 1.6874\n",
            "11/12 [==========================>...] - ETA: 0s - loss: 2.7324 - root_mean_squared_error: 1.6530\n",
            "12/12 [==============================] - 0s 13ms/step - loss: 2.7213 - root_mean_squared_error: 1.6496\n",
            "\n",
            "  0%|          | 0/8 [00:12<?, ?trial/s, best loss=?]"
          ]
        },
        {
          "output_type": "stream",
          "name": "stderr",
          "text": [
            "2024/03/24 17:42:16 WARNING mlflow.utils.environment: Encountered an unexpected error while inferring pip requirements (model URI: /tmp/tmpcq4wftwk/model, flavor: tensorflow). Fall back to return ['tensorflow==2.15.0', 'cloudpickle==2.2.1']. Set logging level to DEBUG to see the full traceback. \n",
            "\n"
          ]
        },
        {
          "output_type": "stream",
          "name": "stdout",
          "text": [
            "Epoch 1/3\n",
            "\n",
            " 12%|█▎        | 1/8 [00:20<02:24, 20.59s/trial, best loss: 1.6496384143829346]"
          ]
        },
        {
          "output_type": "stream",
          "name": "stderr",
          "text": [
            "/usr/local/lib/python3.10/dist-packages/_distutils_hack/__init__.py:33: UserWarning: Setuptools is replacing distutils.\n",
            "  warnings.warn(\"Setuptools is replacing distutils.\")\n",
            "\n"
          ]
        },
        {
          "output_type": "stream",
          "name": "stdout",
          "text": [
            " 1/46 [..............................] - ETA: 26s - loss: 34.2005 - root_mean_squared_error: 5.8481\n",
            "17/46 [==========>...................] - ETA: 0s - loss: 6.3700 - root_mean_squared_error: 2.5239  \n",
            "34/46 [=====================>........] - ETA: 0s - loss: 4.1464 - root_mean_squared_error: 2.0363\n",
            "46/46 [==============================] - 1s 8ms/step - loss: 3.4427 - root_mean_squared_error: 1.8554 - val_loss: 1.1583 - val_root_mean_squared_error: 1.0763\n",
            "\n",
            "Epoch 2/3\n",
            "\n",
            " 1/46 [..............................] - ETA: 0s - loss: 0.9350 - root_mean_squared_error: 0.9669\n",
            "17/46 [==========>...................] - ETA: 0s - loss: 0.9607 - root_mean_squared_error: 0.9801\n",
            "30/46 [==================>...........] - ETA: 0s - loss: 0.9196 - root_mean_squared_error: 0.9590\n",
            "44/46 [===========================>..] - ETA: 0s - loss: 0.9048 - root_mean_squared_error: 0.9512\n",
            "46/46 [==============================] - 0s 5ms/step - loss: 0.9083 - root_mean_squared_error: 0.9530 - val_loss: 0.7864 - val_root_mean_squared_error: 0.8868\n",
            "\n",
            "Epoch 3/3\n",
            "\n",
            " 1/46 [..............................] - ETA: 0s - loss: 0.7493 - root_mean_squared_error: 0.8656\n",
            "18/46 [==========>...................] - ETA: 0s - loss: 0.7738 - root_mean_squared_error: 0.8797\n",
            "34/46 [=====================>........] - ETA: 0s - loss: 0.8083 - root_mean_squared_error: 0.8991\n",
            "46/46 [==============================] - 0s 4ms/step - loss: 0.7948 - root_mean_squared_error: 0.8915 - val_loss: 0.7581 - val_root_mean_squared_error: 0.8707\n",
            "\n",
            " 1/12 [=>............................] - ETA: 0s - loss: 0.7562 - root_mean_squared_error: 0.8696\n",
            "12/12 [==============================] - 0s 3ms/step - loss: 0.7581 - root_mean_squared_error: 0.8707\n",
            "\n",
            "Epoch 1/3\n",
            "\n",
            " 1/46 [..............................] - ETA: 23s - loss: 30.4155 - root_mean_squared_error: 5.5150\n",
            "18/46 [==========>...................] - ETA: 0s - loss: 28.0433 - root_mean_squared_error: 5.2956 \n",
            "35/46 [=====================>........] - ETA: 0s - loss: 25.9859 - root_mean_squared_error: 5.0976\n",
            "46/46 [==============================] - 1s 7ms/step - loss: 24.6173 - root_mean_squared_error: 4.9616 - val_loss: 19.6898 - val_root_mean_squared_error: 4.4373\n",
            "\n",
            "Epoch 2/3\n",
            "\n",
            " 1/46 [..............................] - ETA: 0s - loss: 19.5397 - root_mean_squared_error: 4.4204\n",
            "16/46 [=========>....................] - ETA: 0s - loss: 17.6950 - root_mean_squared_error: 4.2065\n",
            "33/46 [====================>.........] - ETA: 0s - loss: 16.4199 - root_mean_squared_error: 4.0522\n",
            "46/46 [==============================] - ETA: 0s - loss: 15.4583 - root_mean_squared_error: 3.9317\n",
            "46/46 [==============================] - 0s 5ms/step - loss: 15.4583 - root_mean_squared_error: 3.9317 - val_loss: 12.4179 - val_root_mean_squared_error: 3.5239\n",
            "\n",
            "Epoch 3/3\n",
            "\n",
            " 1/46 [..............................] - ETA: 0s - loss: 13.0713 - root_mean_squared_error: 3.6154\n",
            "18/46 [==========>...................] - ETA: 0s - loss: 11.0754 - root_mean_squared_error: 3.3280\n",
            "36/46 [======================>.......] - ETA: 0s - loss: 10.0809 - root_mean_squared_error: 3.1750\n",
            "46/46 [==============================] - 0s 4ms/step - loss: 9.6358 - root_mean_squared_error: 3.1042 - val_loss: 7.9987 - val_root_mean_squared_error: 2.8282\n",
            "\n",
            " 1/12 [=>............................] - ETA: 0s - loss: 7.1468 - root_mean_squared_error: 2.6734\n",
            "12/12 [==============================] - 0s 3ms/step - loss: 7.9987 - root_mean_squared_error: 2.8282\n",
            "\n",
            "Epoch 1/3\n",
            "\n",
            " 1/46 [..............................] - ETA: 29s - loss: 34.0256 - root_mean_squared_error: 5.8331\n",
            "12/46 [======>.......................] - ETA: 0s - loss: 12.3132 - root_mean_squared_error: 3.5090 \n",
            "25/46 [===============>..............] - ETA: 0s - loss: 6.6086 - root_mean_squared_error: 2.5707 \n",
            "37/46 [=======================>......] - ETA: 0s - loss: 4.7526 - root_mean_squared_error: 2.1801\n",
            "46/46 [==============================] - ETA: 0s - loss: 3.9690 - root_mean_squared_error: 1.9922\n",
            "46/46 [==============================] - 1s 11ms/step - loss: 3.9690 - root_mean_squared_error: 1.9922 - val_loss: 0.7496 - val_root_mean_squared_error: 0.8658\n",
            "\n",
            "Epoch 2/3\n",
            "\n",
            " 1/46 [..............................] - ETA: 0s - loss: 0.5798 - root_mean_squared_error: 0.7615\n",
            "11/46 [======>.......................] - ETA: 0s - loss: 0.7766 - root_mean_squared_error: 0.8813\n",
            "23/46 [==============>...............] - ETA: 0s - loss: 0.7666 - root_mean_squared_error: 0.8755\n",
            "34/46 [=====================>........] - ETA: 0s - loss: 0.7752 - root_mean_squared_error: 0.8805\n",
            "46/46 [==============================] - ETA: 0s - loss: 0.7675 - root_mean_squared_error: 0.8761\n",
            "46/46 [==============================] - 0s 7ms/step - loss: 0.7675 - root_mean_squared_error: 0.8761 - val_loss: 0.7533 - val_root_mean_squared_error: 0.8679\n",
            "\n",
            "Epoch 3/3\n",
            "\n",
            " 1/46 [..............................] - ETA: 0s - loss: 0.9071 - root_mean_squared_error: 0.9524\n",
            "11/46 [======>.......................] - ETA: 0s - loss: 0.7891 - root_mean_squared_error: 0.8883\n",
            "23/46 [==============>...............] - ETA: 0s - loss: 0.7631 - root_mean_squared_error: 0.8735\n",
            "32/46 [===================>..........] - ETA: 0s - loss: 0.7749 - root_mean_squared_error: 0.8803\n",
            "45/46 [============================>.] - ETA: 0s - loss: 0.7719 - root_mean_squared_error: 0.8786\n",
            "46/46 [==============================] - 0s 7ms/step - loss: 0.7695 - root_mean_squared_error: 0.8772 - val_loss: 0.8374 - val_root_mean_squared_error: 0.9151\n",
            "\n",
            " 1/12 [=>............................] - ETA: 0s - loss: 0.8402 - root_mean_squared_error: 0.9166\n",
            "12/12 [==============================] - 0s 3ms/step - loss: 0.8374 - root_mean_squared_error: 0.9151\n",
            "\n",
            "Epoch 1/3\n",
            "\n",
            " 1/46 [..............................] - ETA: 23s - loss: 38.7083 - root_mean_squared_error: 6.2216\n",
            "17/46 [==========>...................] - ETA: 0s - loss: 9.3876 - root_mean_squared_error: 3.0639  \n",
            "34/46 [=====================>........] - ETA: 0s - loss: 5.9256 - root_mean_squared_error: 2.4343\n",
            "46/46 [==============================] - 1s 13ms/step - loss: 4.8875 - root_mean_squared_error: 2.2108 - val_loss: 1.8834 - val_root_mean_squared_error: 1.3724\n",
            "\n",
            "Epoch 2/3\n",
            "\n",
            " 1/46 [..............................] - ETA: 0s - loss: 1.9671 - root_mean_squared_error: 1.4025\n",
            "19/46 [===========>..................] - ETA: 0s - loss: 1.6608 - root_mean_squared_error: 1.2887\n",
            "37/46 [=======================>......] - ETA: 0s - loss: 1.4673 - root_mean_squared_error: 1.2113\n",
            "46/46 [==============================] - 0s 4ms/step - loss: 1.3885 - root_mean_squared_error: 1.1784 - val_loss: 1.0906 - val_root_mean_squared_error: 1.0443\n",
            "\n",
            "Epoch 3/3\n",
            "\n",
            " 1/46 [..............................] - ETA: 0s - loss: 1.1491 - root_mean_squared_error: 1.0719\n",
            "18/46 [==========>...................] - ETA: 0s - loss: 1.0410 - root_mean_squared_error: 1.0203\n",
            "34/46 [=====================>........] - ETA: 0s - loss: 0.9795 - root_mean_squared_error: 0.9897\n",
            "46/46 [==============================] - 0s 4ms/step - loss: 0.9526 - root_mean_squared_error: 0.9760 - val_loss: 0.8632 - val_root_mean_squared_error: 0.9291\n",
            "\n",
            " 1/12 [=>............................] - ETA: 0s - loss: 0.8160 - root_mean_squared_error: 0.9033\n",
            "12/12 [==============================] - 0s 3ms/step - loss: 0.8632 - root_mean_squared_error: 0.9291\n",
            "\n",
            "Epoch 1/3\n",
            "\n",
            " 1/46 [..............................] - ETA: 23s - loss: 40.9942 - root_mean_squared_error: 6.4027\n",
            "13/46 [=======>......................] - ETA: 0s - loss: 11.7822 - root_mean_squared_error: 3.4325 \n",
            "29/46 [=================>............] - ETA: 0s - loss: 7.0067 - root_mean_squared_error: 2.6470 \n",
            "44/46 [===========================>..] - ETA: 0s - loss: 5.5108 - root_mean_squared_error: 2.3475\n",
            "46/46 [==============================] - 1s 7ms/step - loss: 5.3769 - root_mean_squared_error: 2.3188 - val_loss: 2.5630 - val_root_mean_squared_error: 1.6009\n",
            "\n",
            "Epoch 2/3\n",
            "\n",
            " 1/46 [..............................] - ETA: 0s - loss: 2.6730 - root_mean_squared_error: 1.6349\n",
            "15/46 [========>.....................] - ETA: 0s - loss: 2.3594 - root_mean_squared_error: 1.5360\n",
            "32/46 [===================>..........] - ETA: 0s - loss: 2.2265 - root_mean_squared_error: 1.4922\n",
            "46/46 [==============================] - 0s 4ms/step - loss: 2.0595 - root_mean_squared_error: 1.4351 - val_loss: 1.7602 - val_root_mean_squared_error: 1.3267\n",
            "\n",
            "Epoch 3/3\n",
            "\n",
            " 1/46 [..............................] - ETA: 0s - loss: 1.8157 - root_mean_squared_error: 1.3475\n",
            "16/46 [=========>....................] - ETA: 0s - loss: 1.5921 - root_mean_squared_error: 1.2618\n",
            "33/46 [====================>.........] - ETA: 0s - loss: 1.4960 - root_mean_squared_error: 1.2231\n",
            "46/46 [==============================] - 0s 4ms/step - loss: 1.4284 - root_mean_squared_error: 1.1952 - val_loss: 1.2354 - val_root_mean_squared_error: 1.1115\n",
            "\n",
            " 1/12 [=>............................] - ETA: 0s - loss: 1.2154 - root_mean_squared_error: 1.1024\n",
            "12/12 [==============================] - 0s 3ms/step - loss: 1.2354 - root_mean_squared_error: 1.1115\n",
            "\n",
            "Epoch 1/3\n",
            "\n",
            " 1/46 [..............................] - ETA: 24s - loss: 29.5532 - root_mean_squared_error: 5.4363\n",
            "15/46 [========>.....................] - ETA: 0s - loss: 27.2984 - root_mean_squared_error: 5.2248 \n",
            "32/46 [===================>..........] - ETA: 0s - loss: 24.5112 - root_mean_squared_error: 4.9509\n",
            "46/46 [==============================] - 1s 8ms/step - loss: 22.3862 - root_mean_squared_error: 4.7314 - val_loss: 15.8837 - val_root_mean_squared_error: 3.9854\n",
            "\n",
            "Epoch 2/3\n",
            "\n",
            " 1/46 [..............................] - ETA: 0s - loss: 12.5769 - root_mean_squared_error: 3.5464\n",
            "18/46 [==========>...................] - ETA: 0s - loss: 13.6237 - root_mean_squared_error: 3.6910\n",
            "34/46 [=====================>........] - ETA: 0s - loss: 12.0846 - root_mean_squared_error: 3.4763\n",
            "46/46 [==============================] - 0s 4ms/step - loss: 11.1694 - root_mean_squared_error: 3.3421 - val_loss: 8.2224 - val_root_mean_squared_error: 2.8675\n",
            "\n",
            "Epoch 3/3\n",
            "\n",
            " 1/46 [..............................] - ETA: 0s - loss: 8.3830 - root_mean_squared_error: 2.8953\n",
            "17/46 [==========>...................] - ETA: 0s - loss: 7.2044 - root_mean_squared_error: 2.6841\n",
            "33/46 [====================>.........] - ETA: 0s - loss: 6.4693 - root_mean_squared_error: 2.5435\n",
            "46/46 [==============================] - 0s 5ms/step - loss: 6.1204 - root_mean_squared_error: 2.4739 - val_loss: 5.3051 - val_root_mean_squared_error: 2.3033\n",
            "\n",
            " 1/12 [=>............................] - ETA: 0s - loss: 4.4102 - root_mean_squared_error: 2.1001\n",
            "12/12 [==============================] - 0s 3ms/step - loss: 5.3051 - root_mean_squared_error: 2.3033\n",
            "\n",
            "Epoch 1/3\n",
            "\n",
            " 1/46 [..............................] - ETA: 23s - loss: 31.8706 - root_mean_squared_error: 5.6454\n",
            "17/46 [==========>...................] - ETA: 0s - loss: 26.3371 - root_mean_squared_error: 5.1320 \n",
            "34/46 [=====================>........] - ETA: 0s - loss: 21.3565 - root_mean_squared_error: 4.6213\n",
            "46/46 [==============================] - 1s 8ms/step - loss: 18.5334 - root_mean_squared_error: 4.3050 - val_loss: 9.1984 - val_root_mean_squared_error: 3.0329\n",
            "\n",
            "Epoch 2/3\n",
            "\n",
            " 1/46 [..............................] - ETA: 0s - loss: 11.0655 - root_mean_squared_error: 3.3265\n",
            "17/46 [==========>...................] - ETA: 0s - loss: 7.3605 - root_mean_squared_error: 2.7130 \n",
            "34/46 [=====================>........] - ETA: 0s - loss: 6.2705 - root_mean_squared_error: 2.5041\n",
            "46/46 [==============================] - 0s 4ms/step - loss: 5.7709 - root_mean_squared_error: 2.4023 - val_loss: 4.4521 - val_root_mean_squared_error: 2.1100\n",
            "\n",
            "Epoch 3/3\n",
            "\n",
            " 1/46 [..............................] - ETA: 0s - loss: 3.8188 - root_mean_squared_error: 1.9542\n",
            "14/46 [========>.....................] - ETA: 0s - loss: 3.9989 - root_mean_squared_error: 1.9997\n",
            "31/46 [===================>..........] - ETA: 0s - loss: 3.9207 - root_mean_squared_error: 1.9801\n",
            "46/46 [==============================] - 0s 4ms/step - loss: 3.8126 - root_mean_squared_error: 1.9526 - val_loss: 3.8424 - val_root_mean_squared_error: 1.9602\n",
            "\n",
            " 1/12 [=>............................] - ETA: 0s - loss: 3.3519 - root_mean_squared_error: 1.8308\n",
            "12/12 [==============================] - 0s 3ms/step - loss: 3.8424 - root_mean_squared_error: 1.9602\n",
            "\n",
            "100%|██████████| 8/8 [01:10<00:00,  8.78s/trial, best loss: 0.8706834316253662]\n",
            "Best parameters: {'lr': 0.007029903687845131, 'momentum': 0.6470229585563124}\n",
            "Best eval rmse: 0.8706834316253662\n"
          ]
        }
      ],
      "source": [
        "# Set MLflow experiment\n",
        "mlflow.set_experiment(\"wine-quality\")\n",
        "\n",
        "with mlflow.start_run():\n",
        "\n",
        "    # Conduct the hyperparameter search using Hyperopt\n",
        "    trials = Trials()\n",
        "    best = fmin(\n",
        "        fn=objective,\n",
        "        space=space,\n",
        "        algo=tpe.suggest,\n",
        "        max_evals=8,\n",
        "        trials=trials,\n",
        "    )\n",
        "\n",
        "    # Fetch the details of the best run\n",
        "    best_run = sorted(trials.results, key=lambda x: x[\"loss\"])[0]\n",
        "\n",
        "    # Log the best parameters, loss, and model\n",
        "    mlflow.log_params(best)\n",
        "    mlflow.log_metric(\"eval_rmse\", best_run[\"loss\"])\n",
        "    mlflow.tensorflow.log_model(best_run[\"model\"], \"model\", signature=signature)\n",
        "\n",
        "    # Print out the best parameters and corresponding loss\n",
        "    print(f\"Best parameters: {best}\")\n",
        "    print(f\"Best eval rmse: {best_run['loss']}\")"
      ]
    },
    {
      "cell_type": "code",
      "execution_count": 11,
      "id": "0cbec825-1c94-4d51-8784-6a7f4d4b3c12",
      "metadata": {
        "id": "0cbec825-1c94-4d51-8784-6a7f4d4b3c12"
      },
      "outputs": [],
      "source": []
    }
  ],
  "metadata": {
    "kernelspec": {
      "display_name": "Python 3",
      "name": "python3"
    },
    "language_info": {
      "codemirror_mode": {
        "name": "ipython",
        "version": 3
      },
      "file_extension": ".py",
      "mimetype": "text/x-python",
      "name": "python",
      "nbconvert_exporter": "python",
      "pygments_lexer": "ipython3",
      "version": "3.10.5"
    },
    "colab": {
      "provenance": [],
      "gpuType": "T4"
    },
    "accelerator": "GPU"
  },
  "nbformat": 4,
  "nbformat_minor": 5
}