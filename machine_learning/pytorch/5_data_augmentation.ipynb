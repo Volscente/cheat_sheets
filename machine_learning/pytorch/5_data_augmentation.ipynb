{
 "cells": [
  {
   "cell_type": "markdown",
   "id": "7ba472ea-b892-4390-8539-fdcc49183da0",
   "metadata": {},
   "source": [
    "# Introduction\n",
    "\n",
    "Experiment with different data augmentation techniques."
   ]
  },
  {
   "cell_type": "markdown",
   "id": "bdd9e245-f18d-49ad-9525-4c265d1fcff4",
   "metadata": {},
   "source": [
    "# Mixup\n",
    "It mixes two images together."
   ]
  },
  {
   "cell_type": "code",
   "execution_count": null,
   "id": "aec7d546-ebde-4359-a2dd-96976a93c3e3",
   "metadata": {},
   "outputs": [],
   "source": []
  }
 ],
 "metadata": {
  "kernelspec": {
   "display_name": "Python 3 (ipykernel)",
   "language": "python",
   "name": "python3"
  },
  "language_info": {
   "codemirror_mode": {
    "name": "ipython",
    "version": 3
   },
   "file_extension": ".py",
   "mimetype": "text/x-python",
   "name": "python",
   "nbconvert_exporter": "python",
   "pygments_lexer": "ipython3",
   "version": "3.10.5"
  }
 },
 "nbformat": 4,
 "nbformat_minor": 5
}
