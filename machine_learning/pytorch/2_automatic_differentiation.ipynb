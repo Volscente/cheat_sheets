{
 "cells": [
  {
   "cell_type": "markdown",
   "id": "63bca0dc-1488-4c4a-ac52-ceb491cc55cb",
   "metadata": {},
   "source": [
    "# Introduction\n",
    "\n",
    "Experiment with Automatic Differentiation with PyTorch"
   ]
  },
  {
   "cell_type": "code",
   "execution_count": 1,
   "id": "e4262021-3b80-4dde-8d83-2c812437784f",
   "metadata": {},
   "outputs": [],
   "source": [
    "# Import Standard Libraries\n",
    "import torch"
   ]
  },
  {
   "cell_type": "markdown",
   "id": "e4bcae16-2819-4d7b-8a23-0ae76cd80f79",
   "metadata": {},
   "source": [
    "# AutoGrad"
   ]
  },
  {
   "cell_type": "markdown",
   "id": "0270ce52-2a0e-4b61-a81c-b26e8b8ded46",
   "metadata": {},
   "source": [
    "By setting the parameters 'requires_grad' equals to 'True', it is possible to compute the gradients with respect to those tensors"
   ]
  },
  {
   "cell_type": "code",
   "execution_count": 2,
   "id": "7d5af552-c384-4dbf-94a2-dd1a82ff0a13",
   "metadata": {},
   "outputs": [],
   "source": [
    "# Define two tensors with respect to it is possible to compute the gradients\n",
    "x = torch.tensor([1, 2, 3],\n",
    "                 dtype=torch.float, \n",
    "                 requires_grad=True)\n",
    "\n",
    "y = torch.tensor([4, 5, 6], \n",
    "                 dtype=torch.float, \n",
    "                 requires_grad=True)"
   ]
  },
  {
   "cell_type": "code",
   "execution_count": 3,
   "id": "d143bf2d-98e1-4864-80c5-3fbc806e24aa",
   "metadata": {},
   "outputs": [],
   "source": [
    "# Define a tensor operation\n",
    "z = x + y"
   ]
  },
  {
   "cell_type": "code",
   "execution_count": 4,
   "id": "e9093e19-e59c-4f3f-95a0-321ceac1852e",
   "metadata": {},
   "outputs": [
    {
     "data": {
      "text/plain": [
       "<AddBackward0 at 0x11307c6a0>"
      ]
     },
     "execution_count": 4,
     "metadata": {},
     "output_type": "execute_result"
    }
   ],
   "source": [
    "# It possible to compute the gradient\n",
    "z.grad_fn"
   ]
  },
  {
   "cell_type": "code",
   "execution_count": 5,
   "id": "b6c7f73d-de92-49ad-9974-95a6c83d682d",
   "metadata": {},
   "outputs": [],
   "source": [
    "# Every subsequent operation is available to compute the gradient\n",
    "s = z.sum()"
   ]
  },
  {
   "cell_type": "code",
   "execution_count": 6,
   "id": "2faf6e3b-c0ba-46cd-a6ba-13ef6580ec77",
   "metadata": {},
   "outputs": [
    {
     "data": {
      "text/plain": [
       "<SumBackward0 at 0x11307cf10>"
      ]
     },
     "execution_count": 6,
     "metadata": {},
     "output_type": "execute_result"
    }
   ],
   "source": [
    "s.grad_fn"
   ]
  },
  {
   "cell_type": "code",
   "execution_count": 7,
   "id": "c2c7af86-196f-4467-96a3-a65614be3c3f",
   "metadata": {},
   "outputs": [
    {
     "name": "stdout",
     "output_type": "stream",
     "text": [
      "tensor([1., 1., 1.])\n"
     ]
    }
   ],
   "source": [
    "# Perform backpropagation\n",
    "s.backward()\n",
    "print(x.grad) # Differentiation of s with respect to x"
   ]
  },
  {
   "cell_type": "markdown",
   "id": "84e7ea49-7646-493a-b67b-ca9ef387b77a",
   "metadata": {},
   "source": [
    "# Utils"
   ]
  },
  {
   "cell_type": "markdown",
   "id": "c1177552-54ac-4d49-8512-272c699be6b3",
   "metadata": {},
   "source": [
    "## Detach"
   ]
  },
  {
   "cell_type": "code",
   "execution_count": 8,
   "id": "c1f1c3c2-bbe7-428e-9fde-142179b1f37c",
   "metadata": {},
   "outputs": [],
   "source": [
    "# Return a tensor equals to 'z' but without the computation history\n",
    "detached_z = z.detach()"
   ]
  },
  {
   "cell_type": "code",
   "execution_count": 9,
   "id": "1565bfdc-b4c0-4081-8d6e-cefdf0068522",
   "metadata": {},
   "outputs": [],
   "source": [
    "# No more gradient\n",
    "detached_z.grad_fn"
   ]
  },
  {
   "cell_type": "code",
   "execution_count": 10,
   "id": "0877f18d-da82-414d-9b6b-0bd14de48c54",
   "metadata": {},
   "outputs": [
    {
     "data": {
      "text/plain": [
       "<AddBackward0 at 0x11307c6a0>"
      ]
     },
     "execution_count": 10,
     "metadata": {},
     "output_type": "execute_result"
    }
   ],
   "source": [
    "z.grad_fn"
   ]
  }
 ],
 "metadata": {
  "kernelspec": {
   "display_name": "Python 3 (ipykernel)",
   "language": "python",
   "name": "python3"
  },
  "language_info": {
   "codemirror_mode": {
    "name": "ipython",
    "version": 3
   },
   "file_extension": ".py",
   "mimetype": "text/x-python",
   "name": "python",
   "nbconvert_exporter": "python",
   "pygments_lexer": "ipython3",
   "version": "3.10.5"
  }
 },
 "nbformat": 4,
 "nbformat_minor": 5
}
