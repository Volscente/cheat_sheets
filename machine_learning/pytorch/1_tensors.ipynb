{
 "cells": [
  {
   "cell_type": "markdown",
   "id": "d33db495-8bf3-44b5-9174-c0aa28f5e330",
   "metadata": {},
   "source": [
    "# Introduction\n",
    "\n",
    "Experiment with PyTorch and in particular with Tensors."
   ]
  },
  {
   "cell_type": "code",
   "execution_count": 2,
   "id": "dab0d064-374b-486b-8a61-23224b056e5c",
   "metadata": {},
   "outputs": [],
   "source": [
    "# Import Standard Libraries\n",
    "import torch"
   ]
  },
  {
   "cell_type": "markdown",
   "id": "dadd8785-4c48-4a94-b937-ac2969946cf9",
   "metadata": {},
   "source": [
    "# Definition"
   ]
  },
  {
   "cell_type": "markdown",
   "id": "ff886c34-e125-4ba8-97d4-57540d102a8b",
   "metadata": {},
   "source": [
    "## Integer Tensors"
   ]
  },
  {
   "cell_type": "code",
   "execution_count": 4,
   "id": "d2b76998-e9f3-49e2-abf1-bc55a76ee9cf",
   "metadata": {},
   "outputs": [],
   "source": [
    "# 1-D Tensor or Vector\n",
    "tensor = torch.tensor([1, 2, 3])"
   ]
  },
  {
   "cell_type": "code",
   "execution_count": 5,
   "id": "915d54cf-2e52-4fa9-aac8-2907b2e2b5a2",
   "metadata": {},
   "outputs": [
    {
     "data": {
      "text/plain": [
       "tensor([1, 2, 3])"
      ]
     },
     "execution_count": 5,
     "metadata": {},
     "output_type": "execute_result"
    }
   ],
   "source": [
    "tensor"
   ]
  },
  {
   "cell_type": "code",
   "execution_count": 6,
   "id": "a2f6db88-4e10-4110-aede-9d6085ec8554",
   "metadata": {},
   "outputs": [],
   "source": [
    "# 2-D Tensor or Matrix\n",
    "matrix = torch.tensor([[1, 2, 3], [4, 5, 6]])"
   ]
  },
  {
   "cell_type": "code",
   "execution_count": 7,
   "id": "2eb7a977-70a8-4ee1-9631-53d0dfca5950",
   "metadata": {},
   "outputs": [
    {
     "data": {
      "text/plain": [
       "tensor([[1, 2, 3],\n",
       "        [4, 5, 6]])"
      ]
     },
     "execution_count": 7,
     "metadata": {},
     "output_type": "execute_result"
    }
   ],
   "source": [
    "matrix"
   ]
  },
  {
   "cell_type": "markdown",
   "id": "409644a3-4fc8-45fe-85a6-70480ee6aa76",
   "metadata": {},
   "source": [
    "## Float Tensors"
   ]
  },
  {
   "cell_type": "code",
   "execution_count": 10,
   "id": "3f68279f-ad73-4faa-968f-e1072831e1cd",
   "metadata": {},
   "outputs": [],
   "source": [
    "# Create a float tensor\n",
    "tensor_float = torch.FloatTensor([1, 2, 3])\n",
    "tensor_float_2 = torch.tensor([1, 2, 3], dtype=torch.float)"
   ]
  },
  {
   "cell_type": "code",
   "execution_count": 11,
   "id": "4343fca2-dc4c-4658-aa79-ed78a5d6d2cc",
   "metadata": {},
   "outputs": [
    {
     "data": {
      "text/plain": [
       "tensor([1., 2., 3.])"
      ]
     },
     "execution_count": 11,
     "metadata": {},
     "output_type": "execute_result"
    }
   ],
   "source": [
    "tensor_float"
   ]
  },
  {
   "cell_type": "code",
   "execution_count": 12,
   "id": "d0a7c8d2-5ea8-4252-9554-cf5ae08ade2a",
   "metadata": {},
   "outputs": [
    {
     "data": {
      "text/plain": [
       "tensor([1., 2., 3.])"
      ]
     },
     "execution_count": 12,
     "metadata": {},
     "output_type": "execute_result"
    }
   ],
   "source": [
    "tensor_float_2"
   ]
  },
  {
   "cell_type": "markdown",
   "id": "5eef4282-e93b-4e66-816d-c5b1b76dffe0",
   "metadata": {},
   "source": [
    "## Double Tensors"
   ]
  },
  {
   "cell_type": "code",
   "execution_count": 13,
   "id": "b71dfee4-a8fb-49ae-805b-abb762eb24b2",
   "metadata": {},
   "outputs": [],
   "source": [
    "# Create a double tensor\n",
    "tensor_double = torch.DoubleTensor([1, 2, 3])\n",
    "tensor_double_2 = torch.tensor([1, 2, 3], dtype=torch.double)"
   ]
  },
  {
   "cell_type": "code",
   "execution_count": 14,
   "id": "dc14713b-7ce4-4286-89f0-afc3024ca8ae",
   "metadata": {},
   "outputs": [
    {
     "data": {
      "text/plain": [
       "tensor([1., 2., 3.], dtype=torch.float64)"
      ]
     },
     "execution_count": 14,
     "metadata": {},
     "output_type": "execute_result"
    }
   ],
   "source": [
    "tensor_double"
   ]
  },
  {
   "cell_type": "code",
   "execution_count": 17,
   "id": "362c846a-09e4-428c-9043-8e006f6c3fbb",
   "metadata": {},
   "outputs": [
    {
     "data": {
      "text/plain": [
       "tensor([1., 2., 3.], dtype=torch.float64)"
      ]
     },
     "execution_count": 17,
     "metadata": {},
     "output_type": "execute_result"
    }
   ],
   "source": [
    "tensor_double_2"
   ]
  },
  {
   "cell_type": "markdown",
   "id": "d344332d-fc41-4a00-acc9-fb95e3416ee6",
   "metadata": {},
   "source": [
    "# Shape"
   ]
  },
  {
   "cell_type": "code",
   "execution_count": 9,
   "id": "9343adfc-3742-4749-b19c-b3897ce4aa8c",
   "metadata": {},
   "outputs": [
    {
     "name": "stdout",
     "output_type": "stream",
     "text": [
      "torch.Size([3])\n",
      "torch.Size([2, 3])\n",
      "torch.Size([3])\n",
      "torch.Size([2, 3])\n"
     ]
    }
   ],
   "source": [
    "# Shape and size() give the same results\n",
    "print(tensor.shape)\n",
    "print(matrix.shape)\n",
    "print(tensor.size())\n",
    "print(matrix.size())"
   ]
  },
  {
   "cell_type": "markdown",
   "id": "97c5ff54-ff23-437c-b026-1013d05f1ec4",
   "metadata": {},
   "source": [
    "# Statistics"
   ]
  },
  {
   "cell_type": "code",
   "execution_count": 22,
   "id": "37731960-3960-41a1-bd8b-b376f2f76096",
   "metadata": {},
   "outputs": [
    {
     "data": {
      "text/plain": [
       "tensor(2., dtype=torch.float64)"
      ]
     },
     "execution_count": 22,
     "metadata": {},
     "output_type": "execute_result"
    }
   ],
   "source": [
    "# Get the mean and std\n",
    "tensor_double.mean()"
   ]
  },
  {
   "cell_type": "code",
   "execution_count": 23,
   "id": "c5b596a8-4894-442f-8a49-cce3484809b8",
   "metadata": {},
   "outputs": [
    {
     "data": {
      "text/plain": [
       "tensor(1., dtype=torch.float64)"
      ]
     },
     "execution_count": 23,
     "metadata": {},
     "output_type": "execute_result"
    }
   ],
   "source": [
    "tensor_double.std()"
   ]
  },
  {
   "cell_type": "markdown",
   "id": "27f0d7f0-78bc-4ce9-943f-882664e97ad2",
   "metadata": {},
   "source": [
    "# Reshape"
   ]
  },
  {
   "cell_type": "code",
   "execution_count": 24,
   "id": "6b695a4d-4044-4cf6-a7da-691707d1acc6",
   "metadata": {},
   "outputs": [
    {
     "data": {
      "text/plain": [
       "tensor([[1.],\n",
       "        [2.],\n",
       "        [3.]], dtype=torch.float64)"
      ]
     },
     "execution_count": 24,
     "metadata": {},
     "output_type": "execute_result"
    }
   ],
   "source": [
    "# It is done through the method 'view'\n",
    "tensor_double.view(-1, 1)"
   ]
  },
  {
   "cell_type": "code",
   "execution_count": 26,
   "id": "2b4b4997-3809-4a19-9f86-4cb176400519",
   "metadata": {},
   "outputs": [
    {
     "data": {
      "text/plain": [
       "tensor([[1, 2],\n",
       "        [3, 4],\n",
       "        [5, 6]])"
      ]
     },
     "execution_count": 26,
     "metadata": {},
     "output_type": "execute_result"
    }
   ],
   "source": [
    "# The '-1' means that the dimension has to be inferred from the second one\n",
    "matrix.view(-1, 2)"
   ]
  },
  {
   "cell_type": "markdown",
   "id": "69dd6120-6b98-4092-bca2-8f61693f48b8",
   "metadata": {},
   "source": [
    "# Random"
   ]
  },
  {
   "cell_type": "code",
   "execution_count": 28,
   "id": "b8443ea9-c4f7-4ce7-be8f-252d4fa302d9",
   "metadata": {},
   "outputs": [
    {
     "data": {
      "text/plain": [
       "tensor([[ 0.4830, -0.4618, -0.9178,  0.7573],\n",
       "        [ 0.5485, -0.2027, -1.9606, -0.0810],\n",
       "        [ 0.6288,  0.1336,  1.3865, -1.9920],\n",
       "        [ 0.2363, -0.9792,  0.0117, -0.5216]])"
      ]
     },
     "execution_count": 28,
     "metadata": {},
     "output_type": "execute_result"
    }
   ],
   "source": [
    "# Random numbers from normal distribution\n",
    "torch.randn(4, 4)"
   ]
  },
  {
   "cell_type": "code",
   "execution_count": 37,
   "id": "1ef04476-d054-4520-9c75-2e13cf7dbac3",
   "metadata": {},
   "outputs": [
    {
     "data": {
      "text/plain": [
       "tensor([[8, 9],\n",
       "        [8, 4],\n",
       "        [6, 6],\n",
       "        [8, 6]])"
      ]
     },
     "execution_count": 37,
     "metadata": {},
     "output_type": "execute_result"
    }
   ],
   "source": [
    "# Random integer numbers between 1 and 10\n",
    "torch.randint(1, 10, (4, 2))"
   ]
  },
  {
   "cell_type": "code",
   "execution_count": 39,
   "id": "197f4357-e93f-474e-8433-c9385d3b2542",
   "metadata": {},
   "outputs": [
    {
     "name": "stdout",
     "output_type": "stream",
     "text": [
      "tensor([[-2.0249,  0.6718,  1.1783,  0.0496],\n",
      "        [ 0.8409, -1.1505,  0.3878,  0.5574],\n",
      "        [-0.3427,  0.6600,  1.1552, -0.5180],\n",
      "        [-0.2376,  0.2543,  0.7970, -1.3231]], dtype=torch.float64)\n"
     ]
    }
   ],
   "source": [
    "# Generate a random tensor with the same size of another one\n",
    "tensor_random = torch.randn(4, 4)\n",
    "print(torch.randn_like(tensor_random, dtype=torch.double))"
   ]
  },
  {
   "cell_type": "markdown",
   "id": "e6f67750-cefe-4f6b-8410-51eef19f267a",
   "metadata": {},
   "source": [
    "# Operations"
   ]
  },
  {
   "cell_type": "code",
   "execution_count": 40,
   "id": "17e501e0-8a05-459e-ae11-e8d5e4c8ce53",
   "metadata": {},
   "outputs": [
    {
     "data": {
      "text/plain": [
       "tensor([5., 7., 9.], dtype=torch.float64)"
      ]
     },
     "execution_count": 40,
     "metadata": {},
     "output_type": "execute_result"
    }
   ],
   "source": [
    "# Add\n",
    "torch.add(torch.tensor([1, 2, 3], dtype=torch.double), \n",
    "          torch.tensor([4, 5, 6], dtype=torch.double))"
   ]
  }
 ],
 "metadata": {
  "kernelspec": {
   "display_name": "Python 3 (ipykernel)",
   "language": "python",
   "name": "python3"
  },
  "language_info": {
   "codemirror_mode": {
    "name": "ipython",
    "version": 3
   },
   "file_extension": ".py",
   "mimetype": "text/x-python",
   "name": "python",
   "nbconvert_exporter": "python",
   "pygments_lexer": "ipython3",
   "version": "3.10.5"
  }
 },
 "nbformat": 4,
 "nbformat_minor": 5
}
