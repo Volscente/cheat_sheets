{
 "cells": [
  {
   "cell_type": "markdown",
   "id": "d33db495-8bf3-44b5-9174-c0aa28f5e330",
   "metadata": {},
   "source": [
    "# Introduction\n",
    "\n",
    "Experiment with PyTorch and in particular with Tensors."
   ]
  },
  {
   "cell_type": "code",
   "execution_count": 1,
   "id": "dab0d064-374b-486b-8a61-23224b056e5c",
   "metadata": {},
   "outputs": [],
   "source": [
    "# Import Standard Libraries\n",
    "import torch\n",
    "import numpy as np"
   ]
  },
  {
   "cell_type": "markdown",
   "id": "dadd8785-4c48-4a94-b937-ac2969946cf9",
   "metadata": {},
   "source": [
    "# Definition"
   ]
  },
  {
   "cell_type": "markdown",
   "id": "ff886c34-e125-4ba8-97d4-57540d102a8b",
   "metadata": {},
   "source": [
    "## Integer Tensors"
   ]
  },
  {
   "cell_type": "code",
   "execution_count": 2,
   "id": "d2b76998-e9f3-49e2-abf1-bc55a76ee9cf",
   "metadata": {},
   "outputs": [],
   "source": [
    "# 1-D Tensor or Vector\n",
    "tensor = torch.tensor([1, 2, 3])"
   ]
  },
  {
   "cell_type": "code",
   "execution_count": 3,
   "id": "915d54cf-2e52-4fa9-aac8-2907b2e2b5a2",
   "metadata": {},
   "outputs": [
    {
     "data": {
      "text/plain": [
       "tensor([1, 2, 3])"
      ]
     },
     "execution_count": 3,
     "metadata": {},
     "output_type": "execute_result"
    }
   ],
   "source": [
    "tensor"
   ]
  },
  {
   "cell_type": "code",
   "execution_count": 4,
   "id": "a2f6db88-4e10-4110-aede-9d6085ec8554",
   "metadata": {},
   "outputs": [],
   "source": [
    "# 2-D Tensor or Matrix\n",
    "matrix = torch.tensor([[1, 2, 3], [4, 5, 6]])"
   ]
  },
  {
   "cell_type": "code",
   "execution_count": 5,
   "id": "2eb7a977-70a8-4ee1-9631-53d0dfca5950",
   "metadata": {},
   "outputs": [
    {
     "data": {
      "text/plain": [
       "tensor([[1, 2, 3],\n",
       "        [4, 5, 6]])"
      ]
     },
     "execution_count": 5,
     "metadata": {},
     "output_type": "execute_result"
    }
   ],
   "source": [
    "matrix"
   ]
  },
  {
   "cell_type": "markdown",
   "id": "409644a3-4fc8-45fe-85a6-70480ee6aa76",
   "metadata": {},
   "source": [
    "## Float Tensors"
   ]
  },
  {
   "cell_type": "code",
   "execution_count": 6,
   "id": "3f68279f-ad73-4faa-968f-e1072831e1cd",
   "metadata": {},
   "outputs": [],
   "source": [
    "# Create a float tensor\n",
    "tensor_float = torch.FloatTensor([1, 2, 3])\n",
    "tensor_float_2 = torch.tensor([1, 2, 3], dtype=torch.float)"
   ]
  },
  {
   "cell_type": "code",
   "execution_count": 7,
   "id": "4343fca2-dc4c-4658-aa79-ed78a5d6d2cc",
   "metadata": {},
   "outputs": [
    {
     "data": {
      "text/plain": [
       "tensor([1., 2., 3.])"
      ]
     },
     "execution_count": 7,
     "metadata": {},
     "output_type": "execute_result"
    }
   ],
   "source": [
    "tensor_float"
   ]
  },
  {
   "cell_type": "code",
   "execution_count": 8,
   "id": "d0a7c8d2-5ea8-4252-9554-cf5ae08ade2a",
   "metadata": {},
   "outputs": [
    {
     "data": {
      "text/plain": [
       "tensor([1., 2., 3.])"
      ]
     },
     "execution_count": 8,
     "metadata": {},
     "output_type": "execute_result"
    }
   ],
   "source": [
    "tensor_float_2"
   ]
  },
  {
   "cell_type": "markdown",
   "id": "5eef4282-e93b-4e66-816d-c5b1b76dffe0",
   "metadata": {},
   "source": [
    "## Double Tensors"
   ]
  },
  {
   "cell_type": "code",
   "execution_count": 9,
   "id": "b71dfee4-a8fb-49ae-805b-abb762eb24b2",
   "metadata": {},
   "outputs": [],
   "source": [
    "# Create a double tensor\n",
    "tensor_double = torch.DoubleTensor([1, 2, 3])\n",
    "tensor_double_2 = torch.tensor([1, 2, 3], dtype=torch.double)"
   ]
  },
  {
   "cell_type": "code",
   "execution_count": 10,
   "id": "dc14713b-7ce4-4286-89f0-afc3024ca8ae",
   "metadata": {},
   "outputs": [
    {
     "data": {
      "text/plain": [
       "tensor([1., 2., 3.], dtype=torch.float64)"
      ]
     },
     "execution_count": 10,
     "metadata": {},
     "output_type": "execute_result"
    }
   ],
   "source": [
    "tensor_double"
   ]
  },
  {
   "cell_type": "code",
   "execution_count": 11,
   "id": "362c846a-09e4-428c-9043-8e006f6c3fbb",
   "metadata": {},
   "outputs": [
    {
     "data": {
      "text/plain": [
       "tensor([1., 2., 3.], dtype=torch.float64)"
      ]
     },
     "execution_count": 11,
     "metadata": {},
     "output_type": "execute_result"
    }
   ],
   "source": [
    "tensor_double_2"
   ]
  },
  {
   "cell_type": "markdown",
   "id": "d344332d-fc41-4a00-acc9-fb95e3416ee6",
   "metadata": {},
   "source": [
    "# Shape"
   ]
  },
  {
   "cell_type": "code",
   "execution_count": 12,
   "id": "9343adfc-3742-4749-b19c-b3897ce4aa8c",
   "metadata": {},
   "outputs": [
    {
     "name": "stdout",
     "output_type": "stream",
     "text": [
      "torch.Size([3])\n",
      "torch.Size([2, 3])\n",
      "torch.Size([3])\n",
      "torch.Size([2, 3])\n"
     ]
    }
   ],
   "source": [
    "# Shape and size() give the same results\n",
    "print(tensor.shape)\n",
    "print(matrix.shape)\n",
    "print(tensor.size())\n",
    "print(matrix.size())"
   ]
  },
  {
   "cell_type": "markdown",
   "id": "97c5ff54-ff23-437c-b026-1013d05f1ec4",
   "metadata": {},
   "source": [
    "# Statistics"
   ]
  },
  {
   "cell_type": "code",
   "execution_count": 13,
   "id": "37731960-3960-41a1-bd8b-b376f2f76096",
   "metadata": {},
   "outputs": [
    {
     "data": {
      "text/plain": [
       "tensor(2., dtype=torch.float64)"
      ]
     },
     "execution_count": 13,
     "metadata": {},
     "output_type": "execute_result"
    }
   ],
   "source": [
    "# Get the mean and std\n",
    "tensor_double.mean()"
   ]
  },
  {
   "cell_type": "code",
   "execution_count": 14,
   "id": "c5b596a8-4894-442f-8a49-cce3484809b8",
   "metadata": {},
   "outputs": [
    {
     "data": {
      "text/plain": [
       "tensor(1., dtype=torch.float64)"
      ]
     },
     "execution_count": 14,
     "metadata": {},
     "output_type": "execute_result"
    }
   ],
   "source": [
    "tensor_double.std()"
   ]
  },
  {
   "cell_type": "markdown",
   "id": "27f0d7f0-78bc-4ce9-943f-882664e97ad2",
   "metadata": {},
   "source": [
    "# Reshape"
   ]
  },
  {
   "cell_type": "code",
   "execution_count": 15,
   "id": "6b695a4d-4044-4cf6-a7da-691707d1acc6",
   "metadata": {},
   "outputs": [
    {
     "data": {
      "text/plain": [
       "tensor([[1.],\n",
       "        [2.],\n",
       "        [3.]], dtype=torch.float64)"
      ]
     },
     "execution_count": 15,
     "metadata": {},
     "output_type": "execute_result"
    }
   ],
   "source": [
    "# It is done through the method 'view'\n",
    "tensor_double.view(-1, 1)"
   ]
  },
  {
   "cell_type": "code",
   "execution_count": 16,
   "id": "2b4b4997-3809-4a19-9f86-4cb176400519",
   "metadata": {},
   "outputs": [
    {
     "data": {
      "text/plain": [
       "tensor([[1, 2],\n",
       "        [3, 4],\n",
       "        [5, 6]])"
      ]
     },
     "execution_count": 16,
     "metadata": {},
     "output_type": "execute_result"
    }
   ],
   "source": [
    "# The '-1' means that the dimension has to be inferred from the second one\n",
    "matrix.view(-1, 2)"
   ]
  },
  {
   "cell_type": "markdown",
   "id": "69dd6120-6b98-4092-bca2-8f61693f48b8",
   "metadata": {},
   "source": [
    "# Random"
   ]
  },
  {
   "cell_type": "code",
   "execution_count": 17,
   "id": "b8443ea9-c4f7-4ce7-be8f-252d4fa302d9",
   "metadata": {},
   "outputs": [
    {
     "data": {
      "text/plain": [
       "tensor([[-1.8830, -1.7305, -0.3838, -0.6446],\n",
       "        [ 0.5705, -0.7423,  0.4478,  0.9230],\n",
       "        [ 0.5368,  1.5204,  0.4083,  0.8357],\n",
       "        [-2.4958, -0.1774, -1.3885, -1.4901]])"
      ]
     },
     "execution_count": 17,
     "metadata": {},
     "output_type": "execute_result"
    }
   ],
   "source": [
    "# Random numbers from normal distribution\n",
    "torch.randn(4, 4)"
   ]
  },
  {
   "cell_type": "code",
   "execution_count": 18,
   "id": "1ef04476-d054-4520-9c75-2e13cf7dbac3",
   "metadata": {},
   "outputs": [
    {
     "data": {
      "text/plain": [
       "tensor([[6, 9],\n",
       "        [7, 2],\n",
       "        [8, 8],\n",
       "        [8, 5]])"
      ]
     },
     "execution_count": 18,
     "metadata": {},
     "output_type": "execute_result"
    }
   ],
   "source": [
    "# Random integer numbers between 1 and 10\n",
    "torch.randint(1, 10, (4, 2))"
   ]
  },
  {
   "cell_type": "code",
   "execution_count": 19,
   "id": "197f4357-e93f-474e-8433-c9385d3b2542",
   "metadata": {},
   "outputs": [
    {
     "name": "stdout",
     "output_type": "stream",
     "text": [
      "tensor([[-0.5977,  1.0083, -1.4834, -0.1746],\n",
      "        [-1.1579, -1.1544,  0.4036, -0.0921],\n",
      "        [ 0.0988,  1.2316,  0.2352, -1.1992],\n",
      "        [ 0.0081, -1.4409,  0.6197,  0.8233]], dtype=torch.float64)\n"
     ]
    }
   ],
   "source": [
    "# Generate a random tensor with the same size of another one\n",
    "tensor_random = torch.randn(4, 4)\n",
    "print(torch.randn_like(tensor_random, dtype=torch.double))"
   ]
  },
  {
   "cell_type": "markdown",
   "id": "e6f67750-cefe-4f6b-8410-51eef19f267a",
   "metadata": {},
   "source": [
    "# Operations"
   ]
  },
  {
   "cell_type": "code",
   "execution_count": 20,
   "id": "17e501e0-8a05-459e-ae11-e8d5e4c8ce53",
   "metadata": {},
   "outputs": [
    {
     "data": {
      "text/plain": [
       "tensor([5., 7., 9.], dtype=torch.float64)"
      ]
     },
     "execution_count": 20,
     "metadata": {},
     "output_type": "execute_result"
    }
   ],
   "source": [
    "# Add\n",
    "torch.add(torch.tensor([1, 2, 3], dtype=torch.double), \n",
    "          torch.tensor([4, 5, 6], dtype=torch.double))"
   ]
  },
  {
   "cell_type": "markdown",
   "id": "3e8c1fb6-6ce6-4037-8c42-989c72f03db1",
   "metadata": {},
   "source": [
    "# Numpy Integrations"
   ]
  },
  {
   "cell_type": "code",
   "execution_count": 21,
   "id": "e2a26071-357d-49dd-ae0d-f693093efb13",
   "metadata": {},
   "outputs": [],
   "source": [
    "# Convert from tensor to numpy array\n",
    "numpy_array = torch.ones(5).numpy()"
   ]
  },
  {
   "cell_type": "code",
   "execution_count": 22,
   "id": "aa0fddcc-f01c-4c5c-9855-971d7071f2ad",
   "metadata": {},
   "outputs": [
    {
     "data": {
      "text/plain": [
       "numpy.ndarray"
      ]
     },
     "execution_count": 22,
     "metadata": {},
     "output_type": "execute_result"
    }
   ],
   "source": [
    "type(numpy_array)"
   ]
  },
  {
   "cell_type": "code",
   "execution_count": 23,
   "id": "00806332-06dc-420d-a622-f97bffd15edb",
   "metadata": {},
   "outputs": [],
   "source": [
    "# Convert from numpy to tensor\n",
    "tensor_from_numpy = torch.from_numpy(np.ndarray([1, 2, 3]))"
   ]
  },
  {
   "cell_type": "code",
   "execution_count": 24,
   "id": "31b0caa3-e6eb-4a28-8a96-03bbbcd0c22b",
   "metadata": {},
   "outputs": [
    {
     "data": {
      "text/plain": [
       "torch.Tensor"
      ]
     },
     "execution_count": 24,
     "metadata": {},
     "output_type": "execute_result"
    }
   ],
   "source": [
    "type(tensor_from_numpy)"
   ]
  },
  {
   "cell_type": "markdown",
   "id": "6dc7dff2-7597-4568-a44d-6e6bbb2931f1",
   "metadata": {},
   "source": [
    "# GPU Usage"
   ]
  },
  {
   "cell_type": "code",
   "execution_count": 26,
   "id": "659e19ed-227f-47d9-8e75-849a72a705c8",
   "metadata": {},
   "outputs": [
    {
     "ename": "AssertionError",
     "evalue": "Torch not compiled with CUDA enabled",
     "output_type": "error",
     "traceback": [
      "\u001b[0;31m---------------------------------------------------------------------------\u001b[0m",
      "\u001b[0;31mAssertionError\u001b[0m                            Traceback (most recent call last)",
      "Cell \u001b[0;32mIn [26], line 2\u001b[0m\n\u001b[1;32m      1\u001b[0m \u001b[38;5;66;03m# Move tensor to GPU\u001b[39;00m\n\u001b[0;32m----> 2\u001b[0m tensor_float \u001b[38;5;241m=\u001b[39m \u001b[43mtensor_float\u001b[49m\u001b[38;5;241;43m.\u001b[39;49m\u001b[43mcuda\u001b[49m\u001b[43m(\u001b[49m\u001b[43m)\u001b[49m\n",
      "File \u001b[0;32m~/.local/share/virtualenvs/cheat_sheets-EiW5VkhA/lib/python3.10/site-packages/torch/cuda/__init__.py:221\u001b[0m, in \u001b[0;36m_lazy_init\u001b[0;34m()\u001b[0m\n\u001b[1;32m    217\u001b[0m     \u001b[38;5;28;01mraise\u001b[39;00m \u001b[38;5;167;01mRuntimeError\u001b[39;00m(\n\u001b[1;32m    218\u001b[0m         \u001b[38;5;124m\"\u001b[39m\u001b[38;5;124mCannot re-initialize CUDA in forked subprocess. To use CUDA with \u001b[39m\u001b[38;5;124m\"\u001b[39m\n\u001b[1;32m    219\u001b[0m         \u001b[38;5;124m\"\u001b[39m\u001b[38;5;124mmultiprocessing, you must use the \u001b[39m\u001b[38;5;124m'\u001b[39m\u001b[38;5;124mspawn\u001b[39m\u001b[38;5;124m'\u001b[39m\u001b[38;5;124m start method\u001b[39m\u001b[38;5;124m\"\u001b[39m)\n\u001b[1;32m    220\u001b[0m \u001b[38;5;28;01mif\u001b[39;00m \u001b[38;5;129;01mnot\u001b[39;00m \u001b[38;5;28mhasattr\u001b[39m(torch\u001b[38;5;241m.\u001b[39m_C, \u001b[38;5;124m'\u001b[39m\u001b[38;5;124m_cuda_getDeviceCount\u001b[39m\u001b[38;5;124m'\u001b[39m):\n\u001b[0;32m--> 221\u001b[0m     \u001b[38;5;28;01mraise\u001b[39;00m \u001b[38;5;167;01mAssertionError\u001b[39;00m(\u001b[38;5;124m\"\u001b[39m\u001b[38;5;124mTorch not compiled with CUDA enabled\u001b[39m\u001b[38;5;124m\"\u001b[39m)\n\u001b[1;32m    222\u001b[0m \u001b[38;5;28;01mif\u001b[39;00m _cudart \u001b[38;5;129;01mis\u001b[39;00m \u001b[38;5;28;01mNone\u001b[39;00m:\n\u001b[1;32m    223\u001b[0m     \u001b[38;5;28;01mraise\u001b[39;00m \u001b[38;5;167;01mAssertionError\u001b[39;00m(\n\u001b[1;32m    224\u001b[0m         \u001b[38;5;124m\"\u001b[39m\u001b[38;5;124mlibcudart functions unavailable. It looks like you have a broken build?\u001b[39m\u001b[38;5;124m\"\u001b[39m)\n",
      "\u001b[0;31mAssertionError\u001b[0m: Torch not compiled with CUDA enabled"
     ]
    }
   ],
   "source": [
    "# Move tensor to GPU\n",
    "tensor_float = tensor_float.cuda()"
   ]
  },
  {
   "cell_type": "code",
   "execution_count": 27,
   "id": "73951356-762a-4a25-83cc-c40130edb263",
   "metadata": {},
   "outputs": [
    {
     "data": {
      "text/plain": [
       "False"
      ]
     },
     "execution_count": 27,
     "metadata": {},
     "output_type": "execute_result"
    }
   ],
   "source": [
    "# Check if CUDA is available\n",
    "torch.cuda.is_available()"
   ]
  },
  {
   "cell_type": "code",
   "execution_count": null,
   "id": "836e269c-e7cb-4709-9b5e-3de49ccfe90f",
   "metadata": {},
   "outputs": [],
   "source": []
  }
 ],
 "metadata": {
  "kernelspec": {
   "display_name": "Python 3 (ipykernel)",
   "language": "python",
   "name": "python3"
  },
  "language_info": {
   "codemirror_mode": {
    "name": "ipython",
    "version": 3
   },
   "file_extension": ".py",
   "mimetype": "text/x-python",
   "name": "python",
   "nbconvert_exporter": "python",
   "pygments_lexer": "ipython3",
   "version": "3.10.5"
  }
 },
 "nbformat": 4,
 "nbformat_minor": 5
}
