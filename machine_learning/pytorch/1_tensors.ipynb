{
 "cells": [
  {
   "cell_type": "markdown",
   "id": "d33db495-8bf3-44b5-9174-c0aa28f5e330",
   "metadata": {},
   "source": [
    "# Introduction\n",
    "\n",
    "Experiment with PyTorch and in particular with Tensors."
   ]
  },
  {
   "cell_type": "code",
   "execution_count": 2,
   "id": "dab0d064-374b-486b-8a61-23224b056e5c",
   "metadata": {},
   "outputs": [],
   "source": [
    "# Import Standard Libraries\n",
    "import torch"
   ]
  },
  {
   "cell_type": "markdown",
   "id": "dadd8785-4c48-4a94-b937-ac2969946cf9",
   "metadata": {},
   "source": [
    "# Definition"
   ]
  },
  {
   "cell_type": "markdown",
   "id": "ff886c34-e125-4ba8-97d4-57540d102a8b",
   "metadata": {},
   "source": [
    "## Integer Tensors"
   ]
  },
  {
   "cell_type": "code",
   "execution_count": 4,
   "id": "d2b76998-e9f3-49e2-abf1-bc55a76ee9cf",
   "metadata": {},
   "outputs": [],
   "source": [
    "# 1-D Tensor or Vector\n",
    "tensor = torch.tensor([1, 2, 3])"
   ]
  },
  {
   "cell_type": "code",
   "execution_count": 5,
   "id": "915d54cf-2e52-4fa9-aac8-2907b2e2b5a2",
   "metadata": {},
   "outputs": [
    {
     "data": {
      "text/plain": [
       "tensor([1, 2, 3])"
      ]
     },
     "execution_count": 5,
     "metadata": {},
     "output_type": "execute_result"
    }
   ],
   "source": [
    "tensor"
   ]
  },
  {
   "cell_type": "code",
   "execution_count": 6,
   "id": "a2f6db88-4e10-4110-aede-9d6085ec8554",
   "metadata": {},
   "outputs": [],
   "source": [
    "# 2-D Tensor or Matrix\n",
    "matrix = torch.tensor([[1, 2, 3], [4, 5, 6]])"
   ]
  },
  {
   "cell_type": "code",
   "execution_count": 7,
   "id": "2eb7a977-70a8-4ee1-9631-53d0dfca5950",
   "metadata": {},
   "outputs": [
    {
     "data": {
      "text/plain": [
       "tensor([[1, 2, 3],\n",
       "        [4, 5, 6]])"
      ]
     },
     "execution_count": 7,
     "metadata": {},
     "output_type": "execute_result"
    }
   ],
   "source": [
    "matrix"
   ]
  },
  {
   "cell_type": "markdown",
   "id": "409644a3-4fc8-45fe-85a6-70480ee6aa76",
   "metadata": {},
   "source": [
    "## Float Tensors"
   ]
  },
  {
   "cell_type": "code",
   "execution_count": 10,
   "id": "3f68279f-ad73-4faa-968f-e1072831e1cd",
   "metadata": {},
   "outputs": [],
   "source": [
    "# Create a float tensor\n",
    "tensor_float = torch.FloatTensor([1, 2, 3])\n",
    "tensor_float_2 = torch.tensor([1, 2, 3], dtype=torch.float)"
   ]
  },
  {
   "cell_type": "code",
   "execution_count": 11,
   "id": "4343fca2-dc4c-4658-aa79-ed78a5d6d2cc",
   "metadata": {},
   "outputs": [
    {
     "data": {
      "text/plain": [
       "tensor([1., 2., 3.])"
      ]
     },
     "execution_count": 11,
     "metadata": {},
     "output_type": "execute_result"
    }
   ],
   "source": [
    "tensor_float"
   ]
  },
  {
   "cell_type": "code",
   "execution_count": 12,
   "id": "d0a7c8d2-5ea8-4252-9554-cf5ae08ade2a",
   "metadata": {},
   "outputs": [
    {
     "data": {
      "text/plain": [
       "tensor([1., 2., 3.])"
      ]
     },
     "execution_count": 12,
     "metadata": {},
     "output_type": "execute_result"
    }
   ],
   "source": [
    "tensor_float_2"
   ]
  },
  {
   "cell_type": "markdown",
   "id": "5eef4282-e93b-4e66-816d-c5b1b76dffe0",
   "metadata": {},
   "source": [
    "## Double Tensors"
   ]
  },
  {
   "cell_type": "code",
   "execution_count": 13,
   "id": "b71dfee4-a8fb-49ae-805b-abb762eb24b2",
   "metadata": {},
   "outputs": [],
   "source": [
    "# Create a double tensor\n",
    "tensor_double = torch.DoubleTensor([1, 2, 3])\n",
    "tensor_double_2 = torch.tensor([1, 2, 3], dtype=torch.double)"
   ]
  },
  {
   "cell_type": "code",
   "execution_count": 14,
   "id": "dc14713b-7ce4-4286-89f0-afc3024ca8ae",
   "metadata": {},
   "outputs": [
    {
     "data": {
      "text/plain": [
       "tensor([1., 2., 3.], dtype=torch.float64)"
      ]
     },
     "execution_count": 14,
     "metadata": {},
     "output_type": "execute_result"
    }
   ],
   "source": [
    "tensor_double"
   ]
  },
  {
   "cell_type": "code",
   "execution_count": 17,
   "id": "362c846a-09e4-428c-9043-8e006f6c3fbb",
   "metadata": {},
   "outputs": [
    {
     "data": {
      "text/plain": [
       "tensor([1., 2., 3.], dtype=torch.float64)"
      ]
     },
     "execution_count": 17,
     "metadata": {},
     "output_type": "execute_result"
    }
   ],
   "source": [
    "tensor_double_2"
   ]
  },
  {
   "cell_type": "markdown",
   "id": "d344332d-fc41-4a00-acc9-fb95e3416ee6",
   "metadata": {},
   "source": [
    "# Shape"
   ]
  },
  {
   "cell_type": "code",
   "execution_count": 9,
   "id": "9343adfc-3742-4749-b19c-b3897ce4aa8c",
   "metadata": {},
   "outputs": [
    {
     "name": "stdout",
     "output_type": "stream",
     "text": [
      "torch.Size([3])\n",
      "torch.Size([2, 3])\n",
      "torch.Size([3])\n",
      "torch.Size([2, 3])\n"
     ]
    }
   ],
   "source": [
    "# Shape and size() give the same results\n",
    "print(tensor.shape)\n",
    "print(matrix.shape)\n",
    "print(tensor.size())\n",
    "print(matrix.size())"
   ]
  },
  {
   "cell_type": "markdown",
   "id": "97c5ff54-ff23-437c-b026-1013d05f1ec4",
   "metadata": {},
   "source": [
    "# Statistics"
   ]
  },
  {
   "cell_type": "code",
   "execution_count": 22,
   "id": "37731960-3960-41a1-bd8b-b376f2f76096",
   "metadata": {},
   "outputs": [
    {
     "data": {
      "text/plain": [
       "tensor(2., dtype=torch.float64)"
      ]
     },
     "execution_count": 22,
     "metadata": {},
     "output_type": "execute_result"
    }
   ],
   "source": [
    "# Get the mean and std\n",
    "tensor_double.mean()"
   ]
  },
  {
   "cell_type": "code",
   "execution_count": 23,
   "id": "c5b596a8-4894-442f-8a49-cce3484809b8",
   "metadata": {},
   "outputs": [
    {
     "data": {
      "text/plain": [
       "tensor(1., dtype=torch.float64)"
      ]
     },
     "execution_count": 23,
     "metadata": {},
     "output_type": "execute_result"
    }
   ],
   "source": [
    "tensor_double.std()"
   ]
  },
  {
   "cell_type": "markdown",
   "id": "27f0d7f0-78bc-4ce9-943f-882664e97ad2",
   "metadata": {},
   "source": [
    "# Reshape"
   ]
  },
  {
   "cell_type": "code",
   "execution_count": null,
   "id": "6b695a4d-4044-4cf6-a7da-691707d1acc6",
   "metadata": {},
   "outputs": [],
   "source": [
    "# It is done through the method "
   ]
  }
 ],
 "metadata": {
  "kernelspec": {
   "display_name": "Python 3 (ipykernel)",
   "language": "python",
   "name": "python3"
  },
  "language_info": {
   "codemirror_mode": {
    "name": "ipython",
    "version": 3
   },
   "file_extension": ".py",
   "mimetype": "text/x-python",
   "name": "python",
   "nbconvert_exporter": "python",
   "pygments_lexer": "ipython3",
   "version": "3.10.5"
  }
 },
 "nbformat": 4,
 "nbformat_minor": 5
}
