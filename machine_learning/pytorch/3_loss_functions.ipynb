{
 "cells": [
  {
   "cell_type": "markdown",
   "id": "f0920911-f521-48a6-aead-3ee6996cbb2a",
   "metadata": {},
   "source": [
    "# Introduction\n",
    "\n",
    "Experiment with PyTorch Loss Functions."
   ]
  },
  {
   "cell_type": "code",
   "execution_count": 1,
   "id": "128b08c6-515f-424e-b032-ade44bc07961",
   "metadata": {},
   "outputs": [],
   "source": [
    "# Import Standard Libraries\n",
    "import torch\n",
    "import torch.nn as nn"
   ]
  },
  {
   "cell_type": "code",
   "execution_count": 2,
   "id": "06a3248f-5f47-43e9-b267-dac6a8de2b41",
   "metadata": {},
   "outputs": [],
   "source": [
    "# Define a tensor of possible output layer values: 4 values with 5 features\n",
    "tensor_1 = torch.randn(4, 5)"
   ]
  },
  {
   "cell_type": "code",
   "execution_count": 7,
   "id": "538ae427-72db-4782-a8c6-cba1815c6948",
   "metadata": {},
   "outputs": [
    {
     "data": {
      "text/plain": [
       "tensor([[ 0.0027, -0.5573,  1.0888,  1.4283, -1.3214],\n",
       "        [-0.7386,  1.9084,  0.1239, -0.2001,  0.2243],\n",
       "        [-1.3808,  0.2177, -0.2445, -0.0861,  0.4060],\n",
       "        [ 0.5131,  0.9406,  0.8810, -0.0489,  0.5278]])"
      ]
     },
     "execution_count": 7,
     "metadata": {},
     "output_type": "execute_result"
    }
   ],
   "source": [
    "tensor_1"
   ]
  },
  {
   "cell_type": "code",
   "execution_count": 3,
   "id": "cbac4db7-2bec-4213-851c-0357acfd1dd3",
   "metadata": {},
   "outputs": [],
   "source": [
    "# Define the label for applying the loss function\n",
    "# NOTE: The shape should be the same as the tensor_1\n",
    "label = torch.randn(4, 5)"
   ]
  },
  {
   "cell_type": "code",
   "execution_count": 8,
   "id": "798f718a-30a8-4aa0-9a9c-ee4166874b9f",
   "metadata": {},
   "outputs": [
    {
     "data": {
      "text/plain": [
       "tensor([[-1.0328, -0.4459,  0.0948, -0.4066,  1.2313],\n",
       "        [ 0.9538,  0.3872, -0.4451,  0.9849,  0.4882],\n",
       "        [-0.5922, -0.9483,  0.1943, -0.1953,  1.5705],\n",
       "        [ 1.6249, -1.5967,  0.9835,  1.1242,  0.4384]])"
      ]
     },
     "execution_count": 8,
     "metadata": {},
     "output_type": "execute_result"
    }
   ],
   "source": [
    "label"
   ]
  },
  {
   "cell_type": "markdown",
   "id": "8d2b72db-87be-4f42-aa1f-b2c3105171cb",
   "metadata": {},
   "source": [
    "# MSE"
   ]
  },
  {
   "cell_type": "code",
   "execution_count": 14,
   "id": "31950fcd-223d-4436-b1e6-2777e4470c11",
   "metadata": {},
   "outputs": [],
   "source": [
    "# Define the MSE\n",
    "# NOTE: 'reduction' defines the value to return (e.g., 'sum' returns a double value, while 'none' returns a tensor (N, *))\n",
    "mse = nn.MSELoss(reduction='none')"
   ]
  },
  {
   "cell_type": "code",
   "execution_count": 15,
   "id": "e0233bfe-b25a-4173-93e3-c90caf57bb17",
   "metadata": {},
   "outputs": [],
   "source": [
    "# Compute the MSE\n",
    "loss_mse = mse(tensor_1, label)"
   ]
  },
  {
   "cell_type": "code",
   "execution_count": 16,
   "id": "12a77f52-ade0-43e6-9399-77c37f9ee371",
   "metadata": {},
   "outputs": [
    {
     "data": {
      "text/plain": [
       "tensor(31.5431)"
      ]
     },
     "execution_count": 16,
     "metadata": {},
     "output_type": "execute_result"
    }
   ],
   "source": [
    "loss_mse"
   ]
  },
  {
   "cell_type": "code",
   "execution_count": 17,
   "id": "c2286d1e-2bc3-4bef-b42f-65b093e7449f",
   "metadata": {},
   "outputs": [
    {
     "data": {
      "text/plain": [
       "tensor(1.0723)"
      ]
     },
     "execution_count": 17,
     "metadata": {},
     "output_type": "execute_result"
    }
   ],
   "source": [
    "(tensor_1[0][0] - label[0][0]) ** 2"
   ]
  }
 ],
 "metadata": {
  "kernelspec": {
   "display_name": "Python 3 (ipykernel)",
   "language": "python",
   "name": "python3"
  },
  "language_info": {
   "codemirror_mode": {
    "name": "ipython",
    "version": 3
   },
   "file_extension": ".py",
   "mimetype": "text/x-python",
   "name": "python",
   "nbconvert_exporter": "python",
   "pygments_lexer": "ipython3",
   "version": "3.10.5"
  }
 },
 "nbformat": 4,
 "nbformat_minor": 5
}
