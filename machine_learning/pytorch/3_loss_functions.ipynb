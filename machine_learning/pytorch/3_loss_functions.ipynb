{
 "cells": [
  {
   "cell_type": "markdown",
   "id": "f0920911-f521-48a6-aead-3ee6996cbb2a",
   "metadata": {},
   "source": [
    "# Introduction\n",
    "\n",
    "Experiment with PyTorch Loss Functions."
   ]
  },
  {
   "cell_type": "code",
   "execution_count": 1,
   "id": "128b08c6-515f-424e-b032-ade44bc07961",
   "metadata": {},
   "outputs": [],
   "source": [
    "# Import Standard Libraries\n",
    "import torch\n",
    "import torch.nn as nn"
   ]
  },
  {
   "cell_type": "code",
   "execution_count": 2,
   "id": "06a3248f-5f47-43e9-b267-dac6a8de2b41",
   "metadata": {},
   "outputs": [],
   "source": [
    "# Define a tensor of possible output layer values: 4 values with 5 features\n",
    "tensor_1 = torch.randn(4, 5)"
   ]
  },
  {
   "cell_type": "code",
   "execution_count": null,
   "id": "cbac4db7-2bec-4213-851c-0357acfd1dd3",
   "metadata": {},
   "outputs": [],
   "source": [
    "# Define the label for applying the loss function\n",
    "# NOTE: The shape should be the same as the tensor_1\n",
    "label = torch.randn(4, 5)"
   ]
  },
  {
   "cell_type": "markdown",
   "id": "8d2b72db-87be-4f42-aa1f-b2c3105171cb",
   "metadata": {},
   "source": [
    "# MSE"
   ]
  },
  {
   "cell_type": "code",
   "execution_count": null,
   "id": "31950fcd-223d-4436-b1e6-2777e4470c11",
   "metadata": {},
   "outputs": [],
   "source": [
    "# "
   ]
  }
 ],
 "metadata": {
  "kernelspec": {
   "display_name": "Python 3 (ipykernel)",
   "language": "python",
   "name": "python3"
  },
  "language_info": {
   "codemirror_mode": {
    "name": "ipython",
    "version": 3
   },
   "file_extension": ".py",
   "mimetype": "text/x-python",
   "name": "python",
   "nbconvert_exporter": "python",
   "pygments_lexer": "ipython3",
   "version": "3.10.5"
  }
 },
 "nbformat": 4,
 "nbformat_minor": 5
}
