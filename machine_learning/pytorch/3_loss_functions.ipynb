{
 "cells": [
  {
   "cell_type": "markdown",
   "id": "f0920911-f521-48a6-aead-3ee6996cbb2a",
   "metadata": {},
   "source": [
    "# Introduction\n",
    "\n",
    "Experiment with PyTorch Loss Functions."
   ]
  },
  {
   "cell_type": "code",
   "execution_count": 1,
   "id": "128b08c6-515f-424e-b032-ade44bc07961",
   "metadata": {},
   "outputs": [],
   "source": [
    "# Import Standard Libraries\n",
    "import torch\n",
    "import torch.nn as nn"
   ]
  },
  {
   "cell_type": "code",
   "execution_count": 2,
   "id": "06a3248f-5f47-43e9-b267-dac6a8de2b41",
   "metadata": {},
   "outputs": [],
   "source": [
    "# Define a tensor of possible output layer values: 4 values with 5 features\n",
    "tensor_1 = torch.randn(4, 5)"
   ]
  },
  {
   "cell_type": "code",
   "execution_count": 3,
   "id": "538ae427-72db-4782-a8c6-cba1815c6948",
   "metadata": {},
   "outputs": [
    {
     "data": {
      "text/plain": [
       "tensor([[ 0.3514,  0.4033, -0.5721,  1.7951,  0.0087],\n",
       "        [-0.8152, -1.8897, -0.5892, -1.5432, -0.2141],\n",
       "        [-0.6241,  0.1374, -1.0267, -0.8622,  0.0456],\n",
       "        [ 0.6935,  0.2812,  2.7240,  0.7654, -1.1467]])"
      ]
     },
     "execution_count": 3,
     "metadata": {},
     "output_type": "execute_result"
    }
   ],
   "source": [
    "tensor_1"
   ]
  },
  {
   "cell_type": "code",
   "execution_count": 4,
   "id": "cbac4db7-2bec-4213-851c-0357acfd1dd3",
   "metadata": {},
   "outputs": [],
   "source": [
    "# Define the label for applying the loss function\n",
    "# NOTE: The shape should be the same as the tensor_1\n",
    "label = torch.randn(4, 5)"
   ]
  },
  {
   "cell_type": "code",
   "execution_count": 5,
   "id": "798f718a-30a8-4aa0-9a9c-ee4166874b9f",
   "metadata": {},
   "outputs": [
    {
     "data": {
      "text/plain": [
       "tensor([[-1.0847, -0.0467, -0.6488, -0.8116, -0.3826],\n",
       "        [ 2.6226, -0.2000,  1.2818, -1.7590,  2.0832],\n",
       "        [ 1.0578,  1.8883, -1.5645, -0.0974,  0.1165],\n",
       "        [-1.5433, -0.1044,  2.5224, -0.6962,  0.9168]])"
      ]
     },
     "execution_count": 5,
     "metadata": {},
     "output_type": "execute_result"
    }
   ],
   "source": [
    "label"
   ]
  },
  {
   "cell_type": "markdown",
   "id": "8d2b72db-87be-4f42-aa1f-b2c3105171cb",
   "metadata": {},
   "source": [
    "# MSE"
   ]
  },
  {
   "cell_type": "code",
   "execution_count": 6,
   "id": "31950fcd-223d-4436-b1e6-2777e4470c11",
   "metadata": {},
   "outputs": [],
   "source": [
    "# Define the MSE\n",
    "# NOTE: 'reduction' defines the value to return (e.g., 'sum' returns a double value, while 'none' returns a tensor (N, *))\n",
    "mse = nn.MSELoss(reduction='none')"
   ]
  },
  {
   "cell_type": "code",
   "execution_count": 7,
   "id": "e0233bfe-b25a-4173-93e3-c90caf57bb17",
   "metadata": {},
   "outputs": [],
   "source": [
    "# Compute the MSE\n",
    "loss_mse = mse(tensor_1, label)"
   ]
  },
  {
   "cell_type": "code",
   "execution_count": 8,
   "id": "12a77f52-ade0-43e6-9399-77c37f9ee371",
   "metadata": {},
   "outputs": [
    {
     "data": {
      "text/plain": [
       "tensor([[2.0622e+00, 2.0250e-01, 5.8804e-03, 6.7948e+00, 1.5307e-01],\n",
       "        [1.1818e+01, 2.8552e+00, 3.5008e+00, 4.6562e-02, 5.2776e+00],\n",
       "        [2.8288e+00, 3.0656e+00, 2.8930e-01, 5.8489e-01, 5.0238e-03],\n",
       "        [5.0030e+00, 1.4866e-01, 4.0648e-02, 2.1363e+00, 4.2581e+00]])"
      ]
     },
     "execution_count": 8,
     "metadata": {},
     "output_type": "execute_result"
    }
   ],
   "source": [
    "loss_mse"
   ]
  },
  {
   "cell_type": "code",
   "execution_count": 9,
   "id": "c2286d1e-2bc3-4bef-b42f-65b093e7449f",
   "metadata": {},
   "outputs": [
    {
     "data": {
      "text/plain": [
       "tensor(2.0622)"
      ]
     },
     "execution_count": 9,
     "metadata": {},
     "output_type": "execute_result"
    }
   ],
   "source": [
    "(tensor_1[0][0] - label[0][0]) ** 2"
   ]
  }
 ],
 "metadata": {
  "kernelspec": {
   "display_name": "Python 3 (ipykernel)",
   "language": "python",
   "name": "python3"
  },
  "language_info": {
   "codemirror_mode": {
    "name": "ipython",
    "version": 3
   },
   "file_extension": ".py",
   "mimetype": "text/x-python",
   "name": "python",
   "nbconvert_exporter": "python",
   "pygments_lexer": "ipython3",
   "version": "3.10.5"
  }
 },
 "nbformat": 4,
 "nbformat_minor": 5
}
