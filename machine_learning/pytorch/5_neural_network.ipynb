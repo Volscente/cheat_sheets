{
 "cells": [
  {
   "cell_type": "markdown",
   "id": "6bc80405-e576-4149-84b8-89ddb00ed684",
   "metadata": {},
   "source": [
    "# Introduction\n",
    "Use PyTorch to develop a binary classifier for the Diabetes dataset"
   ]
  },
  {
   "cell_type": "code",
   "execution_count": 1,
   "id": "2ddda1ef-61fa-48e3-82d9-2e4943e7069f",
   "metadata": {},
   "outputs": [],
   "source": [
    "# Import Standard Libraries\n",
    "import numpy as np\n",
    "import pandas as pd\n",
    "\n",
    "import torch\n",
    "import torch.nn as nn\n",
    "from torch.utils.data import Dataset\n",
    "from torch.utils.data import DataLoader\n",
    "\n",
    "from sklearn.preprocessing import StandardScaler"
   ]
  },
  {
   "cell_type": "markdown",
   "id": "fdf9a635-e70e-4f93-b91c-19837fde0be0",
   "metadata": {},
   "source": [
    "# Read Data"
   ]
  },
  {
   "cell_type": "code",
   "execution_count": 2,
   "id": "216f5117-352a-4d0c-b66b-4bbfb3896f87",
   "metadata": {},
   "outputs": [],
   "source": [
    "# Read data\n",
    "data = pd.read_csv('./../../data/diabetes.csv')"
   ]
  },
  {
   "cell_type": "code",
   "execution_count": 3,
   "id": "e7847e8d-d3bd-48bb-b186-bdfdc608ce2d",
   "metadata": {},
   "outputs": [
    {
     "data": {
      "text/html": [
       "<div>\n",
       "<style scoped>\n",
       "    .dataframe tbody tr th:only-of-type {\n",
       "        vertical-align: middle;\n",
       "    }\n",
       "\n",
       "    .dataframe tbody tr th {\n",
       "        vertical-align: top;\n",
       "    }\n",
       "\n",
       "    .dataframe thead th {\n",
       "        text-align: right;\n",
       "    }\n",
       "</style>\n",
       "<table border=\"1\" class=\"dataframe\">\n",
       "  <thead>\n",
       "    <tr style=\"text-align: right;\">\n",
       "      <th></th>\n",
       "      <th>Pregnancies</th>\n",
       "      <th>Glucose</th>\n",
       "      <th>BloodPressure</th>\n",
       "      <th>SkinThickness</th>\n",
       "      <th>Insulin</th>\n",
       "      <th>BMI</th>\n",
       "      <th>DiabetesPedigreeFunction</th>\n",
       "      <th>Age</th>\n",
       "      <th>Outcome</th>\n",
       "    </tr>\n",
       "  </thead>\n",
       "  <tbody>\n",
       "    <tr>\n",
       "      <th>0</th>\n",
       "      <td>6</td>\n",
       "      <td>148</td>\n",
       "      <td>72</td>\n",
       "      <td>35</td>\n",
       "      <td>0</td>\n",
       "      <td>33.6</td>\n",
       "      <td>0.627</td>\n",
       "      <td>50</td>\n",
       "      <td>1</td>\n",
       "    </tr>\n",
       "    <tr>\n",
       "      <th>1</th>\n",
       "      <td>1</td>\n",
       "      <td>85</td>\n",
       "      <td>66</td>\n",
       "      <td>29</td>\n",
       "      <td>0</td>\n",
       "      <td>26.6</td>\n",
       "      <td>0.351</td>\n",
       "      <td>31</td>\n",
       "      <td>0</td>\n",
       "    </tr>\n",
       "    <tr>\n",
       "      <th>2</th>\n",
       "      <td>8</td>\n",
       "      <td>183</td>\n",
       "      <td>64</td>\n",
       "      <td>0</td>\n",
       "      <td>0</td>\n",
       "      <td>23.3</td>\n",
       "      <td>0.672</td>\n",
       "      <td>32</td>\n",
       "      <td>1</td>\n",
       "    </tr>\n",
       "    <tr>\n",
       "      <th>3</th>\n",
       "      <td>1</td>\n",
       "      <td>89</td>\n",
       "      <td>66</td>\n",
       "      <td>23</td>\n",
       "      <td>94</td>\n",
       "      <td>28.1</td>\n",
       "      <td>0.167</td>\n",
       "      <td>21</td>\n",
       "      <td>0</td>\n",
       "    </tr>\n",
       "    <tr>\n",
       "      <th>4</th>\n",
       "      <td>0</td>\n",
       "      <td>137</td>\n",
       "      <td>40</td>\n",
       "      <td>35</td>\n",
       "      <td>168</td>\n",
       "      <td>43.1</td>\n",
       "      <td>2.288</td>\n",
       "      <td>33</td>\n",
       "      <td>1</td>\n",
       "    </tr>\n",
       "  </tbody>\n",
       "</table>\n",
       "</div>"
      ],
      "text/plain": [
       "   Pregnancies  Glucose  BloodPressure  SkinThickness  Insulin   BMI  \\\n",
       "0            6      148             72             35        0  33.6   \n",
       "1            1       85             66             29        0  26.6   \n",
       "2            8      183             64              0        0  23.3   \n",
       "3            1       89             66             23       94  28.1   \n",
       "4            0      137             40             35      168  43.1   \n",
       "\n",
       "   DiabetesPedigreeFunction  Age  Outcome  \n",
       "0                     0.627   50        1  \n",
       "1                     0.351   31        0  \n",
       "2                     0.672   32        1  \n",
       "3                     0.167   21        0  \n",
       "4                     2.288   33        1  "
      ]
     },
     "execution_count": 3,
     "metadata": {},
     "output_type": "execute_result"
    }
   ],
   "source": [
    "data.head()"
   ]
  },
  {
   "cell_type": "code",
   "execution_count": 4,
   "id": "712da93b-7b65-4b82-ba1f-48776932dda2",
   "metadata": {},
   "outputs": [],
   "source": [
    "# Define Features & Label as arrays\n",
    "x = data.iloc[:, :-1].values\n",
    "y = data.iloc[:, -1].values"
   ]
  },
  {
   "cell_type": "markdown",
   "id": "d2382ebf-0bb7-480a-99a4-0bcee6d52548",
   "metadata": {},
   "source": [
    "# Data Preprocessing"
   ]
  },
  {
   "cell_type": "code",
   "execution_count": 5,
   "id": "e12bdf66-1e4f-45e6-a40a-47635e544672",
   "metadata": {},
   "outputs": [],
   "source": [
    "# Data Normalisation\n",
    "standard_scaler = StandardScaler()\n",
    "\n",
    "# Fit and transform X\n",
    "x = standard_scaler.fit_transform(x)"
   ]
  },
  {
   "cell_type": "code",
   "execution_count": 6,
   "id": "92fb3a36-ca25-4a86-bc81-7510ee504000",
   "metadata": {},
   "outputs": [],
   "source": [
    "# Convert to PyTorch tensor\n",
    "x = torch.tensor(x)\n",
    "y = torch.tensor(y).unsqueeze(1) # Transform the shape from (n) to (n, 1)"
   ]
  },
  {
   "cell_type": "code",
   "execution_count": 7,
   "id": "2bd70352-3d7e-4fe7-9eab-4c92fe3bf690",
   "metadata": {},
   "outputs": [],
   "source": [
    "# Define the Dataset for manipulating the data in PyTorch\n",
    "class Dataset(Dataset):\n",
    "    \n",
    "    def __init__(self, x, y):\n",
    "        \n",
    "        self.x = x\n",
    "        self.y = y\n",
    "        \n",
    "    def __getitem(self, index):\n",
    "        \n",
    "        return self.x[index], self.y[index]\n",
    "    \n",
    "    def __len__(self):\n",
    "        \n",
    "        return len(self.x)"
   ]
  },
  {
   "cell_type": "code",
   "execution_count": 8,
   "id": "42a9acd7-efb3-4247-b3be-6d3bece5afa4",
   "metadata": {},
   "outputs": [],
   "source": [
    "# Create the Dataset object\n",
    "dataset = Dataset(x, y)"
   ]
  },
  {
   "cell_type": "code",
   "execution_count": 9,
   "id": "76dd9c59-8a6d-4ee9-8433-71cd59bf46c4",
   "metadata": {},
   "outputs": [],
   "source": [
    "# Define the DataLoader for loading the data into the Neural Network in batches\n",
    "train_data_loader = DataLoader(dataset,\n",
    "                               batch_size=32,\n",
    "                               shuffle=True)"
   ]
  },
  {
   "cell_type": "markdown",
   "id": "99a117f3-0361-4619-b183-b19220b5e81f",
   "metadata": {},
   "source": [
    "# Model Definition"
   ]
  },
  {
   "cell_type": "markdown",
   "id": "a427bcdc-7c6a-47eb-8e59-8b51e325d136",
   "metadata": {},
   "source": [
    "## Define the Neural Network"
   ]
  },
  {
   "cell_type": "code",
   "execution_count": 10,
   "id": "01132649-4ced-4cb8-8dbd-6814a4cbcc22",
   "metadata": {},
   "outputs": [],
   "source": [
    "class Model(nn.Module):\n",
    "    \n",
    "    def __init__(self, input_features, output_features):\n",
    "        \n",
    "        \"\"\"\n",
    "        Initialise the Neural Network\n",
    "        \n",
    "        Args:\n",
    "            input_features Integer number of input features\n",
    "            output_features Integer number of output features\n",
    "            \n",
    "        Return:\n",
    "        \"\"\"\n",
    "        \n",
    "        # Call the nn.Module constructor\n",
    "        super(Model, self).__init__()\n",
    "        \n",
    "        # Define the layers\n",
    "        self.fully_connected_layer_1 = nn.Linear(in_features=input_features, \n",
    "                                                 out_features= 5)\n",
    "        \n",
    "        self.fully_connected_layer_2 = nn.Linear(in_features=5, \n",
    "                                                 out_features= 4)\n",
    "        \n",
    "        self.fully_connected_layer_3 = nn.Linear(in_features=4, \n",
    "                                                 out_features= 3)\n",
    "        \n",
    "        self.fully_connected_layer_4 = nn.Linear(in_features=3, \n",
    "                                                 out_features= output_features)\n",
    "        \n",
    "        # Define the activation functions for the hidden layers (Tanh) and the output layers (Sigmoid)\n",
    "        self.hidden_layers_activation_function = nn.Tanh()\n",
    "        self.output_activation_function = nn.Sigmoid()\n",
    "        \n",
    "        \n",
    "    def forward(self, x):\n",
    "        \n",
    "        \"\"\"\n",
    "        Feed Forward process\n",
    "        \n",
    "        Args:\n",
    "            x Array input\n",
    "            \n",
    "        Return:\n",
    "            output Array output\n",
    "        \"\"\"\n",
    "        \n",
    "        # Feed forward the input x through the whole neural network\n",
    "        # Steps: 1. Ingest the input into the layer; 2. Apply the activation function\n",
    "        output_1 = self.fully_connected_layer_1(x)\n",
    "        output_1 = self.hidden_layers_activation_function(output_1)\n",
    "        \n",
    "        output_2 = self.fully_connected_layer_2(output_1)\n",
    "        output_2 = self.hidden_layers_activation_function(output_2)\n",
    "        \n",
    "        \n",
    "        output_3 = self.fully_connected_layer_3(output_2)\n",
    "        output_3 = self.hidden_layers_activation_function(output_3)\n",
    "        \n",
    "        \n",
    "        output = self.fully_connected_layer_4(output_3)\n",
    "        output = self.output_activation_function(output)\n",
    "        \n",
    "        return output"
   ]
  },
  {
   "cell_type": "markdown",
   "id": "61fcf48d-c862-4069-9dbb-5534ed8c5cdc",
   "metadata": {},
   "source": [
    "## Instantiate the Neural Network, Loss and Optimizer"
   ]
  },
  {
   "cell_type": "code",
   "execution_count": 11,
   "id": "81190889-caab-486e-b109-9d411bdffcb1",
   "metadata": {},
   "outputs": [],
   "source": [
    "# Instance the Neural Network\n",
    "neural_network = Model(7, 1)"
   ]
  },
  {
   "cell_type": "code",
   "execution_count": 12,
   "id": "430541f3-3fa4-4e99-a60b-4a906ec54ff1",
   "metadata": {},
   "outputs": [],
   "source": [
    "# Define the Binary Cross-Entropy Loss\n",
    "bce = nn.BCELoss(reduction='mean')"
   ]
  },
  {
   "cell_type": "code",
   "execution_count": 13,
   "id": "f8f4d9a7-d3ad-4212-ad4d-2abf2be7a118",
   "metadata": {},
   "outputs": [],
   "source": [
    "# Define the SGD Optimisation function\n",
    "# NOTE: It requires the weights from the NN (neural_network.parameters() and the learning rate\n",
    "sgd = torch.optim.SGD(neural_network.parameters(), \n",
    "                      lr=0.1, \n",
    "                      momentum=0.9)"
   ]
  },
  {
   "cell_type": "markdown",
   "id": "633d7206-5a92-430d-af09-10cad3e54036",
   "metadata": {},
   "source": [
    "## Training"
   ]
  },
  {
   "cell_type": "code",
   "execution_count": 14,
   "id": "e85d2041-f5f3-498d-9549-01e385dd250b",
   "metadata": {},
   "outputs": [],
   "source": [
    "# Hyperparameters\n",
    "epochs = 200"
   ]
  },
  {
   "cell_type": "code",
   "execution_count": null,
   "id": "6bd70feb-4cb4-4812-a586-60242f8dc539",
   "metadata": {},
   "outputs": [],
   "source": [
    "for epoch in range(epochs):\n",
    "    \n",
    "    # Use the DataLoader batch_size\n",
    "    for input_data, labels in train_data_loader:\n",
    "        \n",
    "        # Convert to float\n",
    "        input_data = input_data.float()\n",
    "        labels = labels.float()\n",
    "        \n",
    "        # Feed the input_data into the neural network automatically calling the 'forward' function\n",
    "        output = neural_network(input_data)\n",
    "        \n",
    "        # Compute the loss\n",
    "        loss = bce(output, labels)\n",
    "        \n",
    "        "
   ]
  }
 ],
 "metadata": {
  "kernelspec": {
   "display_name": "Python 3 (ipykernel)",
   "language": "python",
   "name": "python3"
  },
  "language_info": {
   "codemirror_mode": {
    "name": "ipython",
    "version": 3
   },
   "file_extension": ".py",
   "mimetype": "text/x-python",
   "name": "python",
   "nbconvert_exporter": "python",
   "pygments_lexer": "ipython3",
   "version": "3.10.5"
  }
 },
 "nbformat": 4,
 "nbformat_minor": 5
}
