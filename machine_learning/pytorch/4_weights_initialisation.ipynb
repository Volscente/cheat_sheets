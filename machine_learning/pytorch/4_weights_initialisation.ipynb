{
 "cells": [
  {
   "cell_type": "markdown",
   "id": "ac30e867-d731-47e9-a35a-28cf6290ffb7",
   "metadata": {},
   "source": [
    "# Introduction\n",
    "\n",
    "Experiment with PyTorch Weights Initialisation."
   ]
  },
  {
   "cell_type": "code",
   "execution_count": 2,
   "id": "d060ebee-7287-4f48-bcc1-14c4afe45bd0",
   "metadata": {},
   "outputs": [],
   "source": [
    "# Import Standard Libraries\n",
    "import torch\n",
    "import torch.nn as nn"
   ]
  },
  {
   "cell_type": "markdown",
   "id": "bb26886b-5772-4094-8887-1355eb83331d",
   "metadata": {},
   "source": [
    "# Layer Definition"
   ]
  },
  {
   "cell_type": "code",
   "execution_count": 4,
   "id": "81b3976b-c14d-4f4d-8f66-db9237f8a8f4",
   "metadata": {},
   "outputs": [],
   "source": [
    "# Define a Layer to initialise\n",
    "layer = nn.Linear(5, 5)"
   ]
  },
  {
   "cell_type": "code",
   "execution_count": 7,
   "id": "82e69fc1-cb32-4f10-ad0b-3f9f61bc532b",
   "metadata": {},
   "outputs": [
    {
     "data": {
      "text/plain": [
       "Parameter containing:\n",
       "tensor([[-7.2488e-02, -1.1921e-01, -7.6537e-02, -5.1171e-05, -1.3085e-01],\n",
       "        [ 3.9598e-01, -4.0044e-01,  4.0640e-01, -2.2635e-01,  1.4261e-01],\n",
       "        [-4.3520e-01, -3.9455e-01,  9.7896e-02,  4.3159e-01, -1.2327e-01],\n",
       "        [ 3.9971e-01,  3.4355e-01,  2.0090e-01,  1.3588e-01,  2.7037e-01],\n",
       "        [ 4.1686e-01, -4.4352e-01, -2.9747e-01, -1.0779e-01,  2.4341e-01]],\n",
       "       requires_grad=True)"
      ]
     },
     "execution_count": 7,
     "metadata": {},
     "output_type": "execute_result"
    }
   ],
   "source": [
    "# Usually the weights are initialised with the Xavier Initialisation\n",
    "layer.weight"
   ]
  },
  {
   "cell_type": "code",
   "execution_count": 8,
   "id": "f11fc71e-d6ad-4994-aedd-cf49d1feeb20",
   "metadata": {},
   "outputs": [
    {
     "data": {
      "text/plain": [
       "tensor([[-7.2488e-02, -1.1921e-01, -7.6537e-02, -5.1171e-05, -1.3085e-01],\n",
       "        [ 3.9598e-01, -4.0044e-01,  4.0640e-01, -2.2635e-01,  1.4261e-01],\n",
       "        [-4.3520e-01, -3.9455e-01,  9.7896e-02,  4.3159e-01, -1.2327e-01],\n",
       "        [ 3.9971e-01,  3.4355e-01,  2.0090e-01,  1.3588e-01,  2.7037e-01],\n",
       "        [ 4.1686e-01, -4.4352e-01, -2.9747e-01, -1.0779e-01,  2.4341e-01]])"
      ]
     },
     "execution_count": 8,
     "metadata": {},
     "output_type": "execute_result"
    }
   ],
   "source": [
    "layer.weight.data"
   ]
  },
  {
   "cell_type": "markdown",
   "id": "b16d21f7-308a-4267-9807-a36b7280dee5",
   "metadata": {},
   "source": [
    "# Uniform Initialisation"
   ]
  },
  {
   "cell_type": "code",
   "execution_count": 11,
   "id": "2e3e6dec-f93c-49ab-add7-6dc52a28ce92",
   "metadata": {},
   "outputs": [
    {
     "data": {
      "text/plain": [
       "tensor([[2.3615, 1.9547, 2.4783, 0.3394, 0.9608],\n",
       "        [0.7245, 1.2889, 1.2515, 1.0568, 1.1905],\n",
       "        [1.6503, 1.0915, 0.0711, 1.0232, 0.4786],\n",
       "        [2.3917, 0.9893, 1.8717, 1.7230, 1.6079],\n",
       "        [1.7654, 2.3208, 2.5131, 0.2856, 2.3064]])"
      ]
     },
     "execution_count": 11,
     "metadata": {},
     "output_type": "execute_result"
    }
   ],
   "source": [
    "# NOTE: The '_' implies an in_place operation\n",
    "# Initialise the weights with uniform distributed values from a to b\n",
    "nn.init.uniform_(layer.weight.data, a=0, b=3)"
   ]
  },
  {
   "cell_type": "markdown",
   "id": "e652c539-609f-41b4-a062-7c55ad7720e6",
   "metadata": {},
   "source": [
    "# Normal Distribution"
   ]
  },
  {
   "cell_type": "code",
   "execution_count": 12,
   "id": "68eb404d-4222-4fb8-ac2a-2404bddc0ad8",
   "metadata": {},
   "outputs": [
    {
     "data": {
      "text/plain": [
       "tensor([[-0.5931, -0.1266, -2.1361, -0.2345, -1.2032],\n",
       "        [ 0.0805,  0.3737,  1.0846,  1.8180, -2.1737],\n",
       "        [ 0.4277,  1.7683,  0.5878, -0.3763,  0.4127],\n",
       "        [-0.1888,  0.0473, -1.2144,  0.8918, -0.6653],\n",
       "        [-0.1872, -0.6459, -0.2771,  0.5146,  0.2216]])"
      ]
     },
     "execution_count": 12,
     "metadata": {},
     "output_type": "execute_result"
    }
   ],
   "source": [
    "nn.init.normal_(layer.weight.data, mean=0.0, std=1.0)"
   ]
  },
  {
   "cell_type": "code",
   "execution_count": 13,
   "id": "f8d8e7fb-f616-47c7-a50d-ab91687896fb",
   "metadata": {},
   "outputs": [
    {
     "data": {
      "text/plain": [
       "tensor([[-0.0814,  0.0566, -0.2195, -0.0798, -0.0303],\n",
       "        [-0.1445,  0.0052, -0.1558,  0.4677, -0.2113],\n",
       "        [ 0.0615, -0.2238,  0.1719,  0.1280,  0.1497],\n",
       "        [-0.2210,  0.1540, -0.4170, -0.2353,  0.0749],\n",
       "        [ 0.0930,  0.0867, -0.0754,  0.3241,  0.0860]])"
      ]
     },
     "execution_count": 13,
     "metadata": {},
     "output_type": "execute_result"
    }
   ],
   "source": [
    "nn.init.normal_(layer.weight.data, mean=0.0, std=0.2)"
   ]
  },
  {
   "cell_type": "markdown",
   "id": "b8d61e1a-64ae-408e-906d-09179f5e5a46",
   "metadata": {},
   "source": [
    "Shrinking the Standard Deviation would result in closer values."
   ]
  },
  {
   "cell_type": "markdown",
   "id": "1e6c230a-0585-4de4-be10-06f92c28a29c",
   "metadata": {},
   "source": [
    "# Constant Initialisation\n",
    "\n",
    "Useful when initialise the Bias."
   ]
  },
  {
   "cell_type": "code",
   "execution_count": 14,
   "id": "5c5968ea-47b9-4388-9ca1-0e34bcc419b1",
   "metadata": {},
   "outputs": [
    {
     "data": {
      "text/plain": [
       "Parameter containing:\n",
       "tensor([[8., 8., 8., 8., 8.],\n",
       "        [8., 8., 8., 8., 8.],\n",
       "        [8., 8., 8., 8., 8.],\n",
       "        [8., 8., 8., 8., 8.],\n",
       "        [8., 8., 8., 8., 8.]], requires_grad=True)"
      ]
     },
     "execution_count": 14,
     "metadata": {},
     "output_type": "execute_result"
    }
   ],
   "source": [
    "nn.init.constant_(layer.weight, 8)"
   ]
  },
  {
   "cell_type": "code",
   "execution_count": 15,
   "id": "f3538ceb-e314-409b-ab87-a72edf593650",
   "metadata": {},
   "outputs": [
    {
     "data": {
      "text/plain": [
       "Parameter containing:\n",
       "tensor([0., 0., 0., 0., 0.], requires_grad=True)"
      ]
     },
     "execution_count": 15,
     "metadata": {},
     "output_type": "execute_result"
    }
   ],
   "source": [
    "nn.init.constant_(layer.bias, 0)"
   ]
  },
  {
   "cell_type": "code",
   "execution_count": 16,
   "id": "3332e84c-b34c-46ad-9ded-b909585b379a",
   "metadata": {},
   "outputs": [
    {
     "data": {
      "text/plain": [
       "Parameter containing:\n",
       "tensor([0., 0., 0., 0., 0.], requires_grad=True)"
      ]
     },
     "execution_count": 16,
     "metadata": {},
     "output_type": "execute_result"
    }
   ],
   "source": [
    "# Another way to intialise the Bias to zero\n",
    "nn.init.zeros_(layer.bias)"
   ]
  },
  {
   "cell_type": "markdown",
   "id": "554edfcd-816d-47bd-86bc-94279e2d9c2f",
   "metadata": {},
   "source": [
    "# Xavier Initialisation"
   ]
  },
  {
   "cell_type": "code",
   "execution_count": 17,
   "id": "23eeb61e-44bf-4310-9c1b-e85b9ba1d21d",
   "metadata": {},
   "outputs": [
    {
     "data": {
      "text/plain": [
       "tensor([[ 0.3335,  0.5168, -0.1817, -0.3870, -0.0390],\n",
       "        [-0.5368, -0.4168,  0.1458,  0.5605, -0.5042],\n",
       "        [-0.7677,  0.7031, -0.1493,  0.3173, -0.4605],\n",
       "        [ 0.6563, -0.3810,  0.5848, -0.7694,  0.7013],\n",
       "        [-0.3772, -0.2059,  0.3171, -0.4665, -0.3061]])"
      ]
     },
     "execution_count": 17,
     "metadata": {},
     "output_type": "execute_result"
    }
   ],
   "source": [
    "nn.init.xavier_uniform_(layer.weight.data)"
   ]
  },
  {
   "cell_type": "code",
   "execution_count": 18,
   "id": "3867dbf4-084f-48eb-abac-f672a135d94b",
   "metadata": {},
   "outputs": [
    {
     "data": {
      "text/plain": [
       "tensor([[-0.2754, -0.3600,  0.2767,  0.9130, -0.4385],\n",
       "        [-0.5473, -0.4185,  0.4147,  0.3779, -0.8795],\n",
       "        [ 0.2540,  0.3041, -0.0303,  0.2051, -0.6307],\n",
       "        [-0.9589, -0.0322, -0.8565, -0.5455,  0.2822],\n",
       "        [-0.3635, -0.4457, -0.7713, -0.1532,  0.3847]])"
      ]
     },
     "execution_count": 18,
     "metadata": {},
     "output_type": "execute_result"
    }
   ],
   "source": [
    "nn.init.xavier_normal_(layer.weight.data)"
   ]
  }
 ],
 "metadata": {
  "kernelspec": {
   "display_name": "Python 3 (ipykernel)",
   "language": "python",
   "name": "python3"
  },
  "language_info": {
   "codemirror_mode": {
    "name": "ipython",
    "version": 3
   },
   "file_extension": ".py",
   "mimetype": "text/x-python",
   "name": "python",
   "nbconvert_exporter": "python",
   "pygments_lexer": "ipython3",
   "version": "3.10.5"
  }
 },
 "nbformat": 4,
 "nbformat_minor": 5
}
