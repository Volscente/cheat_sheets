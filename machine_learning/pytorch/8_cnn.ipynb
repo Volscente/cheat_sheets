{
 "cells": [
  {
   "cell_type": "markdown",
   "id": "bdda28d4-89ff-46b1-8e04-e0a4f019b98d",
   "metadata": {},
   "source": [
    "# Introduction\n",
    "\n",
    "The notebook is intended to experiment with Convolutional Neural Network in PyTorch."
   ]
  },
  {
   "cell_type": "code",
   "execution_count": 1,
   "id": "d64a7af1-6c78-4eb4-8ca7-60eaca077446",
   "metadata": {},
   "outputs": [
    {
     "name": "stderr",
     "output_type": "stream",
     "text": [
      "/Users/s.porreca/.local/share/virtualenvs/cheat_sheets-EiW5VkhA/lib/python3.10/site-packages/tqdm/auto.py:21: TqdmWarning: IProgress not found. Please update jupyter and ipywidgets. See https://ipywidgets.readthedocs.io/en/stable/user_install.html\n",
      "  from .autonotebook import tqdm as notebook_tqdm\n"
     ]
    }
   ],
   "source": [
    "# Import Standard Libraries\n",
    "import torch\n",
    "import torch.nn as nn\n",
    "import torchvision.transforms as transforms\n",
    "import torchvision.datasets as datasets\n",
    "\n",
    "import pandas as pd\n",
    "import numpy as np\n",
    "import matplotlib.pyplot as plt\n",
    "\n",
    "import seaborn as sns"
   ]
  },
  {
   "cell_type": "code",
   "execution_count": 2,
   "id": "f7e5bca8-add0-45fc-bcab-b60c3d73442f",
   "metadata": {},
   "outputs": [],
   "source": [
    "# Define Seaborn theme parameters\n",
    "theme_parameters =  {\n",
    "    'axes.spines.right': False,\n",
    "    'axes.spines.top': False,\n",
    "    'grid.alpha':0.3,\n",
    "    'figure.figsize': (16, 6),\n",
    "    'font.family': 'Andale Mono',\n",
    "    'axes.titlesize': 24,\n",
    "    'figure.facecolor': '#E5E8E8',\n",
    "    'axes.facecolor': '#E5E8E8'\n",
    "}\n",
    "\n",
    "# Set the theme\n",
    "sns.set_theme(style='whitegrid',\n",
    "              palette=sns.color_palette('deep'), \n",
    "              rc=theme_parameters)"
   ]
  },
  {
   "cell_type": "markdown",
   "id": "0934eba2-4449-4a73-aec2-a1ae7d4dbf9f",
   "metadata": {},
   "source": [
    "# Data Preparation"
   ]
  },
  {
   "cell_type": "code",
   "execution_count": 3,
   "id": "a40cf337-80a9-4d12-ac4b-341fe7021c5a",
   "metadata": {},
   "outputs": [],
   "source": [
    "# Define the mean and std of the MNIST dataset for the data normalisation\n",
    "# NOTE: We are not going to compute them\n",
    "mean = 0.1307\n",
    "std = 0.3081"
   ]
  },
  {
   "cell_type": "code",
   "execution_count": 4,
   "id": "b13aef16-73c3-4e50-a816-3d55e2154e23",
   "metadata": {},
   "outputs": [],
   "source": [
    "# Define the a set of data transformation through the function \"compose\"\n",
    "data_transformations = transforms.Compose([\n",
    "    transforms.ToTensor(),\n",
    "    transforms.Normalize((mean,), (std,))\n",
    "])"
   ]
  },
  {
   "cell_type": "code",
   "execution_count": 5,
   "id": "ff45eb77-18ad-4e85-94a9-9c1584217f25",
   "metadata": {},
   "outputs": [],
   "source": [
    "# Load the MNIST dataset\n",
    "train_data = datasets.MNIST(root='./../../data', \n",
    "                            train=True, \n",
    "                            transform=data_transformations, \n",
    "                            download=True)\n",
    "\n",
    "test_data = datasets.MNIST(root='./../../data',\n",
    "                           train=False,\n",
    "                           transform=data_transformations)"
   ]
  },
  {
   "cell_type": "code",
   "execution_count": 6,
   "id": "2009860d-d641-4b44-b826-18d24b781bb0",
   "metadata": {},
   "outputs": [],
   "source": [
    "# Define a DataLoader for batch training & testing\n",
    "train_data_loader = torch.utils.data.DataLoader(train_data, \n",
    "                                                batch_size=100, \n",
    "                                                shuffle=True)\n",
    "\n",
    "test_data_loader = torch.utils.data.DataLoader(test_data, \n",
    "                                               batch_size=100, \n",
    "                                               shuffle=False)"
   ]
  },
  {
   "cell_type": "markdown",
   "id": "646a7ae0-a6ef-4d3a-85ed-ddeee0a7b6a5",
   "metadata": {},
   "source": [
    "# Plot Sample Data"
   ]
  },
  {
   "cell_type": "code",
   "execution_count": 7,
   "id": "bc49ebf6-c775-4033-9f7e-fb41b19422f3",
   "metadata": {},
   "outputs": [],
   "source": [
    "# Retrieve an image and normalise it\n",
    "image = train_data[20][0].numpy() * mean * std"
   ]
  },
  {
   "cell_type": "code",
   "execution_count": 8,
   "id": "086ba894-ab1e-4410-8332-959d7352fb7b",
   "metadata": {},
   "outputs": [
    {
     "data": {
      "image/png": "[encoded data removed]",
      "text/plain": [
       "<Figure size 1600x600 with 1 Axes>"
      ]
     },
     "metadata": {},
     "output_type": "display_data"
    }
   ],
   "source": [
    "# Show the image\n",
    "# NOTE: It needs to be reshaped to N x N dimension from a 3-Channel\n",
    "_ = plt.imshow(image.reshape(28, 28),\n",
    "               cmap='gray') # Define image gray color"
   ]
  },
  {
   "cell_type": "markdown",
   "id": "f27b0dcf-cbc6-4964-b612-513e594bf3c6",
   "metadata": {},
   "source": [
    "# Model Definition"
   ]
  },
  {
   "cell_type": "markdown",
   "id": "2734df46-f4fb-4c8d-a013-0226b1889b9a",
   "metadata": {},
   "source": [
    "## Define the Neural Network"
   ]
  },
  {
   "cell_type": "code",
   "execution_count": 9,
   "id": "f78d6c46-af11-4f15-890d-8f332865a173",
   "metadata": {},
   "outputs": [],
   "source": [
    "class Model(nn.Module):\n",
    "    \n",
    "    \"\"\"\n",
    "    Initialise a Convolutional Neural Network\n",
    "\n",
    "    Attributes:\n",
    "        conv2d_1 nn.Conv2d Convolutional 2-D Layer 1 \n",
    "\n",
    "    \"\"\"\n",
    "    \n",
    "    def __init__(self, \n",
    "                 conv2d_1_attributes: dict, \n",
    "                 batch_normalisation_1_attributes: dict, \n",
    "                 max_pooling_1_attributes: dict, \n",
    "                 conv2d_2_attributes: dict, \n",
    "                 batch_normalisation_2_attributes: dict, \n",
    "                 max_pooling_2_attributes: dict):\n",
    "    \n",
    "        \"\"\"\n",
    "        Initialise the Neural Network\n",
    "\n",
    "        Args:\n",
    "            conv2d_1_attributes Dictionary of conv2d_1 attributes\n",
    "            batch_normalisation_1_attributes Dictionary of batch_normalisation_1 attributes\n",
    "            max_pooling_1_attributes Dictionary of max_pooling_1 attributes\n",
    "            conv2d_2_attributes Dictionary of conv2d_1 attributes\n",
    "            batch_normalisation_2_attributes Dictionary of batch_normalisation_2 attributes\n",
    "            max_pooling_2_attributes Dictionary of max_pooling_2 attributes\n",
    "\n",
    "        \"\"\"\n",
    "\n",
    "        # Call the nn.Module constructor\n",
    "        super(Model, self).__init__()\n",
    "\n",
    "        # Define the first Convolutional layer\n",
    "        self.conv2d_1 = nn.Conv2d(in_channels=conv2d_1_attributes['input_channels'], \n",
    "                                  out_channels=conv2d_1_attributes['output_channels'], \n",
    "                                  kernel_size=conv2d_1_attributes['kernel_size'], \n",
    "                                  stride=conv2d_1_attributes['stride'], \n",
    "                                  padding=conv2d_1_attributes['padding'])\n",
    "        \n",
    "        # Define the Batch Normalisation layer for conv2d_1\n",
    "        self.batch_normalisation_1 = nn.BatchNorm2d(batch_normalisation_1_attributes['feature_map_dim'])\n",
    "        \n",
    "        # Specify conv2d_1 activation function\n",
    "        self.activation_function_1 = nn.ReLU()\n",
    "                 \n",
    "        # Max Pooling for conv2d_1\n",
    "        # Note: the final dimension of the feature map after the max_pooling_1 would be\n",
    "        # [(input_size - kernel_size + 2*padding/stride + 1]\n",
    "        # 28 - 3 + 2*1/1 + 1 = 28\n",
    "        # After the MaxPooling: Feature Map Size / Max Pooling Kernel = 28/2 = 14\n",
    "        self.max_pooling_1 = nn.MaxPool2d(max_pooling_1_attributes['kernel_size'])\n",
    "        \n",
    "        # Define the second Convolutional layer\n",
    "        self.conv2d_2 = nn.Conv2d(in_channels=conv2d_2_attributes['input_channels'], \n",
    "                                  out_channels=conv2d_2_attributes['output_channels'], \n",
    "                                  kernel_size=conv2d_2_attributes['kernel_size'], \n",
    "                                  stride=conv2d_2_attributes['stride'], \n",
    "                                  padding=conv2d_2_attributes['padding'])\n",
    "        \n",
    "        # Define the Batch Normalisation layer for conv2d_2\n",
    "        self.batch_normalisation_2 = nn.BatchNorm2d(batch_normalisation_2_attributes['feature_map_dim'])\n",
    "        \n",
    "        # Specify conv2d_2 activation function\n",
    "        self.activation_function_2 = nn.ReLU()\n",
    "        \n",
    "        # Max Pooling for conv2d_2\n",
    "        # Output size: 14 - 5 + 2*2/1 + 1 = 14\n",
    "        # After Max Pooling: 14/2 = 7\n",
    "        self.max_pooling_2 = nn.MaxPool2d(max_pooling_2_attributes['kernel_size'])\n",
    "        \n",
    "        # Define first fully-connected layer\n",
    "        # NOTE: The number of neurons is 32x7x7 = 1568\n",
    "        # NOTE2: 600 is the arbitrary chosen output dimension\n",
    "        self.fully_connected_1 = nn.Linear(1568, 600)\n",
    "        \n",
    "        # Specify fully_connected_1 activation function\n",
    "        self.activation_function_fcc_1 = nn.ReLU()\n",
    "        \n",
    "        # Apply dropout \n",
    "        self.dropout = nn.Dropout(0.5)\n",
    "        \n",
    "        # Define second fully-connected layer\n",
    "        # NOTE: the output dimension is 10 because of the number of classes\n",
    "        self.fully_connected_2 = nn.Linear(600, 10)\n",
    "                                  \n",
    "    def forward(self, x):\n",
    "        \"\"\"\n",
    "        Implements the feed forward process of the input x through the CNN\n",
    "        \"\"\"\n",
    "                                  \n",
    "        # Feed forward the input through the CNN layers\n",
    "        output_conv2d_1 = self.conv2d_1(x)\n",
    "        output_conv2d_1 = self.batch_normalisation_1(output_conv2d_1)\n",
    "        output_conv2d_1 = self.activation_function_1(output_conv2d_1)\n",
    "        output_conv2d_1 = self.max_pooling_1(output_conv2d_1)\n",
    "        \n",
    "        output_conv2d_2 = self.conv2d_2(output_conv2d_1)\n",
    "        output_conv2d_2 = self.batch_normalisation_2(output_conv2d_2)\n",
    "        output_conv2d_2 = self.activation_function_2(output_conv2d_2)\n",
    "        output_conv2d_2 = self.max_pooling_2(output_conv2d_2)\n",
    "        \n",
    "        # Flatten the output with a batch size passed at runtime (-1)\n",
    "        output_conv2d_2 = output_conv2d_2.view(-1, 1568)\n",
    "        \n",
    "        \n",
    "        output_fcc_1 = self.fully_connected_1(output_conv2d_2)\n",
    "        output_fcc_1 = self.activation_function_fcc_1(output_fcc_1)\n",
    "        output_fcc_1 = self.dropout(output_fcc_1)\n",
    "        \n",
    "        output = self.fully_connected_2(output_fcc_1)\n",
    "        \n",
    "        return output"
   ]
  },
  {
   "cell_type": "code",
   "execution_count": 10,
   "id": "aff0e63c-ba3d-4915-9b05-89230f8d7953",
   "metadata": {},
   "outputs": [],
   "source": [
    "# Hyperparameters\n",
    "conv2d_1_attributes = {\n",
    "    'input_channels': 1,\n",
    "    'output_channels': 8, # Number of filters to apply\n",
    "    'kernel_size': 3,\n",
    "    'stride': 1,\n",
    "    'padding': 1 # (kernel_size - 1)/2\n",
    "}\n",
    "\n",
    "batch_normalisation_1_attributes = {\n",
    "    'feature_map_dim': 8\n",
    "}\n",
    "\n",
    "max_pooling_1_attributes = {\n",
    "    'kernel_size': 2\n",
    "}\n",
    "\n",
    "conv2d_2_attributes = {\n",
    "    'input_channels': 8,\n",
    "    'output_channels': 32, # Number of filters to apply\n",
    "    'kernel_size': 5,\n",
    "    'stride': 1,\n",
    "    'padding': 2 # (kernel_size - 1)/2\n",
    "}\n",
    "\n",
    "batch_normalisation_2_attributes = {\n",
    "    'feature_map_dim': 32\n",
    "}\n",
    "\n",
    "max_pooling_2_attributes = {\n",
    "    'kernel_size': 2\n",
    "}"
   ]
  },
  {
   "cell_type": "markdown",
   "id": "824f47dc-fc5c-4afb-91be-1b8530fb7a16",
   "metadata": {},
   "source": [
    "## Define the Model"
   ]
  },
  {
   "cell_type": "code",
   "execution_count": 11,
   "id": "3c8476d1-87cc-447b-b641-b889a70375ed",
   "metadata": {},
   "outputs": [],
   "source": [
    "# Instantiate the model\n",
    "model = Model(conv2d_1_attributes, \n",
    "              batch_normalisation_1_attributes, \n",
    "              max_pooling_1_attributes, \n",
    "              conv2d_2_attributes, \n",
    "              batch_normalisation_2_attributes, \n",
    "              max_pooling_2_attributes)"
   ]
  },
  {
   "cell_type": "code",
   "execution_count": 12,
   "id": "c042a7aa-b590-466d-aa2b-5aecaa0872ba",
   "metadata": {},
   "outputs": [],
   "source": [
    "# Check if CUDA is available\n",
    "cuda_flag = torch.cuda.is_available()"
   ]
  },
  {
   "cell_type": "code",
   "execution_count": 13,
   "id": "bcb2936f-8c24-42f4-b8b5-bbd481057e9d",
   "metadata": {},
   "outputs": [],
   "source": [
    "# If CUDA is available, swtich the model to work on the GPU\n",
    "if cuda_flag:\n",
    "    mode = model.cuda()"
   ]
  },
  {
   "cell_type": "code",
   "execution_count": 14,
   "id": "8b35f5f4-9042-4ef2-b80e-76c4ca1be6ba",
   "metadata": {},
   "outputs": [],
   "source": [
    "# Define the loss function\n",
    "loss_function = nn.CrossEntropyLoss()"
   ]
  },
  {
   "cell_type": "code",
   "execution_count": 15,
   "id": "1610e109-9bdf-4d2b-a0ab-af2d33fa27c1",
   "metadata": {},
   "outputs": [],
   "source": [
    "# Define the optimiser\n",
    "optimiser = torch.optim.Adam(model.parameters(), \n",
    "                             lr=0.01)"
   ]
  },
  {
   "cell_type": "markdown",
   "id": "06e39669-c2ea-499e-a9c9-87c3f0ee1f95",
   "metadata": {},
   "source": [
    "The input shape would be something like (100, 1, 28, 28), where:\n",
    "- 100 is the batch size\n",
    "- 1 is the number of channels\n",
    "- 28, 28 is the image shape"
   ]
  },
  {
   "cell_type": "markdown",
   "id": "958b985b-c07a-4b18-b809-4041d863c1c0",
   "metadata": {},
   "source": [
    "## Training"
   ]
  },
  {
   "cell_type": "code",
   "execution_count": 16,
   "id": "e71dec01-4492-4e38-947b-12a8bdb794e4",
   "metadata": {},
   "outputs": [],
   "source": [
    "# Define the training parameters\n",
    "epochs = 10\n",
    "\n",
    "# Initialise the metrics lists\n",
    "train_loss = []\n",
    "train_accuracy = []\n",
    "test_loss = []\n",
    "test_accuracy = []"
   ]
  },
  {
   "cell_type": "code",
   "execution_count": 17,
   "id": "e8e9c790-2b69-4fd6-87c0-c3288066d3e7",
   "metadata": {},
   "outputs": [
    {
     "name": "stdout",
     "output_type": "stream",
     "text": [
      "Epoch 1/10 - Training Loss: 0.830 - Training Accuracy: 75.025 - Testing Loss 0.082 - Testing Accuracy 97.540\n",
      "Epoch 2/10 - Training Loss: 0.211 - Training Accuracy: 93.640 - Testing Loss 0.054 - Testing Accuracy 98.400\n",
      "Epoch 3/10 - Training Loss: 0.117 - Training Accuracy: 96.505 - Testing Loss 0.040 - Testing Accuracy 98.790\n",
      "Epoch 4/10 - Training Loss: 0.093 - Training Accuracy: 97.198 - Testing Loss 0.043 - Testing Accuracy 98.760\n",
      "Epoch 5/10 - Training Loss: 0.086 - Training Accuracy: 97.408 - Testing Loss 0.036 - Testing Accuracy 98.930\n",
      "Epoch 6/10 - Training Loss: 0.076 - Training Accuracy: 97.712 - Testing Loss 0.041 - Testing Accuracy 98.890\n",
      "Epoch 7/10 - Training Loss: 0.069 - Training Accuracy: 97.985 - Testing Loss 0.039 - Testing Accuracy 98.890\n",
      "Epoch 8/10 - Training Loss: 0.060 - Training Accuracy: 98.175 - Testing Loss 0.033 - Testing Accuracy 99.030\n",
      "Epoch 9/10 - Training Loss: 0.062 - Training Accuracy: 98.202 - Testing Loss 0.038 - Testing Accuracy 98.940\n",
      "Epoch 10/10 - Training Loss: 0.055 - Training Accuracy: 98.443 - Testing Loss 0.033 - Testing Accuracy 99.050\n"
     ]
    }
   ],
   "source": [
    "# Training\n",
    "for epoch in range(epochs):\n",
    "    \n",
    "    # Initialise the epoch's metrics for later evaluation\n",
    "    epoch_loss = 0\n",
    "    \n",
    "    # Initialise the number of iterations per epoch\n",
    "    iterations = 0\n",
    "    \n",
    "    # Initialise the number of correct predictions\n",
    "    correct_predictions_num = 0\n",
    "    \n",
    "    # Switch the model to the 'train' mode (the other mode is the 'test' one)\n",
    "    # NOTE: Dropout and Batch Normalisation are not required during the testing phase\n",
    "    model.train()\n",
    "\n",
    "    \n",
    "    # Fetch the training batches\n",
    "    for index, (inputs, labels) in enumerate(train_data_loader):\n",
    "        \n",
    "        # Transfer the data to CUDA if available\n",
    "        if cuda_flag:    \n",
    "            inputs = inputs.cuda()\n",
    "            labels = labels.cuda()\n",
    "            \n",
    "        # Feed forward\n",
    "        outputs = model(inputs)\n",
    "        \n",
    "        # Compute the loss\n",
    "        loss = loss_function(outputs, labels)\n",
    "        \n",
    "        # Accumulate the epoch's loss\n",
    "        # NOTE: the .item() extract the value from the Tensor\n",
    "        epoch_loss += loss.item()\n",
    "        \n",
    "        # Reset gradient\n",
    "        optimiser.zero_grad()\n",
    "        \n",
    "        # Backpropagation\n",
    "        loss.backward()\n",
    "        \n",
    "        # Update weights\n",
    "        optimiser.step()\n",
    "        \n",
    "        # Compute the predicted class\n",
    "        # NOTE: torch.max return the value, index pair\n",
    "        _, predicted_class = torch.max(outputs, 1)\n",
    "        \n",
    "        # Compute the correct number of predictions\n",
    "        correct_predictions_num += (predicted_class == labels).sum().item()\n",
    "        \n",
    "        # Increment the iterations\n",
    "        iterations += 1\n",
    "        \n",
    "    # Update training metrics\n",
    "    train_loss.append(epoch_loss/iterations)\n",
    "    train_accuracy.append(100 * correct_predictions_num/len(train_data))\n",
    "    \n",
    "    # Model's Batch Test\n",
    "    model.eval()\n",
    "    \n",
    "    # Initialise epoch's test metrics\n",
    "    epoch_test_loss = 0.0\n",
    "    epoch_test_correct_predictions_num = 0\n",
    "    test_iterations = 0\n",
    "    \n",
    "    # Fetch the testing batches\n",
    "    for index, (inputs, labels) in enumerate(test_data_loader):\n",
    "        \n",
    "        # Transfer the data to CUDA if available\n",
    "        if cuda_flag:    \n",
    "            inputs = inputs.cuda()\n",
    "            labels = labels.cuda()\n",
    "            \n",
    "        # Feed Forward\n",
    "        outputs = model(inputs)\n",
    "        \n",
    "        # Compute the loss\n",
    "        loss = loss_function(outputs, labels)\n",
    "        \n",
    "        # Accumulate the epoch's test loss\n",
    "        epoch_test_loss += loss.item()\n",
    "        \n",
    "        # Compute predicted classe\n",
    "        _, predicted_class = torch.max(outputs, 1)\n",
    "        \n",
    "        # Compute the correct number of predictions\n",
    "        epoch_test_correct_predictions_num += (predicted_class == labels).sum().item()\n",
    "        \n",
    "        # Increment the iterations\n",
    "        test_iterations += 1\n",
    "        \n",
    "    # Update test metrics\n",
    "    test_loss.append(epoch_test_loss/test_iterations)\n",
    "    test_accuracy.append(100 * epoch_test_correct_predictions_num/len(test_data))\n",
    "    \n",
    "    print('Epoch {}/{} - Training Loss: {:.3f} - Training Accuracy: {:.3f} - Testing Loss {:.3f} - Testing Accuracy {:.3f}'.format(epoch + 1,\n",
    "                                                                                                                                   epochs,\n",
    "                                                                                                                                   train_loss[-1],\n",
    "                                                                                                                                   train_accuracy[-1],\n",
    "                                                                                                                                   test_loss[-1], \n",
    "                                                                                                                                   test_accuracy[-1]))"
   ]
  },
  {
   "cell_type": "markdown",
   "id": "dacc60b5-00f1-4d75-994d-4dab4fd9d0f1",
   "metadata": {},
   "source": [
    "# Model Evaluation"
   ]
  },
  {
   "cell_type": "code",
   "execution_count": 18,
   "id": "0a4d7bdd-4ac2-46d0-9630-b41eb732b325",
   "metadata": {},
   "outputs": [],
   "source": [
    "# Construct model_metric DataFrame\n",
    "model_metrics = pd.DataFrame({'Training Loss': train_loss, \n",
    "                              'Testing Loss': test_loss, \n",
    "                              'Training Accuracy': train_accuracy, \n",
    "                              'Testing Accuracy': test_accuracy}, \n",
    "                             index=np.arange(1, epochs + 1))"
   ]
  },
  {
   "cell_type": "code",
   "execution_count": 29,
   "id": "8567c590-c839-4fed-bbf3-c8e0df3ae6f9",
   "metadata": {},
   "outputs": [
    {
     "data": {
      "image/png": "[encoded data removed]",
      "text/plain": [
       "<Figure size 900x900 with 1 Axes>"
      ]
     },
     "metadata": {},
     "output_type": "display_data"
    }
   ],
   "source": [
    "# Plot Training & Test Loss\n",
    "figure, ax = plt.subplots(figsize=(9, 9))\n",
    "\n",
    "sns.lineplot(\n",
    "    data=model_metrics, \n",
    "    x=model_metrics.index.tolist(), \n",
    "    y='Training Loss', \n",
    "    label='Training Loss')\n",
    "\n",
    "sns.lineplot(\n",
    "    data=model_metrics, \n",
    "    x=model_metrics.index.tolist(), \n",
    "    y='Testing Loss', \n",
    "    label='Testing Loss')\n",
    "\n",
    "ax.set_ylabel('Loss', \n",
    "              fontweight='bold')\n",
    "\n",
    "ax.set_xlabel('Epochs', \n",
    "              fontweight='bold')\n",
    "\n",
    "ax.set_title('Training & Test Loss', \n",
    "             fontsize=14)\n",
    "\n",
    "plt.xticks(model_metrics.index.tolist())\n",
    "\n",
    "plt.show()"
   ]
  },
  {
   "cell_type": "code",
   "execution_count": null,
   "id": "8dd9094c-7cbe-4260-abdd-b9bd4fd3a214",
   "metadata": {},
   "outputs": [],
   "source": []
  }
 ],
 "metadata": {
  "kernelspec": {
   "display_name": "Python 3 (ipykernel)",
   "language": "python",
   "name": "python3"
  },
  "language_info": {
   "codemirror_mode": {
    "name": "ipython",
    "version": 3
   },
   "file_extension": ".py",
   "mimetype": "text/x-python",
   "name": "python",
   "nbconvert_exporter": "python",
   "pygments_lexer": "ipython3",
   "version": "3.10.5"
  }
 },
 "nbformat": 4,
 "nbformat_minor": 5
}
