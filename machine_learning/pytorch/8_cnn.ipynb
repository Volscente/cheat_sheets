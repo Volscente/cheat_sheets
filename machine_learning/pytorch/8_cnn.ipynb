{
 "cells": [
  {
   "cell_type": "markdown",
   "id": "bdda28d4-89ff-46b1-8e04-e0a4f019b98d",
   "metadata": {},
   "source": [
    "# Introduction\n",
    "\n",
    "The notebook is intended to experiment with Convolutional Neural Network in PyTorch."
   ]
  },
  {
   "cell_type": "code",
   "execution_count": 1,
   "id": "d64a7af1-6c78-4eb4-8ca7-60eaca077446",
   "metadata": {},
   "outputs": [
    {
     "name": "stderr",
     "output_type": "stream",
     "text": [
      "/Users/s.porreca/.local/share/virtualenvs/cheat_sheets-EiW5VkhA/lib/python3.10/site-packages/tqdm/auto.py:21: TqdmWarning: IProgress not found. Please update jupyter and ipywidgets. See https://ipywidgets.readthedocs.io/en/stable/user_install.html\n",
      "  from .autonotebook import tqdm as notebook_tqdm\n"
     ]
    }
   ],
   "source": [
    "# Import Standard Libraries\n",
    "import torch\n",
    "import torch.nn as nn\n",
    "import torchvision.transforms as transforms\n",
    "import torchvision.datasets as datasets\n",
    "\n",
    "import matplotlib.pyplot as plt"
   ]
  },
  {
   "cell_type": "markdown",
   "id": "0934eba2-4449-4a73-aec2-a1ae7d4dbf9f",
   "metadata": {},
   "source": [
    "# Data Preparation"
   ]
  },
  {
   "cell_type": "code",
   "execution_count": 2,
   "id": "a40cf337-80a9-4d12-ac4b-341fe7021c5a",
   "metadata": {},
   "outputs": [],
   "source": [
    "# Define the mean and std of the MNIST dataset for the data normalisation\n",
    "# NOTE: We are not going to compute them\n",
    "mean = 0.1307\n",
    "std = 0.3081"
   ]
  },
  {
   "cell_type": "code",
   "execution_count": 3,
   "id": "b13aef16-73c3-4e50-a816-3d55e2154e23",
   "metadata": {},
   "outputs": [],
   "source": [
    "# Define the a set of data transformation through the function \"compose\"\n",
    "data_transformations = transforms.Compose([\n",
    "    transforms.ToTensor(),\n",
    "    transforms.Normalize((mean,), (std,))\n",
    "])"
   ]
  },
  {
   "cell_type": "code",
   "execution_count": 4,
   "id": "ff45eb77-18ad-4e85-94a9-9c1584217f25",
   "metadata": {},
   "outputs": [],
   "source": [
    "# Load the MNIST dataset\n",
    "train_data = datasets.MNIST(root='./../../data', \n",
    "                            train=True, \n",
    "                            transform=data_transformations, \n",
    "                            download=True)\n",
    "\n",
    "test_data = datasets.MNIST(root='./../../data',\n",
    "                           train=False,\n",
    "                           transform=data_transformations)"
   ]
  },
  {
   "cell_type": "code",
   "execution_count": 5,
   "id": "2009860d-d641-4b44-b826-18d24b781bb0",
   "metadata": {},
   "outputs": [],
   "source": [
    "# Define a DataLoader for batch training & testing\n",
    "train_data_loader = torch.utils.data.DataLoader(train_data, \n",
    "                                                batch_size=100, \n",
    "                                                shuffle=True)\n",
    "\n",
    "test_data_loader = torch.utils.data.DataLoader(test_data, \n",
    "                                               batch_size=100, \n",
    "                                               shuffle=False)"
   ]
  },
  {
   "cell_type": "markdown",
   "id": "646a7ae0-a6ef-4d3a-85ed-ddeee0a7b6a5",
   "metadata": {},
   "source": [
    "# Plot Sample Data"
   ]
  },
  {
   "cell_type": "code",
   "execution_count": 6,
   "id": "bc49ebf6-c775-4033-9f7e-fb41b19422f3",
   "metadata": {},
   "outputs": [],
   "source": [
    "# Retrieve an image and normalise it\n",
    "image = train_data[20][0].numpy() * mean * std"
   ]
  },
  {
   "cell_type": "code",
   "execution_count": 7,
   "id": "086ba894-ab1e-4410-8332-959d7352fb7b",
   "metadata": {},
   "outputs": [
    {
     "data": {
      "image/png": "[encoded data removed]",
      "text/plain": [
       "<Figure size 640x480 with 1 Axes>"
      ]
     },
     "metadata": {},
     "output_type": "display_data"
    }
   ],
   "source": [
    "# Show the image\n",
    "# NOTE: It needs to be reshaped to N x N dimension from a 3-Channel\n",
    "_ = plt.imshow(image.reshape(28, 28),\n",
    "               cmap='gray') # Define image gray color"
   ]
  },
  {
   "cell_type": "markdown",
   "id": "f27b0dcf-cbc6-4964-b612-513e594bf3c6",
   "metadata": {},
   "source": [
    "# Model Definition"
   ]
  },
  {
   "cell_type": "markdown",
   "id": "2734df46-f4fb-4c8d-a013-0226b1889b9a",
   "metadata": {},
   "source": [
    "## Define the Neural Network"
   ]
  },
  {
   "cell_type": "code",
   "execution_count": 10,
   "id": "f78d6c46-af11-4f15-890d-8f332865a173",
   "metadata": {},
   "outputs": [],
   "source": [
    "class Model(nn.Module):\n",
    "    \n",
    "    \"\"\"\n",
    "    Initialise a Convolutional Neural Network\n",
    "\n",
    "    Attributes:\n",
    "        conv2d_1 nn.Conv2d Convolutional 2-D Layer 1 \n",
    "\n",
    "    \"\"\"\n",
    "    \n",
    "    def __init__(self, \n",
    "                 conv2d_1_attributes: dict, \n",
    "                 batch_normalisation_1_attributes: dict, \n",
    "                 max_pooling_1_attributes: dict, \n",
    "                 conv2d_2_attributes: dict, \n",
    "                 batch_normalisation_2_attributes: dict, \n",
    "                 max_pooling_2_attributes: dict):\n",
    "    \n",
    "        \"\"\"\n",
    "        Initialise the Neural Network\n",
    "\n",
    "        Args:\n",
    "            conv2d_1_attributes Dictionary of conv2d_1 attributes\n",
    "            batch_normalisation_1_attributes Dictionary of batch_normalisation_1 attributes\n",
    "            max_pooling_1_attributes Dictionary of max_pooling_1 attributes\n",
    "            conv2d_2_attributes Dictionary of conv2d_1 attributes\n",
    "            batch_normalisation_2_attributes Dictionary of batch_normalisation_2 attributes\n",
    "            max_pooling_2_attributes Dictionary of max_pooling_2 attributes\n",
    "\n",
    "        \"\"\"\n",
    "\n",
    "        # Call the nn.Module constructor\n",
    "        super(Model, self).__init__()\n",
    "\n",
    "        # Define the first Convolutional layer\n",
    "        self.conv2d_1 = nn.Conv2d(in_channels=conv2d_1_attributes['input_channels'], \n",
    "                                  out_channels=conv2d_1_attributes['output_channels'], \n",
    "                                  kernel_size=conv2d_1_attributes['kernel_size'], \n",
    "                                  stride=conv2d_1_attributes['stride'], \n",
    "                                  padding=conv2d_1_attributes['padding'])\n",
    "        \n",
    "        # Define the Batch Normalisation layer for conv2d_1\n",
    "        self.batch_normalisation_1 = nn.BatchNorm2d(batch_normalisation_1_attributes['feature_map_dim'])\n",
    "        \n",
    "        # Specify conv2d_1 activation function\n",
    "        self.activation_function_1 = nn.ReLU()\n",
    "                 \n",
    "        # Max Pooling for conv2d_1\n",
    "        # Note: the final dimension of the feature map after the max_pooling_1 would be\n",
    "        # [(input_size - kernel_size + 2*padding/stride + 1]\n",
    "        # 28 - 3 + 2*1/1 + 1 = 28\n",
    "        # After the MaxPooling: Feature Map Size / Max Pooling Kernel = 28/2 = 14\n",
    "        self.max_pooling_1 = nn.MaxPool2d(max_pooling_1_attributes['kernel_size'])\n",
    "        \n",
    "        # Define the second Convolutional layer\n",
    "        self.conv2d_2 = nn.Conv2d(in_channels=conv2d_2_attributes['input_channels'], \n",
    "                                  out_channels=conv2d_2_attributes['output_channels'], \n",
    "                                  kernel_size=conv2d_2_attributes['kernel_size'], \n",
    "                                  stride=conv2d_2_attributes['stride'], \n",
    "                                  padding=conv2d_2_attributes['padding'])\n",
    "        \n",
    "        # Define the Batch Normalisation layer for conv2d_2\n",
    "        self.batch_normalisation_2 = nn.BatchNorm2d(batch_normalisation_2_attributes['feature_map_dim'])\n",
    "        \n",
    "        # Specify conv2d_2 activation function\n",
    "        self.activation_function_2 = nn.ReLU()\n",
    "        \n",
    "        # Max Pooling for conv2d_2\n",
    "        # Output size: 14 - 5 + 2*2/1 + 1 = 14\n",
    "        # After Max Pooling: 14/2 = 7\n",
    "        self.max_pooling_2 = nn.MaxPool2d(max_pooling_2_attributes['kernel_size'])\n",
    "        \n",
    "        # Define first fully-connected layer\n",
    "        # NOTE: The number of neurons is 32x7x7 = 1568\n",
    "        # NOTE2: 600 is the arbitrary chosen output dimension\n",
    "        self.fully_connected_1 = nn.Linear(1568, 600)\n",
    "        \n",
    "        # Specify fully_connected_1 activation function\n",
    "        self.activation_function_fcc_1 = nn.ReLU()\n",
    "        \n",
    "        # Apply dropout \n",
    "        self.dropout = nn.Dropout(0.5)\n",
    "        \n",
    "        # Define second fully-connected layer\n",
    "        # NOTE: the output dimension is 10 because of the number of classes\n",
    "        self.fully_connected_2 = nn.Linear(600, 10)\n",
    "                                  \n",
    "    def forward(self, x):\n",
    "        \"\"\"\n",
    "        Implements the feed forward process of the input x through the CNN\n",
    "        \"\"\"\n",
    "                                  \n",
    "        # Feed forward the input through the CNN layers\n",
    "        output_conv2d_1 = self.conv2d_1(x)\n",
    "        output_conv2d_1 = self.batch_normalisation_1(output_conv2d_1)\n",
    "        output_conv2d_1 = self.activation_function_1(output_conv2d_1)\n",
    "        output_conv2d_1 = self.max_pooling_1(output_conv2d_1)\n",
    "        \n",
    "        output_conv2d_2 = self.conv2d_2(output_conv2d_1)\n",
    "        output_conv2d_2 = self.batch_normalisation_2(output_conv2d_2)\n",
    "        output_conv2d_2 = self.activation_function_2(output_conv2d_2)\n",
    "        output_conv2d_2 = self.max_pooling_2(output_conv2d_2)\n",
    "        \n",
    "        output_fcc_1 = self.fully_connected_1(output_conv2d_2)\n",
    "        output_fcc_1 = self.activation_function_fcc_1(output_fcc_1)\n",
    "        output_fcc_1 = self.dropout(output_fcc_1)\n",
    "        \n",
    "        output = self.fully_connected_2(output_fcc_1)"
   ]
  },
  {
   "cell_type": "code",
   "execution_count": 6,
   "id": "aff0e63c-ba3d-4915-9b05-89230f8d7953",
   "metadata": {},
   "outputs": [],
   "source": [
    "# Hyperparameters\n",
    "conv2d_1_attributes = {\n",
    "    'input_channels': 1,\n",
    "    'output_channels': 8, # Number of filters to apply\n",
    "    'kernel_size': 3,\n",
    "    'stride': 1,\n",
    "    'padding': 1 # (kernel_size - 1)/2\n",
    "}\n",
    "\n",
    "batch_normalisation_1_attributes = {\n",
    "    'feature_map_dim': 8\n",
    "}\n",
    "\n",
    "max_pooling_1_attributes = {\n",
    "    'kernel_size': 2\n",
    "}\n",
    "\n",
    "conv2d_2_attributes = {\n",
    "    'input_channels': 8,\n",
    "    'output_channels': 32, # Number of filters to apply\n",
    "    'kernel_size': 5,\n",
    "    'stride': 1,\n",
    "    'padding': 2 # (kernel_size - 1)/2\n",
    "}\n",
    "\n",
    "batch_normalisation_2_attributes = {\n",
    "    'feature_map_dim': 32\n",
    "}\n",
    "\n",
    "max_pooling_2_attributes = {\n",
    "    'kernel_size': 2\n",
    "}"
   ]
  },
  {
   "cell_type": "code",
   "execution_count": null,
   "id": "217e9e25-c7b6-49eb-8308-098144d4a9f4",
   "metadata": {},
   "outputs": [],
   "source": []
  }
 ],
 "metadata": {
  "kernelspec": {
   "display_name": "Python 3 (ipykernel)",
   "language": "python",
   "name": "python3"
  },
  "language_info": {
   "codemirror_mode": {
    "name": "ipython",
    "version": 3
   },
   "file_extension": ".py",
   "mimetype": "text/x-python",
   "name": "python",
   "nbconvert_exporter": "python",
   "pygments_lexer": "ipython3",
   "version": "3.10.5"
  }
 },
 "nbformat": 4,
 "nbformat_minor": 5
}
