{
 "cells": [
  {
   "cell_type": "markdown",
   "id": "5cc98d12-7c09-42fb-839d-f96e3362f105",
   "metadata": {},
   "source": [
    "# Introduction\n",
    "\n",
    "The notebook is intended to experiment with TorchServe."
   ]
  }
 ],
 "metadata": {
  "kernelspec": {
   "display_name": "Python 3 (ipykernel)",
   "language": "python",
   "name": "python3"
  },
  "language_info": {
   "codemirror_mode": {
    "name": "ipython",
    "version": 3
   },
   "file_extension": ".py",
   "mimetype": "text/x-python",
   "name": "python",
   "nbconvert_exporter": "python",
   "pygments_lexer": "ipython3",
   "version": "3.10.5"
  }
 },
 "nbformat": 4,
 "nbformat_minor": 5
}
