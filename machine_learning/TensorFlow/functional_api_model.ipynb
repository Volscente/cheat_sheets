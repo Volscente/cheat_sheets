{
 "cells": [
  {
   "cell_type": "markdown",
   "id": "2af654d1-f545-4904-9393-c26bde6a5de6",
   "metadata": {},
   "source": [
    "# Introduction\n",
    "\n",
    "The notebook is intended to experiment with the TensorFlow Functional API to build a model."
   ]
  },
  {
   "cell_type": "code",
   "execution_count": 1,
   "id": "8735e53c-618b-4a69-a0ef-89ee453a8c8e",
   "metadata": {},
   "outputs": [],
   "source": [
    "# Import Standard Libraries\n",
    "import os\n",
    "import pandas as pd\n",
    "import collections\n",
    "\n",
    "# Suppress warnings\n",
    "os.environ['TF_CPP_MIN_LOG_LEVEL'] = '2'\n",
    "\n",
    "import tensorflow as tf"
   ]
  },
  {
   "cell_type": "code",
   "execution_count": 2,
   "id": "87291c64-227f-4cf4-903f-1bc37f15323b",
   "metadata": {},
   "outputs": [],
   "source": [
    "# Notebook's variables\n",
    "csv_columns  = ['fare_amount',\n",
    "                'pickup_datetime',\n",
    "                'pickup_longitude',\n",
    "                'pickup_latitude',\n",
    "                'dropoff_longitude',\n",
    "                'dropoff_latitude',\n",
    "                'passenger_count',\n",
    "                'key']\n",
    "features = ['pickup_longitude',\n",
    "            'pickup_latitude',\n",
    "            'dropoff_longitude',\n",
    "            'dropoff_latitude',\n",
    "            'passenger_count']\n",
    "remove_columns = ['pickup_datetime', 'key']\n",
    "label_column = 'fare_amount'\n",
    "column_default_values = [[0.0],['na'],[0.0],[0.0],[0.0],[0.0],[0.0],['na']]\n",
    "train_batch_size = 32\n",
    "test_batch_size = 1000\n",
    "test_size = 10000"
   ]
  },
  {
   "cell_type": "markdown",
   "id": "8a8c4a01-83f4-4a7d-9731-aff35f42b863",
   "metadata": {},
   "source": [
    "# Read Data"
   ]
  },
  {
   "cell_type": "code",
   "execution_count": 3,
   "id": "f7f445c7-b840-430c-985c-802b22f9ef50",
   "metadata": {},
   "outputs": [],
   "source": [
    "def map_feautres_and_labels(row_data: collections.OrderedDict):\n",
    "    \"\"\"\n",
    "    Define the feature and label columns for a specific row in a TensorFlow Dataset\n",
    "\n",
    "    Args:\n",
    "        row_data: collections.OrderedDict row of data\n",
    "\n",
    "    Returns:\n",
    "        row_data: collections.OrderedDict row of features data\n",
    "        label: collections.OrderedDict row of label data\n",
    "    \"\"\"\n",
    "    \n",
    "    # Fetch features to remove\n",
    "    for remove_column in remove_columns:\n",
    "\n",
    "        # Remove the feature\n",
    "        row_data.pop(remove_column)\n",
    "\n",
    "    # Remove the label columns\n",
    "    label = row_data.pop(label_column)\n",
    "\n",
    "    \n",
    "    return row_data, label"
   ]
  },
  {
   "cell_type": "code",
   "execution_count": 4,
   "id": "3e4cf2a4-5193-4aa5-b8ef-1d4f70a77e92",
   "metadata": {},
   "outputs": [],
   "source": [
    "def load_dataset(csv_path: str, \n",
    "                 batch_size: int, \n",
    "                 mode=tf.estimator.ModeKeys.EVAL):\n",
    "    \"\"\"\n",
    "    Reads from a .CSV file and return a TensorFlow Dataset\n",
    "\n",
    "    Args:\n",
    "        csv_path: String path to the .CSV file\n",
    "        batch_size: Integer number of samples per batch\n",
    "        mode: tf.estimator.ModeKeys.EVAL | tf.estimator.ModeKeys.TRAIN dataset mode\n",
    "\n",
    "    Returns:\n",
    "        dataset = tf.Data.Dataset data prepared\n",
    "    \"\"\"\n",
    "\n",
    "    # Load dataset\n",
    "    dataset = tf.data.experimental.make_csv_dataset(csv_path, batch_size, csv_columns, column_default_values)\n",
    "\n",
    "    # Create features and columns\n",
    "    dataset = dataset.map(map_feautres_and_labels)\n",
    "\n",
    "    # Shuffle data if in training mode\n",
    "    if mode == tf.estimator.ModeKeys.TRAIN:\n",
    "\n",
    "        dataset = dataset.shuffle(1000).repeat()\n",
    "\n",
    "    # Prefetch\n",
    "    dataset = dataset.prefetch(1)\n",
    "                         \n",
    "                     \n",
    "    return dataset"
   ]
  },
  {
   "cell_type": "code",
   "execution_count": 5,
   "id": "426cef1f-3d4b-4a5b-a0b3-ee7d67ed942c",
   "metadata": {},
   "outputs": [],
   "source": [
    "# Create train and test datasets\n",
    "train_dataset = load_dataset('./../../data/taxi_train.csv', train_batch_size, tf.estimator.ModeKeys.TRAIN)\n",
    "test_dataset = load_dataset('./../../data/taxi_test.csv', test_batch_size, tf.estimator.ModeKeys.EVAL).take(test_size)"
   ]
  },
  {
   "cell_type": "markdown",
   "id": "96ea5a2f-d408-43d2-9a1b-cc8924c6b066",
   "metadata": {},
   "source": [
    "# Modeling"
   ]
  },
  {
   "cell_type": "markdown",
   "id": "f3c012fc-6e86-49be-9b7b-4f1c563997ad",
   "metadata": {},
   "source": [
    "## Neural Network Architecture"
   ]
  },
  {
   "cell_type": "code",
   "execution_count": 6,
   "id": "b9fd01a8-7097-47a4-9d9b-0f831332b89f",
   "metadata": {},
   "outputs": [],
   "source": [
    "# Define input layer for each feature column\n",
    "# NOTE: This is used to ingest data with a certain shape\n",
    "input_layer = {input_column: tf.keras.layers.Input(name=input_column, shape=(), dtype='float32') for input_column in features}"
   ]
  },
  {
   "cell_type": "code",
   "execution_count": 7,
   "id": "88e37f8c-0c86-4216-b7f0-c55f9df06c83",
   "metadata": {},
   "outputs": [
    {
     "name": "stdout",
     "output_type": "stream",
     "text": [
      "WARNING:tensorflow:From /var/folders/2t/wgg9ryl91kxd7b51f7g035jsdh30gy/T/ipykernel_4647/351138072.py:3: numeric_column (from tensorflow.python.feature_column.feature_column_v2) is deprecated and will be removed in a future version.\n",
      "Instructions for updating:\n",
      "Use Keras preprocessing layers instead, either directly or via the `tf.keras.utils.FeatureSpace` utility. Each of `tf.feature_column.*` has a functional equivalent in `tf.keras.layers` for feature preprocessing when training a Keras model.\n"
     ]
    }
   ],
   "source": [
    "# Define the feature layer for each feature column\n",
    "# NOTE: This is used to ensure the correct feature list\n",
    "feature_layer = {feature_name: tf.feature_column.numeric_column(feature_name) for feature_name in features}"
   ]
  },
  {
   "cell_type": "code",
   "execution_count": 8,
   "id": "3d6eff89-3e5e-4a53-bd3b-70e58599c31a",
   "metadata": {},
   "outputs": [],
   "source": [
    "# Define the dense layer features\n",
    "dense_inputs = tf.keras.layers.DenseFeatures(feature_layer.values())(input_layer) "
   ]
  },
  {
   "cell_type": "code",
   "execution_count": 9,
   "id": "b7b9a6e8-e778-406e-ab24-037091b2f53c",
   "metadata": {},
   "outputs": [],
   "source": [
    "# Define hidden layers\n",
    "dense_layer_1 = tf.keras.layers.Dense(32, activation='relu', name='dense_layer_1')(dense_inputs)\n",
    "dense_layer_2 = tf.keras.layers.Dense(8, activation='relu', name='dense_layer_2')(dense_layer_1)"
   ]
  },
  {
   "cell_type": "code",
   "execution_count": 10,
   "id": "f723fb69-89c3-4987-8b60-af1c5fcc03f4",
   "metadata": {},
   "outputs": [],
   "source": [
    "# Define output layer\n",
    "output_layer = tf.keras.layers.Dense(1, activation='linear', name='output_layer')(dense_layer_2)"
   ]
  },
  {
   "cell_type": "code",
   "execution_count": 11,
   "id": "4e8a3851-dc31-46ae-b5d8-60f19087c981",
   "metadata": {},
   "outputs": [],
   "source": [
    "# Create the model\n",
    "model = tf.keras.models.Model(input_layer, output_layer)"
   ]
  },
  {
   "cell_type": "code",
   "execution_count": 12,
   "id": "1a5c8bc9-dc20-4e45-8261-66a5d9312df0",
   "metadata": {},
   "outputs": [],
   "source": [
    "# Compile the model\n",
    "model.compile(optimizer='adam', loss='mse', metrics=['mse'])"
   ]
  },
  {
   "cell_type": "code",
   "execution_count": 13,
   "id": "c4e14c37-3ad4-448f-8708-199fbb8b6f3b",
   "metadata": {},
   "outputs": [
    {
     "name": "stdout",
     "output_type": "stream",
     "text": [
      "Model: \"model\"\n",
      "__________________________________________________________________________________________________\n",
      " Layer (type)                   Output Shape         Param #     Connected to                     \n",
      "==================================================================================================\n",
      " dropoff_latitude (InputLayer)  [(None,)]            0           []                               \n",
      "                                                                                                  \n",
      " dropoff_longitude (InputLayer)  [(None,)]           0           []                               \n",
      "                                                                                                  \n",
      " passenger_count (InputLayer)   [(None,)]            0           []                               \n",
      "                                                                                                  \n",
      " pickup_latitude (InputLayer)   [(None,)]            0           []                               \n",
      "                                                                                                  \n",
      " pickup_longitude (InputLayer)  [(None,)]            0           []                               \n",
      "                                                                                                  \n",
      " dense_features (DenseFeatures)  (None, 5)           0           ['dropoff_latitude[0][0]',       \n",
      "                                                                  'dropoff_longitude[0][0]',      \n",
      "                                                                  'passenger_count[0][0]',        \n",
      "                                                                  'pickup_latitude[0][0]',        \n",
      "                                                                  'pickup_longitude[0][0]']       \n",
      "                                                                                                  \n",
      " dense_layer_1 (Dense)          (None, 32)           192         ['dense_features[0][0]']         \n",
      "                                                                                                  \n",
      " dense_layer_2 (Dense)          (None, 8)            264         ['dense_layer_1[0][0]']          \n",
      "                                                                                                  \n",
      " output_layer (Dense)           (None, 1)            9           ['dense_layer_2[0][0]']          \n",
      "                                                                                                  \n",
      "==================================================================================================\n",
      "Total params: 465\n",
      "Trainable params: 465\n",
      "Non-trainable params: 0\n",
      "__________________________________________________________________________________________________\n"
     ]
    }
   ],
   "source": [
    "model.summary()"
   ]
  },
  {
   "cell_type": "code",
   "execution_count": 18,
   "id": "74a007ec-296c-452d-a88f-a00f89531f15",
   "metadata": {},
   "outputs": [
    {
     "data": {
      "image/png": "[encoded data removed]",
      "text/plain": [
       "<IPython.core.display.Image object>"
      ]
     },
     "execution_count": 18,
     "metadata": {},
     "output_type": "execute_result"
    }
   ],
   "source": [
    "# Plot the Neural Network Architecture\n",
    "tf.keras.utils.plot_model(model, 'dnn_model.png', show_shapes=False, rankdir='LR')"
   ]
  },
  {
   "cell_type": "markdown",
   "id": "8bd624e5-3879-4ef2-84c1-9f2973096799",
   "metadata": {},
   "source": [
    "## Training"
   ]
  },
  {
   "cell_type": "code",
   "execution_count": null,
   "id": "22c85aee-31d0-4ea3-8e81-9737c903c954",
   "metadata": {},
   "outputs": [
    {
     "name": "stdout",
     "output_type": "stream",
     "text": [
      "Epoch 1/32\n",
      "WARNING:tensorflow:AutoGraph could not transform <function Model.make_train_function.<locals>.train_function at 0x133c452d0> and will run it as-is.\n",
      "Cause: Unable to locate the source code of <function Model.make_train_function.<locals>.train_function at 0x133c452d0>. Note that functions defined in certain environments, like the interactive Python shell, do not expose their source code. If that is the case, you should define them in a .py source file. If you are certain the code is graph-compatible, wrap the call using @tf.autograph.experimental.do_not_convert. Original error: could not get source code\n",
      "To silence this warning, decorate the function with @tf.autograph.experimental.do_not_convert\n",
      "WARNING: AutoGraph could not transform <function Model.make_train_function.<locals>.train_function at 0x133c452d0> and will run it as-is.\n",
      "Cause: Unable to locate the source code of <function Model.make_train_function.<locals>.train_function at 0x133c452d0>. Note that functions defined in certain environments, like the interactive Python shell, do not expose their source code. If that is the case, you should define them in a .py source file. If you are certain the code is graph-compatible, wrap the call using @tf.autograph.experimental.do_not_convert. Original error: could not get source code\n",
      "To silence this warning, decorate the function with @tf.autograph.experimental.do_not_convert\n",
      "35/50 [====================>.........] - ETA: 0s - loss: 362.3475 - mse: 362.3475 WARNING:tensorflow:AutoGraph could not transform <function Model.make_test_function.<locals>.test_function at 0x133c01ea0> and will run it as-is.\n",
      "Cause: Unable to locate the source code of <function Model.make_test_function.<locals>.test_function at 0x133c01ea0>. Note that functions defined in certain environments, like the interactive Python shell, do not expose their source code. If that is the case, you should define them in a .py source file. If you are certain the code is graph-compatible, wrap the call using @tf.autograph.experimental.do_not_convert. Original error: could not get source code\n",
      "To silence this warning, decorate the function with @tf.autograph.experimental.do_not_convert\n",
      "WARNING: AutoGraph could not transform <function Model.make_test_function.<locals>.test_function at 0x133c01ea0> and will run it as-is.\n",
      "Cause: Unable to locate the source code of <function Model.make_test_function.<locals>.test_function at 0x133c01ea0>. Note that functions defined in certain environments, like the interactive Python shell, do not expose their source code. If that is the case, you should define them in a .py source file. If you are certain the code is graph-compatible, wrap the call using @tf.autograph.experimental.do_not_convert. Original error: could not get source code\n",
      "To silence this warning, decorate the function with @tf.autograph.experimental.do_not_convert\n",
      "50/50 [==============================] - 131s 3s/step - loss: 329.6040 - mse: 329.6040 - val_loss: 234.2472 - val_mse: 234.2472\n",
      "Epoch 2/32\n",
      "50/50 [==============================] - 128s 3s/step - loss: 240.0654 - mse: 240.0654 - val_loss: 220.7887 - val_mse: 220.7887\n",
      "Epoch 3/32\n",
      "49/50 [============================>.] - ETA: 0s - loss: 282.5117 - mse: 282.5117"
     ]
    }
   ],
   "source": [
    "# Train the model\n",
    "history = model.fit(train_dataset, \n",
    "                    validation_data=test_dataset,\n",
    "                    epochs=32, \n",
    "                    steps_per_epoch=50)"
   ]
  },
  {
   "cell_type": "code",
   "execution_count": null,
   "id": "741b8c2a-fb3f-41d1-b4aa-9e870fd688e5",
   "metadata": {},
   "outputs": [],
   "source": []
  }
 ],
 "metadata": {
  "kernelspec": {
   "display_name": "Python 3 (ipykernel)",
   "language": "python",
   "name": "python3"
  },
  "language_info": {
   "codemirror_mode": {
    "name": "ipython",
    "version": 3
   },
   "file_extension": ".py",
   "mimetype": "text/x-python",
   "name": "python",
   "nbconvert_exporter": "python",
   "pygments_lexer": "ipython3",
   "version": "3.10.5"
  }
 },
 "nbformat": 4,
 "nbformat_minor": 5
}
