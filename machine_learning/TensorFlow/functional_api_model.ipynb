{
 "cells": [
  {
   "cell_type": "markdown",
   "id": "2af654d1-f545-4904-9393-c26bde6a5de6",
   "metadata": {},
   "source": [
    "# Introduction\n",
    "\n",
    "The notebook is intended to experiment with the TensorFlow Functional API to build a model."
   ]
  },
  {
   "cell_type": "code",
   "execution_count": 6,
   "id": "8735e53c-618b-4a69-a0ef-89ee453a8c8e",
   "metadata": {},
   "outputs": [],
   "source": [
    "# Import Standard Libraries\n",
    "import os\n",
    "import pandas as pd\n",
    "\n",
    "# Suppress warnings\n",
    "os.environ['TF_CPP_MIN_LOG_LEVEL'] = '2'\n",
    "\n",
    "import tensorflow as tf"
   ]
  },
  {
   "cell_type": "code",
   "execution_count": 8,
   "id": "87291c64-227f-4cf4-903f-1bc37f15323b",
   "metadata": {},
   "outputs": [],
   "source": [
    "# Notebook's variables\n",
    "feature_columns  = ['fare_amount',  \n",
    "                    'pickup_datetime',\n",
    "                    'pickup_longitude', \n",
    "                    'pickup_latitude',\n",
    "                    'dropoff_longitude', \n",
    "                    'dropoff_latitude',\n",
    "                    'passenger_count', \n",
    "                    'key']\n",
    "remove_columns = ['pickup_datetime', 'key']\n",
    "label_column = 'fare_amount'\n",
    "column_default_values = [[0.0],['na'],[0.0],[0.0],[0.0],[0.0],[0.0],['na']]"
   ]
  },
  {
   "cell_type": "markdown",
   "id": "8a8c4a01-83f4-4a7d-9731-aff35f42b863",
   "metadata": {},
   "source": [
    "# Read Data"
   ]
  },
  {
   "cell_type": "code",
   "execution_count": 7,
   "id": "f7f445c7-b840-430c-985c-802b22f9ef50",
   "metadata": {},
   "outputs": [],
   "source": [
    "def map_feautres_and_labels(row_data: pd.Series):\n",
    "    \"\"\"\n",
    "    Define the feature and label columns for a specific row in a Pandas Series\n",
    "\n",
    "    Args:\n",
    "        row_data: pd.Series row of data\n",
    "\n",
    "    Returns:\n",
    "        row_data: pd.Series row of features data\n",
    "        label: pd.Series row of label data\n",
    "    \"\"\"\n",
    "\n",
    "    print(type(row_data))\n",
    "    \n",
    "    # Fetch features to remove\n",
    "    for remove_column in remove_columns:\n",
    "\n",
    "        # Remove the feature\n",
    "        row_data.pop(remove_column)\n",
    "\n",
    "    # Remove the label columns\n",
    "    label = row_data.pop(label_column)\n",
    "\n",
    "    \n",
    "    return row_data, label"
   ]
  },
  {
   "cell_type": "code",
   "execution_count": 3,
   "id": "3e4cf2a4-5193-4aa5-b8ef-1d4f70a77e92",
   "metadata": {},
   "outputs": [],
   "source": [
    "def load_dataset(csv_path: str, \n",
    "                 batch_size: int, \n",
    "                 mode=tf.estimator.ModeKeys.EVAL):\n",
    "    \"\"\"\n",
    "    Reads from a .CSV file and return a TensorFlow Dataset\n",
    "\n",
    "    Args:\n",
    "        csv_path: String path to the .CSV file\n",
    "        batch_size: Integer number of samples per batch\n",
    "        mode: tf.estimator.ModeKeys.EVAL | tf.estimator.ModeKeys.TRAIN dataset mode\n",
    "\n",
    "    Returns:\n",
    "        dataset = tf.Data.Dataset data prepared\n",
    "    \"\"\"\n",
    "\n",
    "    # Load dataset\n",
    "    dataset = tf.data.experimental.make_csv_dataset(csv_path, batch_size, feature_columns, column_default_values)\n",
    "\n",
    "    # Create features and columns\n",
    "    dataset = dataset.map(map_feautres_and_labels)\n",
    "\n",
    "    # Shuffle data if in training mode\n",
    "                \n",
    "                         \n",
    "                     \n",
    "    pass"
   ]
  },
  {
   "cell_type": "code",
   "execution_count": null,
   "id": "426cef1f-3d4b-4a5b-a0b3-ee7d67ed942c",
   "metadata": {},
   "outputs": [],
   "source": []
  }
 ],
 "metadata": {
  "kernelspec": {
   "display_name": "Python 3 (ipykernel)",
   "language": "python",
   "name": "python3"
  },
  "language_info": {
   "codemirror_mode": {
    "name": "ipython",
    "version": 3
   },
   "file_extension": ".py",
   "mimetype": "text/x-python",
   "name": "python",
   "nbconvert_exporter": "python",
   "pygments_lexer": "ipython3",
   "version": "3.10.5"
  }
 },
 "nbformat": 4,
 "nbformat_minor": 5
}
