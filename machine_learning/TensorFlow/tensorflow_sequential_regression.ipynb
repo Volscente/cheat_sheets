{
 "cells": [
  {
   "cell_type": "markdown",
   "id": "2e60d244-06a2-4ecc-ad3d-922ba7d0c4ec",
   "metadata": {},
   "source": [
    "# TensorFlow Sequential Regression\n",
    "\n",
    "The notebook is intended to show how to use TensorFlow Sequential model for a Regression Problem"
   ]
  },
  {
   "cell_type": "code",
   "execution_count": 1,
   "id": "71c394d1-53fc-42b4-a415-daadc9a5d9b1",
   "metadata": {},
   "outputs": [
    {
     "name": "stderr",
     "output_type": "stream",
     "text": [
      "2023-06-15 22:07:49.227981: I tensorflow/core/platform/cpu_feature_guard.cc:182] This TensorFlow binary is optimized to use available CPU instructions in performance-critical operations.\n",
      "To enable the following instructions: AVX2 AVX512F AVX512_VNNI FMA, in other operations, rebuild TensorFlow with the appropriate compiler flags.\n"
     ]
    }
   ],
   "source": [
    "# Import Standard Libraries\n",
    "import os\n",
    "import pandas as pd\n",
    "import numpy as np\n",
    "\n",
    "from pathlib import Path\n",
    "\n",
    "import matplotlib.pyplot as plt\n",
    "\n",
    "from sklearn.preprocessing import MinMaxScaler\n",
    "from sklearn.model_selection import train_test_split\n",
    "\n",
    "import tensorflow as tf\n",
    "\n",
    "import seaborn as sns\n",
    "\n",
    "# Suppress warnings\n",
    "os.environ['TF_CPP_MIN_LOG_LEVEL'] = '3'"
   ]
  },
  {
   "cell_type": "code",
   "execution_count": 2,
   "id": "03d51d18-9956-490c-8eda-1f1bbf416edc",
   "metadata": {},
   "outputs": [],
   "source": [
    "# Define Seaborn theme parameters\n",
    "theme_parameters =  {\n",
    "    'axes.spines.right': False,\n",
    "    'axes.spines.top': False,\n",
    "    'grid.alpha':0.3,\n",
    "    'figure.figsize': (16, 6),\n",
    "    'font.family': 'Andale Mono',\n",
    "    'axes.titlesize': 24,\n",
    "    'figure.facecolor': '#E5E8E8',\n",
    "    'axes.facecolor': '#E5E8E8'\n",
    "}\n",
    "\n",
    "# Set the theme\n",
    "sns.set_theme(style='whitegrid',\n",
    "              palette=sns.color_palette('deep'), \n",
    "              rc=theme_parameters)"
   ]
  },
  {
   "cell_type": "markdown",
   "id": "f5a9bbda-8606-4562-888f-afb59e7b5a81",
   "metadata": {},
   "source": [
    "# Read Data"
   ]
  },
  {
   "cell_type": "code",
   "execution_count": 3,
   "id": "a3b43c57-3c40-402f-b7d5-e1d12a0bd54f",
   "metadata": {},
   "outputs": [],
   "source": [
    "# Define local data file paths\n",
    "california_housing_train_file_path = Path(os.path.abspath('')).parents[1] / 'data' / 'california_housing_train.csv'\n",
    "\n",
    "# Read data with Pandas DataFrame\n",
    "california_housing_train = pd.read_csv(california_housing_train_file_path, index_col=0)"
   ]
  },
  {
   "cell_type": "code",
   "execution_count": 4,
   "id": "38c03306-dea7-4447-b979-42ff50930982",
   "metadata": {},
   "outputs": [
    {
     "data": {
      "text/html": [
       "<div>\n",
       "<style scoped>\n",
       "    .dataframe tbody tr th:only-of-type {\n",
       "        vertical-align: middle;\n",
       "    }\n",
       "\n",
       "    .dataframe tbody tr th {\n",
       "        vertical-align: top;\n",
       "    }\n",
       "\n",
       "    .dataframe thead th {\n",
       "        text-align: right;\n",
       "    }\n",
       "</style>\n",
       "<table border=\"1\" class=\"dataframe\">\n",
       "  <thead>\n",
       "    <tr style=\"text-align: right;\">\n",
       "      <th></th>\n",
       "      <th>MedInc</th>\n",
       "      <th>HouseAge</th>\n",
       "      <th>AveRooms</th>\n",
       "      <th>AveBedrms</th>\n",
       "      <th>Population</th>\n",
       "      <th>AveOccup</th>\n",
       "      <th>Latitude</th>\n",
       "      <th>Longitude</th>\n",
       "      <th>MedHouseVal</th>\n",
       "    </tr>\n",
       "    <tr>\n",
       "      <th>id</th>\n",
       "      <th></th>\n",
       "      <th></th>\n",
       "      <th></th>\n",
       "      <th></th>\n",
       "      <th></th>\n",
       "      <th></th>\n",
       "      <th></th>\n",
       "      <th></th>\n",
       "      <th></th>\n",
       "    </tr>\n",
       "  </thead>\n",
       "  <tbody>\n",
       "    <tr>\n",
       "      <th>0</th>\n",
       "      <td>2.3859</td>\n",
       "      <td>15.0</td>\n",
       "      <td>3.827160</td>\n",
       "      <td>1.112100</td>\n",
       "      <td>1280.0</td>\n",
       "      <td>2.486989</td>\n",
       "      <td>34.60</td>\n",
       "      <td>-120.12</td>\n",
       "      <td>0.980</td>\n",
       "    </tr>\n",
       "    <tr>\n",
       "      <th>1</th>\n",
       "      <td>3.7188</td>\n",
       "      <td>17.0</td>\n",
       "      <td>6.013373</td>\n",
       "      <td>1.054217</td>\n",
       "      <td>1504.0</td>\n",
       "      <td>3.813084</td>\n",
       "      <td>38.69</td>\n",
       "      <td>-121.22</td>\n",
       "      <td>0.946</td>\n",
       "    </tr>\n",
       "    <tr>\n",
       "      <th>2</th>\n",
       "      <td>4.7750</td>\n",
       "      <td>27.0</td>\n",
       "      <td>6.535604</td>\n",
       "      <td>1.103175</td>\n",
       "      <td>1061.0</td>\n",
       "      <td>2.464602</td>\n",
       "      <td>34.71</td>\n",
       "      <td>-120.45</td>\n",
       "      <td>1.576</td>\n",
       "    </tr>\n",
       "    <tr>\n",
       "      <th>3</th>\n",
       "      <td>2.4138</td>\n",
       "      <td>16.0</td>\n",
       "      <td>3.350203</td>\n",
       "      <td>0.965432</td>\n",
       "      <td>1255.0</td>\n",
       "      <td>2.089286</td>\n",
       "      <td>32.66</td>\n",
       "      <td>-117.09</td>\n",
       "      <td>1.336</td>\n",
       "    </tr>\n",
       "    <tr>\n",
       "      <th>4</th>\n",
       "      <td>3.7500</td>\n",
       "      <td>52.0</td>\n",
       "      <td>4.284404</td>\n",
       "      <td>1.069246</td>\n",
       "      <td>1793.0</td>\n",
       "      <td>1.604790</td>\n",
       "      <td>37.80</td>\n",
       "      <td>-122.41</td>\n",
       "      <td>4.500</td>\n",
       "    </tr>\n",
       "  </tbody>\n",
       "</table>\n",
       "</div>"
      ],
      "text/plain": [
       "    MedInc  HouseAge  AveRooms  AveBedrms  Population  AveOccup  Latitude  \\\n",
       "id                                                                          \n",
       "0   2.3859      15.0  3.827160   1.112100      1280.0  2.486989     34.60   \n",
       "1   3.7188      17.0  6.013373   1.054217      1504.0  3.813084     38.69   \n",
       "2   4.7750      27.0  6.535604   1.103175      1061.0  2.464602     34.71   \n",
       "3   2.4138      16.0  3.350203   0.965432      1255.0  2.089286     32.66   \n",
       "4   3.7500      52.0  4.284404   1.069246      1793.0  1.604790     37.80   \n",
       "\n",
       "    Longitude  MedHouseVal  \n",
       "id                          \n",
       "0     -120.12        0.980  \n",
       "1     -121.22        0.946  \n",
       "2     -120.45        1.576  \n",
       "3     -117.09        1.336  \n",
       "4     -122.41        4.500  "
      ]
     },
     "execution_count": 4,
     "metadata": {},
     "output_type": "execute_result"
    }
   ],
   "source": [
    "california_housing_train.head()"
   ]
  },
  {
   "cell_type": "markdown",
   "id": "3994d0fa-d4ac-4e8f-bd43-93675e169977",
   "metadata": {},
   "source": [
    "# Data Preprocessing"
   ]
  },
  {
   "cell_type": "markdown",
   "id": "e47281ab-a65e-43ee-b5ea-7946737bab1c",
   "metadata": {},
   "source": [
    "## Feature Scaling"
   ]
  },
  {
   "cell_type": "code",
   "execution_count": 5,
   "id": "2066daa7-260b-4773-9038-9a68db5ab49d",
   "metadata": {},
   "outputs": [],
   "source": [
    "# Instance MinMaxScaler\n",
    "min_max_scaler = MinMaxScaler()\n",
    "\n",
    "# Scale Data\n",
    "california_housing_train_scaled = min_max_scaler.fit_transform(california_housing_train)\n",
    "\n",
    "# Create back the DataFrame\n",
    "california_housing_train_scaled = pd.DataFrame(california_housing_train_scaled, columns=california_housing_train.columns)"
   ]
  },
  {
   "cell_type": "markdown",
   "id": "4b42ed17-d418-45fa-8df3-d9b4cb135991",
   "metadata": {},
   "source": [
    "## Train & Test Split"
   ]
  },
  {
   "cell_type": "code",
   "execution_count": 6,
   "id": "9e92ea1b-dd10-4db8-9765-9c03798db5ef",
   "metadata": {},
   "outputs": [],
   "source": [
    "# Define X and y\n",
    "X = california_housing_train_scaled.iloc[:, :-1]\n",
    "y = california_housing_train_scaled.iloc[:, -1]"
   ]
  },
  {
   "cell_type": "code",
   "execution_count": 7,
   "id": "d1be15dd-43cb-4cea-b53e-b47f82d098f2",
   "metadata": {},
   "outputs": [],
   "source": [
    "# Split between train and test\n",
    "X_train, X_test, y_train, y_test = train_test_split(X, y, test_size=0.33, random_state=42)"
   ]
  },
  {
   "cell_type": "markdown",
   "id": "093ae1af-1523-48c4-93e1-cc0c32bc5eee",
   "metadata": {},
   "source": [
    "# Model Training"
   ]
  },
  {
   "cell_type": "code",
   "execution_count": 8,
   "id": "60c65d50-65d0-4b36-9584-130121357030",
   "metadata": {},
   "outputs": [],
   "source": [
    "# Define the model\n",
    "model = tf.keras.models.Sequential([\n",
    "    tf.keras.layers.Dense(8, activation='relu'),\n",
    "    tf.keras.layers.Dense(4, activation='relu'),\n",
    "    tf.keras.layers.Dense(4)\n",
    "])"
   ]
  },
  {
   "cell_type": "code",
   "execution_count": 9,
   "id": "fd028351-71f3-4ff1-a77f-28d4c1a5bffa",
   "metadata": {},
   "outputs": [],
   "source": [
    "# Compile the model\n",
    "model.compile(optimizer='rmsprop', loss='mse')"
   ]
  },
  {
   "cell_type": "code",
   "execution_count": null,
   "id": "2c711f74-9f9f-4b02-8713-78701b2ef22f",
   "metadata": {},
   "outputs": [
    {
     "name": "stdout",
     "output_type": "stream",
     "text": [
      "Epoch 1/10\n",
      "778/778 [==============================] - 1s 1ms/step - loss: 0.0614\n",
      "Epoch 2/10\n",
      "778/778 [==============================] - 1s 1ms/step - loss: 0.0251\n",
      "Epoch 3/10\n",
      "778/778 [==============================] - 1s 1ms/step - loss: 0.0235\n",
      "Epoch 4/10\n",
      "778/778 [==============================] - 1s 1ms/step - loss: 0.0224\n",
      "Epoch 5/10\n",
      "778/778 [==============================] - 1s 1ms/step - loss: 0.0215\n",
      "Epoch 6/10\n",
      "778/778 [==============================] - 1s 1ms/step - loss: 0.0209\n",
      "Epoch 7/10\n",
      "778/778 [==============================] - 1s 1ms/step - loss: 0.0205\n",
      "Epoch 8/10\n",
      "778/778 [==============================] - 1s 1ms/step - loss: 0.0202\n",
      "Epoch 9/10\n",
      "778/778 [==============================] - 1s 1ms/step - loss: 0.0200\n",
      "Epoch 10/10\n",
      " 47/778 [>.............................] - ETA: 0s - loss: 0.0201"
     ]
    }
   ],
   "source": [
    "# Train the model\n",
    "model.fit(X_train, \n",
    "          y_train, \n",
    "          epochs=10)"
   ]
  },
  {
   "cell_type": "code",
   "execution_count": null,
   "id": "7dea8139-5d27-4083-bf27-19260d708935",
   "metadata": {},
   "outputs": [],
   "source": []
  }
 ],
 "metadata": {
  "kernelspec": {
   "display_name": "Python 3 (ipykernel)",
   "language": "python",
   "name": "python3"
  },
  "language_info": {
   "codemirror_mode": {
    "name": "ipython",
    "version": 3
   },
   "file_extension": ".py",
   "mimetype": "text/x-python",
   "name": "python",
   "nbconvert_exporter": "python",
   "pygments_lexer": "ipython3",
   "version": "3.10.5"
  }
 },
 "nbformat": 4,
 "nbformat_minor": 5
}
