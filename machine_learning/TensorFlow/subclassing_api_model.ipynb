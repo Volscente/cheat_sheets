{
 "cells": [
  {
   "cell_type": "markdown",
   "id": "4307a243-8d79-4bd9-aa60-4612097fc71e",
   "metadata": {},
   "source": [
    "# Introduction\n",
    "\n",
    "The notebook is intended to experiment with the Subclassing API of TensorFlow to define custom Neural Network"
   ]
  },
  {
   "cell_type": "code",
   "execution_count": 2,
   "id": "dab7906f-188a-42b4-97f5-b463f0cfdd85",
   "metadata": {},
   "outputs": [],
   "source": [
    "# Import Standard Libraries\n",
    "import os\n",
    "\n",
    "# Suppress warnings\n",
    "os.environ['TF_CPP_MIN_LOG_LEVEL'] = '2'\n",
    "\n",
    "import tensorflow as tf\n",
    "from tensorflow import keras"
   ]
  },
  {
   "cell_type": "markdown",
   "id": "312864af-a7fa-41a8-8c46-8948de2a3448",
   "metadata": {},
   "source": [
    "# Linear Layer"
   ]
  },
  {
   "cell_type": "code",
   "execution_count": 16,
   "id": "1d9dd48b-1701-4768-995a-541f374c5445",
   "metadata": {},
   "outputs": [],
   "source": [
    "class Linear(keras.layers.Layer):\n",
    "    \"\"\"\n",
    "    Define a custom Linear Layer in Keras\n",
    "\n",
    "    Attributes:\n",
    "        weights_params: tf.Variables set of weights for each neuron\n",
    "        bias: tf.Variables set of biases for each neuron\n",
    "    \"\"\"\n",
    "    \n",
    "    def __init__(self, \n",
    "                 units=32):\n",
    "\n",
    "        # Call the parent constructor             \n",
    "        super(Linear, self).__init__()\n",
    "        self.units = units\n",
    "\n",
    "    def build(self, input_shape):\n",
    "\n",
    "        # Initilialize the weights\n",
    "        self.weights_params = self.add_weight(\n",
    "            shape=(input_shape[-1], self.units),\n",
    "            initializer=tf.random_normal_initializer(),\n",
    "            trainable=True,\n",
    "        )\n",
    "\n",
    "        # Initilialize the bias             \n",
    "        self.bias = self.add_weight(\n",
    "            shape=(self.units,),\n",
    "            initializer=tf.zeros_initializer(),\n",
    "            trainable=True\n",
    "        )\n",
    "\n",
    "    def call(self, inputs):\n",
    "        \n",
    "        return tf.matmul(inputs, self.weights_params) + self.bias"
   ]
  },
  {
   "cell_type": "code",
   "execution_count": 18,
   "id": "2da9b71f-bb22-4113-9e3b-39048da0a3c3",
   "metadata": {},
   "outputs": [
    {
     "name": "stdout",
     "output_type": "stream",
     "text": [
      "tf.Tensor(\n",
      "[[-0.01872915 -0.06430404 -0.0005488  -0.01024083]\n",
      " [-0.01872915 -0.06430404 -0.0005488  -0.01024083]], shape=(2, 4), dtype=float32)\n"
     ]
    }
   ],
   "source": [
    "# Test\n",
    "x = tf.ones((2, 2))\n",
    "linear_layer = Linear(4)\n",
    "y = linear_layer(x)\n",
    "print(y)"
   ]
  },
  {
   "cell_type": "code",
   "execution_count": 10,
   "id": "e6e9b0d4-033b-4a57-89f2-b9692f5ea03d",
   "metadata": {},
   "outputs": [
    {
     "name": "stdout",
     "output_type": "stream",
     "text": [
      "True\n"
     ]
    }
   ],
   "source": [
    "# NOTE: The layer has already a \"weights\" attribute\n",
    "print(linear_layer.weights == [linear_layer.weights_params, linear_layer.bias])"
   ]
  },
  {
   "cell_type": "markdown",
   "id": "71742a65-ca7f-4b56-9018-0361de4911a8",
   "metadata": {},
   "source": [
    "# Multi-layer Perceptron Block\n",
    "\n",
    "It creates a block layer that combines three custom Linear layers. It tracks the weights of the inner layers."
   ]
  },
  {
   "cell_type": "code",
   "execution_count": 19,
   "id": "14e1c012-6a32-4723-a7c7-ed334315180a",
   "metadata": {},
   "outputs": [],
   "source": [
    "class MLPBlock(keras.layers.Layer):\n",
    "    \n",
    "    def __init__(self):\n",
    "\n",
    "         # Call the parent constructor\n",
    "        super(MLPBlock, self).__init__()\n",
    "\n",
    "        # Define hidden layers\n",
    "        self.linear_1 = Linear(32)\n",
    "        self.linear_2 = Linear(32)\n",
    "        self.linear_3 = Linear(1)\n",
    "\n",
    "    def call(self, inputs):\n",
    "\n",
    "        # Pass input to the first hidden layer\n",
    "        x = self.linear_1(inputs)\n",
    "\n",
    "        # Trigger the first hidden layer activation function\n",
    "        x = tf.nn.relu(x)\n",
    "\n",
    "        # Pass input to the second hidden layer\n",
    "        x = self.linear_2(x)\n",
    "\n",
    "        # Trigger the second hidden layer activation function\n",
    "        x = tf.nn.relu(x)\n",
    "        \n",
    "        return self.linear_3(x)"
   ]
  },
  {
   "cell_type": "code",
   "execution_count": 22,
   "id": "e8f7bcbc-d3c9-4b7c-a82a-ae8ac2d583b1",
   "metadata": {},
   "outputs": [
    {
     "name": "stdout",
     "output_type": "stream",
     "text": [
      "weights: 6\n",
      "trainable weights: 6\n"
     ]
    }
   ],
   "source": [
    "# Test\n",
    "mlp = MLPBlock()\n",
    "\n",
    "y = mlp(tf.ones(shape=(3, 64)))  # The first call to the `mlp` will create the weights\n",
    "\n",
    "print(\"weights:\", len(mlp.weights)) # 3 vector of weights_params and 3 vector of bias\n",
    "print(\"trainable weights:\", len(mlp.trainable_weights))"
   ]
  },
  {
   "cell_type": "code",
   "execution_count": null,
   "id": "7116be1b-d17f-41cd-b57b-d4972e4415be",
   "metadata": {},
   "outputs": [],
   "source": []
  }
 ],
 "metadata": {
  "kernelspec": {
   "display_name": "Python 3 (ipykernel)",
   "language": "python",
   "name": "python3"
  },
  "language_info": {
   "codemirror_mode": {
    "name": "ipython",
    "version": 3
   },
   "file_extension": ".py",
   "mimetype": "text/x-python",
   "name": "python",
   "nbconvert_exporter": "python",
   "pygments_lexer": "ipython3",
   "version": "3.10.5"
  }
 },
 "nbformat": 4,
 "nbformat_minor": 5
}
