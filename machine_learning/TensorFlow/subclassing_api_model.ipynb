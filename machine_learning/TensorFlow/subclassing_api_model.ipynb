{
 "cells": [
  {
   "cell_type": "markdown",
   "id": "4307a243-8d79-4bd9-aa60-4612097fc71e",
   "metadata": {},
   "source": [
    "# Introduction\n",
    "\n",
    "The notebook is intended to experiment with the Subclassing API of TensorFlow to define custom Neural Network"
   ]
  },
  {
   "cell_type": "code",
   "execution_count": 2,
   "id": "dab7906f-188a-42b4-97f5-b463f0cfdd85",
   "metadata": {},
   "outputs": [],
   "source": [
    "# Import Standard Libraries\n",
    "import os\n",
    "\n",
    "# Suppress warnings\n",
    "os.environ['TF_CPP_MIN_LOG_LEVEL'] = '2'\n",
    "\n",
    "import tensorflow as tf\n",
    "from tensorflow import keras"
   ]
  },
  {
   "cell_type": "markdown",
   "id": "312864af-a7fa-41a8-8c46-8948de2a3448",
   "metadata": {},
   "source": [
    "# Linear Layer"
   ]
  },
  {
   "cell_type": "code",
   "execution_count": 3,
   "id": "1d9dd48b-1701-4768-995a-541f374c5445",
   "metadata": {},
   "outputs": [],
   "source": [
    "class Linear(keras.layers.Layer):\n",
    "    \"\"\"\n",
    "    Define a custom Linear Layer in Keras\n",
    "\n",
    "    Attributes:\n",
    "        weights: tf.Variables set of weights for each neuron\n",
    "        bias: tf.Variables set of biases for each neuron\n",
    "    \"\"\"\n",
    "    \n",
    "    def __init__(self, \n",
    "                 units=32, \n",
    "                 input_dimension=32):\n",
    "\n",
    "        # Call the parent constructor             \n",
    "        super(Linear, self).__init__()\n",
    "\n",
    "        # Define the weights initialization function                   \n",
    "        weights_initialization = tf.random_normal_initializer()\n",
    "\n",
    "        # Initilialize the weights\n",
    "        self.weights = tf.Variable(\n",
    "            initial_value=weights_initialization(shape=(input_dimension, units), dtype=\"float32\"),\n",
    "            trainable=True,\n",
    "        )\n",
    "\n",
    "        # Define the bias initialization function                     \n",
    "        bias_initialization = tf.zeros_initializer()\n",
    "\n",
    "        # Initilialize the bias             \n",
    "        self.bias = tf.Variable(\n",
    "            initial_value=bias_initialization(shape=(units,), dtype=\"float32\"), \n",
    "            trainable=True\n",
    "        )\n",
    "\n",
    "    def call(self, inputs):\n",
    "        \n",
    "        return tf.matmul(inputs, self.weights) + self.bias"
   ]
  },
  {
   "cell_type": "code",
   "execution_count": 4,
   "id": "2da9b71f-bb22-4113-9e3b-39048da0a3c3",
   "metadata": {},
   "outputs": [
    {
     "ename": "AttributeError",
     "evalue": "Can't set the attribute \"weights\", likely because it conflicts with an existing read-only @property of the object. Please choose a different name.",
     "output_type": "error",
     "traceback": [
      "\u001b[0;31m---------------------------------------------------------------------------\u001b[0m",
      "\u001b[0;31mAttributeError\u001b[0m                            Traceback (most recent call last)",
      "File \u001b[0;32m~/.local/share/virtualenvs/cheat_sheets-EiW5VkhA/lib/python3.10/site-packages/keras/src/engine/base_layer.py:3161\u001b[0m, in \u001b[0;36mLayer.__setattr__\u001b[0;34m(self, name, value)\u001b[0m\n\u001b[1;32m   3160\u001b[0m \u001b[38;5;28;01mtry\u001b[39;00m:\n\u001b[0;32m-> 3161\u001b[0m     \u001b[38;5;28;43msuper\u001b[39;49m\u001b[43m(\u001b[49m\u001b[43mtf\u001b[49m\u001b[38;5;241;43m.\u001b[39;49m\u001b[43m__internal__\u001b[49m\u001b[38;5;241;43m.\u001b[39;49m\u001b[43mtracking\u001b[49m\u001b[38;5;241;43m.\u001b[39;49m\u001b[43mAutoTrackable\u001b[49m\u001b[43m,\u001b[49m\u001b[43m \u001b[49m\u001b[38;5;28;43mself\u001b[39;49m\u001b[43m)\u001b[49m\u001b[38;5;241;43m.\u001b[39;49m\u001b[38;5;21;43m__setattr__\u001b[39;49m\u001b[43m(\u001b[49m\n\u001b[1;32m   3162\u001b[0m \u001b[43m        \u001b[49m\u001b[43mname\u001b[49m\u001b[43m,\u001b[49m\u001b[43m \u001b[49m\u001b[43mvalue\u001b[49m\n\u001b[1;32m   3163\u001b[0m \u001b[43m    \u001b[49m\u001b[43m)\u001b[49m\n\u001b[1;32m   3164\u001b[0m \u001b[38;5;28;01mexcept\u001b[39;00m \u001b[38;5;167;01mAttributeError\u001b[39;00m:\n",
      "\u001b[0;31mAttributeError\u001b[0m: can't set attribute 'weights'",
      "\nDuring handling of the above exception, another exception occurred:\n",
      "\u001b[0;31mAttributeError\u001b[0m                            Traceback (most recent call last)",
      "Cell \u001b[0;32mIn[4], line 3\u001b[0m\n\u001b[1;32m      1\u001b[0m \u001b[38;5;66;03m# Test it\u001b[39;00m\n\u001b[1;32m      2\u001b[0m x \u001b[38;5;241m=\u001b[39m tf\u001b[38;5;241m.\u001b[39mones((\u001b[38;5;241m2\u001b[39m, \u001b[38;5;241m2\u001b[39m))\n\u001b[0;32m----> 3\u001b[0m linear_layer \u001b[38;5;241m=\u001b[39m \u001b[43mLinear\u001b[49m\u001b[43m(\u001b[49m\u001b[38;5;241;43m4\u001b[39;49m\u001b[43m,\u001b[49m\u001b[43m \u001b[49m\u001b[38;5;241;43m2\u001b[39;49m\u001b[43m)\u001b[49m\n\u001b[1;32m      4\u001b[0m y \u001b[38;5;241m=\u001b[39m linear_layer(x)\n\u001b[1;32m      5\u001b[0m \u001b[38;5;28mprint\u001b[39m(y)\n",
      "Cell \u001b[0;32mIn[3], line 21\u001b[0m, in \u001b[0;36mLinear.__init__\u001b[0;34m(self, units, input_dimension)\u001b[0m\n\u001b[1;32m     18\u001b[0m weights_initialization \u001b[38;5;241m=\u001b[39m tf\u001b[38;5;241m.\u001b[39mrandom_normal_initializer()\n\u001b[1;32m     20\u001b[0m \u001b[38;5;66;03m# Initilialize the weights\u001b[39;00m\n\u001b[0;32m---> 21\u001b[0m \u001b[38;5;28;43mself\u001b[39;49m\u001b[38;5;241;43m.\u001b[39;49m\u001b[43mweights\u001b[49m \u001b[38;5;241m=\u001b[39m tf\u001b[38;5;241m.\u001b[39mVariable(\n\u001b[1;32m     22\u001b[0m     initial_value\u001b[38;5;241m=\u001b[39mweights_initialization(shape\u001b[38;5;241m=\u001b[39m(input_dimension, units), dtype\u001b[38;5;241m=\u001b[39m\u001b[38;5;124m\"\u001b[39m\u001b[38;5;124mfloat32\u001b[39m\u001b[38;5;124m\"\u001b[39m),\n\u001b[1;32m     23\u001b[0m     trainable\u001b[38;5;241m=\u001b[39m\u001b[38;5;28;01mTrue\u001b[39;00m,\n\u001b[1;32m     24\u001b[0m )\n\u001b[1;32m     26\u001b[0m \u001b[38;5;66;03m# Define the bias initialization function                     \u001b[39;00m\n\u001b[1;32m     27\u001b[0m bias_initialization \u001b[38;5;241m=\u001b[39m tf\u001b[38;5;241m.\u001b[39mzeros_initializer()\n",
      "File \u001b[0;32m~/.local/share/virtualenvs/cheat_sheets-EiW5VkhA/lib/python3.10/site-packages/keras/src/engine/base_layer.py:3165\u001b[0m, in \u001b[0;36mLayer.__setattr__\u001b[0;34m(self, name, value)\u001b[0m\n\u001b[1;32m   3161\u001b[0m         \u001b[38;5;28msuper\u001b[39m(tf\u001b[38;5;241m.\u001b[39m__internal__\u001b[38;5;241m.\u001b[39mtracking\u001b[38;5;241m.\u001b[39mAutoTrackable, \u001b[38;5;28mself\u001b[39m)\u001b[38;5;241m.\u001b[39m\u001b[38;5;21m__setattr__\u001b[39m(\n\u001b[1;32m   3162\u001b[0m             name, value\n\u001b[1;32m   3163\u001b[0m         )\n\u001b[1;32m   3164\u001b[0m     \u001b[38;5;28;01mexcept\u001b[39;00m \u001b[38;5;167;01mAttributeError\u001b[39;00m:\n\u001b[0;32m-> 3165\u001b[0m         \u001b[38;5;28;01mraise\u001b[39;00m \u001b[38;5;167;01mAttributeError\u001b[39;00m(\n\u001b[1;32m   3166\u001b[0m             (\n\u001b[1;32m   3167\u001b[0m                 \u001b[38;5;124m'\u001b[39m\u001b[38;5;124mCan\u001b[39m\u001b[38;5;130;01m\\'\u001b[39;00m\u001b[38;5;124mt set the attribute \u001b[39m\u001b[38;5;124m\"\u001b[39m\u001b[38;5;132;01m{}\u001b[39;00m\u001b[38;5;124m\"\u001b[39m\u001b[38;5;124m, likely because it \u001b[39m\u001b[38;5;124m'\u001b[39m\n\u001b[1;32m   3168\u001b[0m                 \u001b[38;5;124m\"\u001b[39m\u001b[38;5;124mconflicts with an existing read-only @property of the \u001b[39m\u001b[38;5;124m\"\u001b[39m\n\u001b[1;32m   3169\u001b[0m                 \u001b[38;5;124m\"\u001b[39m\u001b[38;5;124mobject. Please choose a different name.\u001b[39m\u001b[38;5;124m\"\u001b[39m\n\u001b[1;32m   3170\u001b[0m             )\u001b[38;5;241m.\u001b[39mformat(name)\n\u001b[1;32m   3171\u001b[0m         )\n\u001b[1;32m   3172\u001b[0m     \u001b[38;5;28;01mreturn\u001b[39;00m\n\u001b[1;32m   3174\u001b[0m \u001b[38;5;66;03m# Wraps data structures in `Trackable`, unwraps `NoDependency` objects.\u001b[39;00m\n",
      "\u001b[0;31mAttributeError\u001b[0m: Can't set the attribute \"weights\", likely because it conflicts with an existing read-only @property of the object. Please choose a different name."
     ]
    }
   ],
   "source": [
    "# Test it\n",
    "x = tf.ones((2, 2))\n",
    "linear_layer = Linear(4, 2)\n",
    "y = linear_layer(x)\n",
    "print(y)"
   ]
  },
  {
   "cell_type": "code",
   "execution_count": null,
   "id": "e6e9b0d4-033b-4a57-89f2-b9692f5ea03d",
   "metadata": {},
   "outputs": [],
   "source": []
  }
 ],
 "metadata": {
  "kernelspec": {
   "display_name": "Python 3 (ipykernel)",
   "language": "python",
   "name": "python3"
  },
  "language_info": {
   "codemirror_mode": {
    "name": "ipython",
    "version": 3
   },
   "file_extension": ".py",
   "mimetype": "text/x-python",
   "name": "python",
   "nbconvert_exporter": "python",
   "pygments_lexer": "ipython3",
   "version": "3.10.5"
  }
 },
 "nbformat": 4,
 "nbformat_minor": 5
}
