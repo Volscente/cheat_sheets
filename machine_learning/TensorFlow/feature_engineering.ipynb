{
 "cells": [
  {
   "cell_type": "markdown",
   "id": "a653a086-115a-4272-8176-4764f7cd26f3",
   "metadata": {},
   "source": [
    "# Feature Engineering\n",
    "\n",
    "The notebook is intended to demonstrate how to perform feature engineering through Keras API."
   ]
  },
  {
   "cell_type": "code",
   "execution_count": 1,
   "id": "bf4e7715-ab7c-43c4-953b-25ad2dda57aa",
   "metadata": {},
   "outputs": [
    {
     "name": "stderr",
     "output_type": "stream",
     "text": [
      "2023-07-24 18:23:02.611008: I tensorflow/core/platform/cpu_feature_guard.cc:182] This TensorFlow binary is optimized to use available CPU instructions in performance-critical operations.\n",
      "To enable the following instructions: AVX2 FMA, in other operations, rebuild TensorFlow with the appropriate compiler flags.\n"
     ]
    }
   ],
   "source": [
    "# Import Standard Libraries\n",
    "import os\n",
    "import tensorflow.keras\n",
    "\n",
    "import tensorflow as tf\n",
    "\n",
    "from tensorflow import feature_column as fc\n",
    "from tensorflow.keras import layers\n",
    "from sklearn.model_selection import train_test_split"
   ]
  },
  {
   "cell_type": "markdown",
   "id": "e1b073f7-993e-4e2b-bccf-06177e8b3593",
   "metadata": {},
   "source": [
    "# Feature Layer"
   ]
  },
  {
   "cell_type": "code",
   "execution_count": 2,
   "id": "164e1ada-e192-4621-8b7f-16ea87cea37b",
   "metadata": {},
   "outputs": [],
   "source": [
    "def get_scaled_features(feature):\n",
    "    \n",
    "    def min_max_scaling(x):\n",
    "        \n",
    "        min = train[feature].min()\n",
    "        max = train[feature].max()\n",
    "        \n",
    "        return (x - min)/(max-min)\n",
    "        \n",
    "        return(minmax)"
   ]
  },
  {
   "cell_type": "code",
   "execution_count": null,
   "id": "4c687cea-30e5-4ae9-a654-4602582f1f52",
   "metadata": {},
   "outputs": [],
   "source": [
    "feature_columns = []\n",
    "\n",
    "for colum in numeric_columns:\n",
    "    \n",
    "    scal_input_fn = get_scaled_features(colum)\n",
    "    \n",
    "    feature_columns.append(fc.numeric_column(colum,\n",
    "                                             normalizer_fn=scal_input_fn))"
   ]
  }
 ],
 "metadata": {
  "kernelspec": {
   "display_name": "Python 3 (ipykernel)",
   "language": "python",
   "name": "python3"
  },
  "language_info": {
   "codemirror_mode": {
    "name": "ipython",
    "version": 3
   },
   "file_extension": ".py",
   "mimetype": "text/x-python",
   "name": "python",
   "nbconvert_exporter": "python",
   "pygments_lexer": "ipython3",
   "version": "3.10.5"
  }
 },
 "nbformat": 4,
 "nbformat_minor": 5
}
