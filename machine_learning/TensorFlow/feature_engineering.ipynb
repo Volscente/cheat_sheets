{
 "cells": [
  {
   "cell_type": "markdown",
   "id": "a653a086-115a-4272-8176-4764f7cd26f3",
   "metadata": {},
   "source": [
    "# Feature Engineering\n",
    "\n",
    "The notebook is intended to demonstrate how to perform feature engineering through Keras API."
   ]
  },
  {
   "cell_type": "code",
   "execution_count": 1,
   "id": "bf4e7715-ab7c-43c4-953b-25ad2dda57aa",
   "metadata": {},
   "outputs": [
    {
     "name": "stderr",
     "output_type": "stream",
     "text": [
      "2023-07-24 18:23:02.611008: I tensorflow/core/platform/cpu_feature_guard.cc:182] This TensorFlow binary is optimized to use available CPU instructions in performance-critical operations.\n",
      "To enable the following instructions: AVX2 FMA, in other operations, rebuild TensorFlow with the appropriate compiler flags.\n"
     ]
    }
   ],
   "source": [
    "# Import Standard Libraries\n",
    "import os\n",
    "import tensorflow.keras\n",
    "\n",
    "import tensorflow as tf\n",
    "\n",
    "from tensorflow import feature_column as fc\n",
    "from tensorflow.keras import layers\n",
    "from sklearn.model_selection import train_test_split"
   ]
  },
  {
   "cell_type": "markdown",
   "id": "e1b073f7-993e-4e2b-bccf-06177e8b3593",
   "metadata": {},
   "source": [
    "# Feature Layer"
   ]
  },
  {
   "cell_type": "code",
   "execution_count": 6,
   "id": "fdd9be6d-ccca-4fc7-a0ed-9120a5689c98",
   "metadata": {},
   "outputs": [],
   "source": [
    "numeric_columns = ['longitude', 'latitude', 'housing_median_age', 'total_rooms',\n",
    "                   'total_bedrooms', 'population', 'households', 'median_income']"
   ]
  },
  {
   "cell_type": "code",
   "execution_count": 3,
   "id": "164e1ada-e192-4621-8b7f-16ea87cea37b",
   "metadata": {},
   "outputs": [],
   "source": [
    "def get_scaled_features(feature):\n",
    "    \n",
    "    def min_max_scaling(x):\n",
    "        \n",
    "        min = train[feature].min()\n",
    "        max = train[feature].max()\n",
    "        \n",
    "        return (x - min)/(max-min)\n",
    "        \n",
    "        return(minmax)"
   ]
  },
  {
   "cell_type": "code",
   "execution_count": 7,
   "id": "4c687cea-30e5-4ae9-a654-4602582f1f52",
   "metadata": {},
   "outputs": [
    {
     "name": "stdout",
     "output_type": "stream",
     "text": [
      "WARNING:tensorflow:From /var/folders/2t/wgg9ryl91kxd7b51f7g035jsdh30gy/T/ipykernel_49646/2509887437.py:7: numeric_column (from tensorflow.python.feature_column.feature_column_v2) is deprecated and will be removed in a future version.\n",
      "Instructions for updating:\n",
      "Use Keras preprocessing layers instead, either directly or via the `tf.keras.utils.FeatureSpace` utility. Each of `tf.feature_column.*` has a functional equivalent in `tf.keras.layers` for feature preprocessing when training a Keras model.\n"
     ]
    }
   ],
   "source": [
    "feature_columns = []\n",
    "\n",
    "for column in numeric_columns:\n",
    "    \n",
    "    input_function = get_scaled_features(column)\n",
    "    \n",
    "    feature_columns.append(fc.numeric_column(column,\n",
    "                                             normalizer_fn=input_function))"
   ]
  },
  {
   "cell_type": "code",
   "execution_count": null,
   "id": "696d2966-b84a-47b7-8925-a63386d78b89",
   "metadata": {},
   "outputs": [],
   "source": [
    "# Model create\n",
    "# `tf.keras.layers.DenseFeatures()` is a layer that produces a dense Tensor based on given feature_columns.\n",
    "feature_layer = tf.keras.layers.DenseFeatures(feature_columns, dtype='float64')\n",
    "\n",
    "# `tf.keras.Sequential()` groups a linear stack of layers into a tf.keras.Model.\n",
    "model = tf.keras.Sequential([\n",
    "  feature_layer,\n",
    "  layers.Dense(12, input_dim=8, activation='relu'),\n",
    "  layers.Dense(8, activation='relu'),\n",
    "  layers.Dense(1, activation='linear',  name='median_house_value')\n",
    "])\n",
    "\n",
    "# Model compile\n",
    "model.compile(optimizer='adam',\n",
    "              loss='mse',\n",
    "              metrics=['mse'])\n",
    "\n",
    "# Model Fit\n",
    "history = model.fit(train_ds,\n",
    "                    validation_data=val_ds,\n",
    "                    epochs=32)"
   ]
  },
  {
   "cell_type": "markdown",
   "id": "0f10a564-3057-4ac8-81d3-4c407b8f9f25",
   "metadata": {},
   "source": [
    "# Categorical Features"
   ]
  },
  {
   "cell_type": "code",
   "execution_count": null,
   "id": "87757688-5d0d-4608-baa8-8835ab9d9bcb",
   "metadata": {},
   "outputs": [],
   "source": [
    "for feature_name in categorical_cols:\n",
    "    vocabulary = housing_df[feature_name].unique()\n",
    "    categorical_c = fc.categorical_column_with_vocabulary_list(feature_name, vocabulary)\n",
    "    one_hot = fc.indicator_column(categorical_c)\n",
    "    feature_columns.append(one_hot)"
   ]
  },
  {
   "cell_type": "markdown",
   "id": "bae88fac-379a-45c6-b903-7b1bade577e1",
   "metadata": {},
   "source": [
    "# Bucketized Feature"
   ]
  },
  {
   "cell_type": "code",
   "execution_count": null,
   "id": "44427bf0-df27-4e61-a6ed-991ff90ea90c",
   "metadata": {},
   "outputs": [],
   "source": [
    "# TODO 2c\n",
    "age = fc.numeric_column(\"housing_median_age\")\n",
    "\n",
    "# Bucketized cols\n",
    "age_buckets = fc.bucketized_column(age, boundaries=[10, 20, 30, 40, 50, 60, 80, 100])\n",
    "feature_columns.append(age_buckets)"
   ]
  },
  {
   "cell_type": "markdown",
   "id": "0d26b256-5f79-443f-9078-b66d1ee436eb",
   "metadata": {},
   "source": [
    "# Feature Cross"
   ]
  },
  {
   "cell_type": "code",
   "execution_count": null,
   "id": "0065f953-758c-4816-a517-3ccd2cf804b4",
   "metadata": {},
   "outputs": [],
   "source": [
    "# TODO 2d\n",
    "vocabulary = housing_df['ocean_proximity'].unique()\n",
    "ocean_proximity = fc.categorical_column_with_vocabulary_list('ocean_proximity',\n",
    "                                                             vocabulary)\n",
    "\n",
    "crossed_feature = fc.crossed_column([age_buckets, ocean_proximity],\n",
    "                                    hash_bucket_size=1000)\n",
    "crossed_feature = fc.indicator_column(crossed_feature)\n",
    "feature_columns.append(crossed_feature)"
   ]
  }
 ],
 "metadata": {
  "kernelspec": {
   "display_name": "Python 3 (ipykernel)",
   "language": "python",
   "name": "python3"
  },
  "language_info": {
   "codemirror_mode": {
    "name": "ipython",
    "version": 3
   },
   "file_extension": ".py",
   "mimetype": "text/x-python",
   "name": "python",
   "nbconvert_exporter": "python",
   "pygments_lexer": "ipython3",
   "version": "3.10.5"
  }
 },
 "nbformat": 4,
 "nbformat_minor": 5
}
