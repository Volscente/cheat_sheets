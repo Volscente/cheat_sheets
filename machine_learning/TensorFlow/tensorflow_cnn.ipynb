{
 "cells": [
  {
   "cell_type": "markdown",
   "id": "d2b9d361-5e4c-40df-9147-88ff6ef58705",
   "metadata": {},
   "source": [
    "# Introduction\n",
    "\n",
    "The notebook is intended to provide an example on how to train a Convolutional Neural Network with TensorFlow."
   ]
  },
  {
   "cell_type": "code",
   "execution_count": 25,
   "id": "8d1e4d6f-eb19-4389-bd5e-850098b119b6",
   "metadata": {},
   "outputs": [],
   "source": [
    "# Import Standard Libraries\n",
    "import os\n",
    "import urllib.request\n",
    "import zipfile\n",
    "\n",
    "from pathlib import Path"
   ]
  },
  {
   "cell_type": "markdown",
   "id": "22625ecb-2e34-464e-99b3-66b15857ea54",
   "metadata": {},
   "source": [
    "# Read Data"
   ]
  },
  {
   "cell_type": "markdown",
   "id": "accfdb0b-80bf-4575-9f6e-7f78fcb68fd4",
   "metadata": {},
   "source": [
    "## Download Data"
   ]
  },
  {
   "cell_type": "code",
   "execution_count": 26,
   "id": "2410089c-2b2b-4c10-9bf3-ee0bd1a3667e",
   "metadata": {},
   "outputs": [],
   "source": [
    "# Define the url\n",
    "cats_dogs_data_url = 'https://storage.googleapis.com/mledu-datasets/cats_and_dogs_filtered.zip'\n",
    "\n",
    "# Define the destination folder\n",
    "cats_dogs_zip_file_path = Path(os.path.abspath('')).parents[1] / 'data' / 'cats_and_dogs_images' / 'cats_and_dogs.zip'"
   ]
  },
  {
   "cell_type": "code",
   "execution_count": 27,
   "id": "d377c12b-b8f0-4bb9-ae92-16b1a22caf61",
   "metadata": {},
   "outputs": [],
   "source": [
    "# Check if data already exists\n",
    "if not cats_dogs_zip_file_path.exists():\n",
    "\n",
    "    # Download data\n",
    "    urllib.request.urlretrieve(cats_dogs_data_url, cats_dogs_zip_file_path)\n",
    "\n",
    "    # Create a ZipFile object for extracting the data\n",
    "    cats_dogs_zip_file = zipfile.ZipFile(cats_dogs_zip_file_path, 'r')\n",
    "\n",
    "    # Extract the data\n",
    "    cats_dogs_zip_file.extractall(cats_dogs_zip_file_path.parents[0].as_posix())\n",
    "\n",
    "    # Close stream\n",
    "    cats_dogs_zip_file.close()"
   ]
  },
  {
   "cell_type": "code",
   "execution_count": null,
   "id": "27f53a58-0483-4edf-ab55-c24a244bcf3f",
   "metadata": {},
   "outputs": [],
   "source": []
  }
 ],
 "metadata": {
  "kernelspec": {
   "display_name": "Python 3 (ipykernel)",
   "language": "python",
   "name": "python3"
  },
  "language_info": {
   "codemirror_mode": {
    "name": "ipython",
    "version": 3
   },
   "file_extension": ".py",
   "mimetype": "text/x-python",
   "name": "python",
   "nbconvert_exporter": "python",
   "pygments_lexer": "ipython3",
   "version": "3.10.5"
  }
 },
 "nbformat": 4,
 "nbformat_minor": 5
}
