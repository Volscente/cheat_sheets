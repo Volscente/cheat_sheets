{
 "cells": [
  {
   "cell_type": "markdown",
   "id": "d2b9d361-5e4c-40df-9147-88ff6ef58705",
   "metadata": {},
   "source": [
    "# Introduction\n",
    "\n",
    "The notebook is intended to provide an example on how to train a Convolutional Neural Network with TensorFlow."
   ]
  },
  {
   "cell_type": "code",
   "execution_count": 25,
   "id": "8d1e4d6f-eb19-4389-bd5e-850098b119b6",
   "metadata": {},
   "outputs": [],
   "source": [
    "# Import Standard Libraries\n",
    "import os\n",
    "import urllib.request\n",
    "import zipfile\n",
    "\n",
    "from pathlib import Path"
   ]
  },
  {
   "cell_type": "markdown",
   "id": "22625ecb-2e34-464e-99b3-66b15857ea54",
   "metadata": {},
   "source": [
    "# Read Data"
   ]
  },
  {
   "cell_type": "markdown",
   "id": "accfdb0b-80bf-4575-9f6e-7f78fcb68fd4",
   "metadata": {},
   "source": [
    "## Download Data"
   ]
  },
  {
   "cell_type": "code",
   "execution_count": 26,
   "id": "2410089c-2b2b-4c10-9bf3-ee0bd1a3667e",
   "metadata": {},
   "outputs": [],
   "source": [
    "# Define the url\n",
    "cats_dogs_data_url = 'https://storage.googleapis.com/mledu-datasets/cats_and_dogs_filtered.zip'\n",
    "\n",
    "# Define the destination folder\n",
    "cats_dogs_zip_file_path = Path(os.path.abspath('')).parents[1] / 'data' / 'cats_and_dogs_images' / 'cats_and_dogs.zip'"
   ]
  },
  {
   "cell_type": "code",
   "execution_count": 27,
   "id": "d377c12b-b8f0-4bb9-ae92-16b1a22caf61",
   "metadata": {},
   "outputs": [],
   "source": [
    "# Check if data already exists\n",
    "if not cats_dogs_zip_file_path.exists():\n",
    "\n",
    "    # Download data\n",
    "    urllib.request.urlretrieve(cats_dogs_data_url, cats_dogs_zip_file_path)\n",
    "\n",
    "    # Create a ZipFile object for extracting the data\n",
    "    cats_dogs_zip_file = zipfile.ZipFile(cats_dogs_zip_file_path, 'r')\n",
    "\n",
    "    # Extract the data\n",
    "    cats_dogs_zip_file.extractall(cats_dogs_zip_file_path.parents[0].as_posix())\n",
    "\n",
    "    # Close stream\n",
    "    cats_dogs_zip_file.close()"
   ]
  },
  {
   "cell_type": "markdown",
   "id": "35b1522a-9911-4e41-ad8d-7227d7dbda81",
   "metadata": {},
   "source": [
    "## Define the Data Paths"
   ]
  },
  {
   "cell_type": "code",
   "execution_count": 30,
   "id": "f6c0c5d9-56dc-44ec-9bdb-e6a57856b115",
   "metadata": {},
   "outputs": [
    {
     "data": {
      "text/plain": [
       "PosixPath('/Users/s.porreca/Projects/cheat_sheets/data/cats_and_dogs_images/cats_and_dogs_filtered/train')"
      ]
     },
     "execution_count": 30,
     "metadata": {},
     "output_type": "execute_result"
    }
   ],
   "source": [
    "cats_dogs_zip_file_path.parents[0] / 'cats_and_dogs_filtered' / 'train'"
   ]
  },
  {
   "cell_type": "code",
   "execution_count": 33,
   "id": "c7c72c40-4f04-4516-acc7-26a2e393fd0d",
   "metadata": {},
   "outputs": [],
   "source": [
    "# Define train and validation paths\n",
    "train_dir = cats_dogs_zip_file_path.parents[0] / 'cats_and_dogs_filtered' / 'train'\n",
    "validation_dir = cats_dogs_zip_file_path.parents[0] / 'cats_and_dogs_filtered' / 'validation'\n",
    "\n",
    "# Define train paths\n",
    "cats_train_dir = train_dir / 'cats'\n",
    "dogs_train_dir = train_dir / 'dogs'\n",
    "\n",
    "# Define validation paths\n",
    "cats_validation_dir = validation_dir / 'cats'\n",
    "dogs_validation_dir = validation_dir / 'dogs'"
   ]
  },
  {
   "cell_type": "code",
   "execution_count": 34,
   "id": "bbeff90e-4df7-450e-965d-afb667423cee",
   "metadata": {},
   "outputs": [
    {
     "name": "stdout",
     "output_type": "stream",
     "text": [
      "Total training cat images:  1000\n",
      "Total training dog images:  1000\n",
      "Total validation cat images:  500\n",
      "Total validation dog images:  500\n"
     ]
    }
   ],
   "source": [
    "print('Total training cat images: ', len(os.listdir(cats_train_dir)))\n",
    "print('Total training dog images: ', len(os.listdir(dogs_train_dir)))\n",
    "\n",
    "print('Total validation cat images: ', len(os.listdir(cats_validation_dir)))\n",
    "print('Total validation dog images: ', len(os.listdir(dogs_validation_dir)))"
   ]
  },
  {
   "cell_type": "code",
   "execution_count": null,
   "id": "0351343f-3eb6-46c6-86a9-249f120ae456",
   "metadata": {},
   "outputs": [],
   "source": []
  }
 ],
 "metadata": {
  "kernelspec": {
   "display_name": "Python 3 (ipykernel)",
   "language": "python",
   "name": "python3"
  },
  "language_info": {
   "codemirror_mode": {
    "name": "ipython",
    "version": 3
   },
   "file_extension": ".py",
   "mimetype": "text/x-python",
   "name": "python",
   "nbconvert_exporter": "python",
   "pygments_lexer": "ipython3",
   "version": "3.10.5"
  }
 },
 "nbformat": 4,
 "nbformat_minor": 5
}
