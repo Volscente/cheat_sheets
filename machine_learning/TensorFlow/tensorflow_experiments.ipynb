{
 "cells": [
  {
   "cell_type": "markdown",
   "id": "1b86efb9-e5da-4904-9cda-739b08053443",
   "metadata": {},
   "source": [
    "# Introduction\n",
    "The notebook is intended to experiment with the different TensorFlow APIs"
   ]
  },
  {
   "cell_type": "code",
   "execution_count": 12,
   "id": "1ce2cacb-a45c-471d-bc46-a28743cb89ea",
   "metadata": {},
   "outputs": [],
   "source": [
    "# Import Standard Libraries\n",
    "import os\n",
    "import numpy as np\n",
    "import tensorflow as tf\n",
    "\n",
    "# Suppress warnings\n",
    "os.environ['TF_CPP_MIN_LOG_LEVEL'] = '3'"
   ]
  },
  {
   "cell_type": "markdown",
   "id": "5cefb6a3-8d26-4616-8dcd-6c8eaae13af8",
   "metadata": {},
   "source": [
    "# Read Data"
   ]
  },
  {
   "cell_type": "code",
   "execution_count": 4,
   "id": "0d6df178-17bc-4a14-93dd-6981b16a17b3",
   "metadata": {},
   "outputs": [],
   "source": [
    "# Define a dataset\n",
    "X = tf.constant(range(10), dtype=tf.float32)\n",
    "Y = 2 * X + 10"
   ]
  },
  {
   "cell_type": "markdown",
   "id": "f20444ff-7e89-4f20-bf59-f63f50360545",
   "metadata": {},
   "source": [
    "# Dataset API"
   ]
  },
  {
   "cell_type": "code",
   "execution_count": 8,
   "id": "f0272685-6353-49eb-8214-d145e6801113",
   "metadata": {},
   "outputs": [],
   "source": [
    "# Create a dataset\n",
    "dataset = tf.data.Dataset.from_tensor_slices((X, Y))"
   ]
  },
  {
   "cell_type": "code",
   "execution_count": 13,
   "id": "625edc2f-8d0b-499c-9eef-c505d6fa9c53",
   "metadata": {},
   "outputs": [
    {
     "name": "stdout",
     "output_type": "stream",
     "text": [
      "0.0 - 10.0\n",
      "1.0 - 12.0\n",
      "2.0 - 14.0\n",
      "3.0 - 16.0\n",
      "4.0 - 18.0\n",
      "5.0 - 20.0\n",
      "6.0 - 22.0\n",
      "7.0 - 24.0\n",
      "8.0 - 26.0\n",
      "9.0 - 28.0\n"
     ]
    }
   ],
   "source": [
    "for x, y in dataset:\n",
    "    print(f'{x} - {y}')"
   ]
  },
  {
   "cell_type": "code",
   "execution_count": null,
   "id": "011f7eae-cf0b-460d-a3e2-8f855e2b077c",
   "metadata": {},
   "outputs": [],
   "source": []
  }
 ],
 "metadata": {
  "kernelspec": {
   "display_name": "Python 3 (ipykernel)",
   "language": "python",
   "name": "python3"
  },
  "language_info": {
   "codemirror_mode": {
    "name": "ipython",
    "version": 3
   },
   "file_extension": ".py",
   "mimetype": "text/x-python",
   "name": "python",
   "nbconvert_exporter": "python",
   "pygments_lexer": "ipython3",
   "version": "3.10.5"
  }
 },
 "nbformat": 4,
 "nbformat_minor": 5
}
