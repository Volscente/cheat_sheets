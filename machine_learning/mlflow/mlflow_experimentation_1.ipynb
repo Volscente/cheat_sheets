{
 "cells": [
  {
   "cell_type": "markdown",
   "id": "f38e528f-614c-46c9-894b-86d81e9c91c6",
   "metadata": {},
   "source": [
    "# Introduction\n",
    "\n",
    "Experiment with MLflow from this [Video Tutorial](https://www.youtube.com/watch?v=WbicniUy_u0)."
   ]
  },
  {
   "cell_type": "code",
   "execution_count": 1,
   "id": "9852a18e-3ab5-4476-b9d9-37159d5b7ed7",
   "metadata": {},
   "outputs": [
    {
     "name": "stdout",
     "output_type": "stream",
     "text": [
      "MLflow Version:  2.2.2\n"
     ]
    }
   ],
   "source": [
    "# Import Standard Libraries\n",
    "import mlflow\n",
    "\n",
    "print('MLflow Version: ', mlflow.version.VERSION)"
   ]
  },
  {
   "cell_type": "code",
   "execution_count": null,
   "id": "77b29473-f821-46cb-ad3e-146f11027ef5",
   "metadata": {},
   "outputs": [],
   "source": []
  }
 ],
 "metadata": {
  "kernelspec": {
   "display_name": "Python 3 (ipykernel)",
   "language": "python",
   "name": "python3"
  },
  "language_info": {
   "codemirror_mode": {
    "name": "ipython",
    "version": 3
   },
   "file_extension": ".py",
   "mimetype": "text/x-python",
   "name": "python",
   "nbconvert_exporter": "python",
   "pygments_lexer": "ipython3",
   "version": "3.10.5"
  }
 },
 "nbformat": 4,
 "nbformat_minor": 5
}
